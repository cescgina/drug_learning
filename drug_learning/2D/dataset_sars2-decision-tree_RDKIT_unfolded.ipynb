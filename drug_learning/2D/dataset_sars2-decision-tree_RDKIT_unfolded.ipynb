{
 "cells": [
  {
   "cell_type": "code",
   "execution_count": 3,
   "metadata": {},
   "outputs": [],
   "source": [
    "%matplotlib inline\n",
    "import os\n",
    "import numpy as np\n",
    "import pandas as pd\n",
    "import tensorflow as tf\n",
    "import seaborn as sns\n",
    "import matplotlib\n",
    "import matplotlib.pyplot as plt\n",
    "import scipy.stats as stats\n",
    "from scipy.sparse import csr_matrix\n",
    "from scipy.sparse import vstack as sparse_vstack\n",
    "from collections import Counter\n",
    "from rdkit import Chem\n",
    "from rdkit.Chem import AllChem\n",
    "from rdkit.Chem import MACCSkeys\n",
    "from rdkit.Chem import DataStructs\n",
    "from rdkit.Chem import rdMolDescriptors\n",
    "from rdkit.Chem.Draw import IPythonConsole\n",
    "from rdkit.Chem import Draw\n",
    "from rdkit.SimDivFilters.rdSimDivPickers import MaxMinPicker\n",
    "from itertools import product, compress\n",
    "from sklearn.svm import SVC\n",
    "from sklearn.feature_selection import SelectPercentile, SelectKBest\n",
    "from sklearn.feature_selection import chi2, mutual_info_classif\n",
    "from sklearn.tree import DecisionTreeClassifier\n",
    "from sklearn.metrics import auc, roc_curve\n",
    "from sklearn.metrics import confusion_matrix\n",
    "from sklearn.ensemble import RandomForestClassifier\n",
    "from sklearn.model_selection import StratifiedKFold\n",
    "from tensorboard.plugins.hparams import api as hp\n",
    "from sklearn.model_selection import train_test_split\n",
    "matplotlib.rcParams.update({'font.size': 24})\n",
    "plt.style.use(\"ggplot\")\n",
    "\n",
    "PATH_DATA = \"../datasets/SARS2/\"\n",
    "PATH_DATA_GHDDI = \"../datasets/SAR1/GHDDI\""
   ]
  },
  {
   "cell_type": "code",
   "execution_count": 88,
   "metadata": {},
   "outputs": [],
   "source": [
    "def get_features_RDKIT_unfolded(input_sdf):\n",
    "    structures_shared = Chem.SDMolSupplier(input_sdf)\n",
    "    bits = {}\n",
    "    fps = {}\n",
    "    fps_folded = {}\n",
    "    mols = {}\n",
    "    error_mols = 0\n",
    "    mol_names = set()\n",
    "    bits = {}\n",
    "    for mol in structures_shared:\n",
    "        if mol is None:\n",
    "            error_mols += 1\n",
    "            continue\n",
    "        if mol.GetProp(\"_Name\") in mol_names:\n",
    "            continue\n",
    "        name = int(mol.GetProp(\"_Name\"))\n",
    "        mol_names.add(name)\n",
    "        AllChem.Compute2DCoords(mol)\n",
    "        key = Chem.inchi.MolToInchiKey(mol)\n",
    "        if (name, key) not in bits:\n",
    "            # dictionary in the form bit: list of bonds\n",
    "            bit_mol = {}\n",
    "            fp = Chem.rdmolops.UnfoldedRDKFingerprintCountBased(mol,bitInfo=bit_mol)           \n",
    "            fps[(name, key)] = fp.GetNonzeroElements()\n",
    "            mols[(name, key)] = mol\n",
    "            bits[(name, key)] = bit_mol\n",
    "            fps_folded[(name, key)] = Chem.RDKFingerprint(mol)\n",
    "            if str(name) in ['882', '11140', '3813', '6967', '10385', '11361', '3564', '10231', '14460', '10420', '11326', '5489', '5207', '6475']:\n",
    "                max_val = -1\n",
    "                for sublist in bit_mol[1781510256]:\n",
    "                    max_val = max(max_val, max(sublist))\n",
    "                if max_val >= mol.GetNumAtoms():\n",
    "                    print(name, mol.GetNumAtoms(), max_val, key)\n",
    "    print(f\"Found problems in {error_mols} molecules\")\n",
    "    return fps, mols, bits, fps_folded\n",
    "    # return fps, bits, mols, bits\n",
    "\n",
    "def get_molecules_from_data(fps_folded, bits, fps, mols, data, id_column=\"Molecule_ID\", structure_column=\"Standardized_Molecule_InChIKey\", smiles_columns=\"Standardized_Molecule_Smiles\", only_exact_matches=True, threshold_similarity=0.99):\n",
    "    mol_ids = data[id_column]\n",
    "    keys = data[structure_column]\n",
    "    filtered_fps = []\n",
    "    filtered_mols = []\n",
    "    filtered_bits = []\n",
    "    mask = []\n",
    "    unfound_structures = Chem.SDWriter(os.path.join(PATH_DATA, \"molecules_missing.sdf\"))\n",
    "    for id_val in zip(mol_ids, keys):\n",
    "        if id_val in bits:\n",
    "            mask.append(True)\n",
    "            filtered_bits.append(bits[id_val])\n",
    "            filtered_fps.append(fps[id_val])\n",
    "            filtered_mols.append(mols[id_val])\n",
    "        else:\n",
    "            similar_mols = [k for k in bits if k[0] == id_val[0]]\n",
    "            if not similar_mols:\n",
    "                print(\"Could not find molecules with id\", id_val[0])\n",
    "                mask.append(False)\n",
    "                continue\n",
    "            if only_exact_matches:\n",
    "                mask.append(False)\n",
    "                print(id_val)\n",
    "                print(similar_mols)\n",
    "            else:\n",
    "                fps_similars = [fps_folded[k] for k in similar_mols]\n",
    "                smiles = data[(data[id_column] == id_val[0]) & (data[structure_column] == id_val[1])][smiles_columns].values[0]\n",
    "                mol = Chem.MolFromSmiles(smiles)\n",
    "                if mol is None:\n",
    "                    if len(similar_mols) == 1:\n",
    "                        mask.append(True)\n",
    "                        filtered_bits.append(bits[similar_mols[0]])\n",
    "                        filtered_fps.append(fps[similar_mols[0]])\n",
    "                        filtered_mols.append(mols[similar_mols[0]])\n",
    "                        continue\n",
    "                    else:\n",
    "                        mask.append(False)\n",
    "                        print(\"Could not create molecule\", id_val, \"with smiles\", smiles, \"most similar\", similar_mols)\n",
    "                        continue\n",
    "                mol.SetProp(\"_Name\", str(id_val[0]))\n",
    "                fp_mol = Chem.RDKFingerprint(mol)\n",
    "                similarities = [DataStructs.TanimotoSimilarity(fp_mol, fp_possible) for fp_possible in fps_similars]\n",
    "                # print(id_val)\n",
    "                # print(\"Most similar molecules:\")\n",
    "                # for ids, sim in zip(similar_mols, similarities):\n",
    "                    # print(\"\\t\", ids, sim)\n",
    "                most_similar = np.argmax(similarities)\n",
    "                if similarities[most_similar] > threshold_similarity:\n",
    "                    # print(\"Selected: \", similar_mols[most_similar], similarities[most_similar])\n",
    "                    mask.append(True)\n",
    "                    filtered_bits.append(bits[similar_mols[most_similar]])\n",
    "                    filtered_fps.append(fps[similar_mols[most_similar]])\n",
    "                    filtered_mols.append(mols[similar_mols[most_similar]])\n",
    "                else:\n",
    "                    unfound_structures.write(mol)\n",
    "                    print(id_val)\n",
    "                    for ids, sim in zip(similar_mols, similarities):\n",
    "                        print(\"\\t\", ids, sim)\n",
    "                    mask.append(False)\n",
    "    return filtered_bits, filtered_fps, filtered_mols, mask\n",
    "\n",
    "def convert_IC50_to_um(data, col_values, col_units):\n",
    "    new_vals = []\n",
    "    for val, unit in zip(data[col_values], data[col_units]):\n",
    "        if unit == \"nM\":\n",
    "            new_vals.append(val/1000)\n",
    "        elif unit == \"µM\":\n",
    "            new_vals.append(val)\n",
    "        else:\n",
    "            raise ValueError(f\"{unit} unit not found!\")\n",
    "    data[col_values] = new_vals\n",
    "    data[col_units] = \"µM\"\n",
    "    return data\n",
    "\n",
    "def filter_duplicates(data, col_id, col_structure):\n",
    "    dup = data.duplicated(subset=[col_id, col_structure], keep=False)\n",
    "    to_remove = []\n",
    "    for id_val in data[dup][col_id].unique():\n",
    "        dup_data = data[data[col_id] == id_val]\n",
    "        if len(set(dup_data[\"Is_active\"])) != 1:\n",
    "            to_remove.append(id_val)\n",
    "    rm_masks = data[col_id].isin(to_remove)\n",
    "    data = data[~rm_masks]\n",
    "    return data, rm_masks"
   ]
  },
  {
   "cell_type": "code",
   "execution_count": 89,
   "metadata": {
    "scrolled": true
   },
   "outputs": [
    {
     "name": "stdout",
     "output_type": "stream",
     "text": [
      "10231 32 33 XIYOPDCBBDCGOE-UHFFFAOYSA-M\n",
      "10385 17 17 NQFBZYYUAFJYNS-FPLPWBNLSA-N\n",
      "10385 17 17 NQFBZYYUAFJYNS-FPLPWBNLSA-M\n",
      "10420 27 27 MSHZHSPISPJWHW-UHFFFAOYSA-N\n",
      "11140 17 17 WQYRHRAZNNRDIA-UHFFFAOYSA-N\n",
      "11326 34 37 ZWVZORIKUNOTCS-UHFFFAOYSA-N\n"
     ]
    },
    {
     "name": "stderr",
     "output_type": "stream",
     "text": [
      "RDKit WARNING: [11:30:36] Warning: molecule is tagged as 3D, but all Z coords are zero\n",
      "RDKit ERROR: [11:25:28] \n",
      "RDKit ERROR: \n",
      "RDKit ERROR: ****\n",
      "RDKit ERROR: Range Error\n",
      "RDKit ERROR: idx2\n",
      "RDKit ERROR: Violation occurred on line 339 in file /opt/conda/conda-bld/rdkit_1591929907781/work/Code/GraphMol/ROMol.cpp\n",
      "RDKit ERROR: Failed Expression: 54 < 54\n",
      "RDKit ERROR: ****\n",
      "RDKit ERROR: \n",
      "RDKit ERROR: [11:30:36] Explicit valence for atom # 1 C greater than permitted\n",
      "RDKit ERROR: [11:30:36] ERROR: Could not sanitize molecule ending on line 15167\n",
      "RDKit ERROR: [11:30:36] ERROR: Explicit valence for atom # 1 C greater than permitted\n",
      "RDKit ERROR: [11:30:36] Explicit valence for atom # 1 C greater than permitted\n",
      "RDKit ERROR: [11:30:36] ERROR: Could not sanitize molecule ending on line 15269\n",
      "RDKit ERROR: [11:30:36] ERROR: Explicit valence for atom # 1 C greater than permitted\n",
      "RDKit ERROR: [11:30:36] Explicit valence for atom # 1 C greater than permitted\n",
      "RDKit ERROR: [11:30:36] ERROR: Could not sanitize molecule ending on line 15371\n",
      "RDKit ERROR: [11:30:36] ERROR: Explicit valence for atom # 1 C greater than permitted\n",
      "RDKit ERROR: [11:30:36] Explicit valence for atom # 1 C greater than permitted\n",
      "RDKit ERROR: [11:30:36] ERROR: Could not sanitize molecule ending on line 15473\n",
      "RDKit ERROR: [11:30:36] ERROR: Explicit valence for atom # 1 C greater than permitted\n",
      "RDKit ERROR: [11:30:36] Invalid InChI prefix in generating InChI Key\n",
      "RDKit ERROR: [11:30:36] Invalid InChI prefix in generating InChI Key\n",
      "RDKit ERROR: [11:30:36] Explicit valence for atom # 4 N, 4, is greater than permitted\n",
      "RDKit ERROR: [11:30:36] ERROR: Could not sanitize molecule ending on line 17602\n"
     ]
    },
    {
     "name": "stdout",
     "output_type": "stream",
     "text": [
      "11361 49 50 APSUXPSYBJVPPS-UHFFFAOYSA-P\n",
      "11361 49 50 APSUXPSYBJVPPS-UHFFFAOYSA-O\n"
     ]
    },
    {
     "name": "stderr",
     "output_type": "stream",
     "text": [
      "RDKit WARNING: [11:30:36] Warning: molecule is tagged as 3D, but all Z coords are zero\n",
      "RDKit WARNING: [11:30:36] Warning: molecule is tagged as 3D, but all Z coords are zero\n",
      "RDKit WARNING: [11:30:36] Warning: molecule is tagged as 3D, but all Z coords are zero\n",
      "RDKit WARNING: [11:30:36] Warning: molecule is tagged as 3D, but all Z coords are zero\n",
      "RDKit ERROR: [11:30:36] ERROR: Explicit valence for atom # 4 N, 4, is greater than permitted\n",
      "RDKit ERROR: [11:30:36] Explicit valence for atom # 16 N, 4, is greater than permitted\n",
      "RDKit ERROR: [11:30:36] ERROR: Could not sanitize molecule ending on line 22842\n",
      "RDKit ERROR: [11:30:36] ERROR: Explicit valence for atom # 16 N, 4, is greater than permitted\n",
      "RDKit ERROR: [11:30:36] Explicit valence for atom # 16 N, 4, is greater than permitted\n",
      "RDKit ERROR: [11:30:36] ERROR: Could not sanitize molecule ending on line 23015\n",
      "RDKit WARNING: [11:30:36] Warning: molecule is tagged as 3D, but all Z coords are zero\n",
      "RDKit ERROR: [11:30:36] ERROR: Explicit valence for atom # 16 N, 4, is greater than permitted\n",
      "RDKit ERROR: [11:30:36] Explicit valence for atom # 12 N, 4, is greater than permitted\n",
      "RDKit ERROR: [11:30:36] ERROR: Could not sanitize molecule ending on line 24500\n",
      "RDKit WARNING: [11:30:36] Warning: molecule is tagged as 3D, but all Z coords are zero\n",
      "RDKit WARNING: [11:30:36] Warning: molecule is tagged as 3D, but all Z coords are zero\n",
      "RDKit WARNING: [11:30:36] Warning: molecule is tagged as 3D, but all Z coords are zero\n"
     ]
    },
    {
     "name": "stdout",
     "output_type": "stream",
     "text": [
      "882 54 56 OBMJQRLIQQTJLR-JRZNSJKLSA-O\n",
      "3564 49 50 RICZEKWVNZFTNZ-UHFFFAOYSA-N\n",
      "5489 12 12 JODIPZDLNMXGNX-UHFFFAOYSA-N\n",
      "6475 19 19 BMKDZUISNHGIBY-UHFFFAOYSA-O\n",
      "3813 32 34 QRXMDRCGEMIHER-UHFFFAOYSA-O\n",
      "3813 32 34 QRXMDRCGEMIHER-UHFFFAOYSA-N\n",
      "3813 32 34 ALKJNCZNEOTEMP-UHFFFAOYSA-O\n",
      "5207 19 19 BMKDZUISNHGIBY-UHFFFAOYSA-O\n"
     ]
    },
    {
     "name": "stderr",
     "output_type": "stream",
     "text": [
      "RDKit WARNING: [11:30:37] Warning: molecule is tagged as 3D, but all Z coords are zero\n",
      "RDKit WARNING: [11:30:37] Warning: molecule is tagged as 3D, but all Z coords are zero\n",
      "RDKit WARNING: [11:30:37] Warning: molecule is tagged as 3D, but all Z coords are zero\n",
      "RDKit WARNING: [11:30:37] Warning: molecule is tagged as 3D, but all Z coords are zero\n",
      "RDKit WARNING: [11:30:37] Warning: molecule is tagged as 3D, but all Z coords are zero\n",
      "RDKit WARNING: [11:30:37] Warning: molecule is tagged as 3D, but all Z coords are zero\n"
     ]
    },
    {
     "name": "stdout",
     "output_type": "stream",
     "text": [
      "6967 52 52 PKCCKSDNAOBTCF-QGCBMQFQSA-N\n",
      "14460 57 61 GBABOYUKABKIAF-UHFFFAOYSA-P\n",
      "14460 57 61 GBABOYUKABKIAF-UHFFFAOYSA-O\n",
      "Found problems in 8 molecules\n"
     ]
    }
   ],
   "source": [
    "fps_SARS2, mols_SARS2, bits_SARS2, fps_folded_SARS2 = get_features_RDKIT_unfolded(os.path.join(PATH_DATA, \"SIM_Broad_MProResults_ligprep_maestro.sd\"))"
   ]
  },
  {
   "cell_type": "code",
   "execution_count": 62,
   "metadata": {},
   "outputs": [],
   "source": [
    "id_test = (9926, 'RFWGABANNQMHMZ-DXNYSGJVSA-N')\n",
    "a = fps_SARS2[id_test]\n",
    "#a.GetLength(), len(a.GetNonzeroElements())"
   ]
  },
  {
   "cell_type": "code",
   "execution_count": 63,
   "metadata": {},
   "outputs": [],
   "source": [
    "threshold_activity = 20 # uM\n",
    "data_orig_broad = pd.read_csv(os.path.join(PATH_DATA, \"20200623_3CLpro_Hits_Broad_DOMPE_Summary-broad.csv\"), decimal=\",\")"
   ]
  },
  {
   "cell_type": "code",
   "execution_count": 64,
   "metadata": {},
   "outputs": [],
   "source": [
    "data_orig_dompe = pd.read_csv(os.path.join(PATH_DATA, \"20200623_3CLpro_Hits_Broad_DOMPE_Summary-dompe.csv\"), decimal=\",\")\n",
    "data_orig_broad = data_orig_broad.rename(columns={\"NAME\": \"Name\",\n",
    "                                                  \"3CL-Pro IC50-15min (µM) (triplicates)\": \"IC50 µM 15 min\",\n",
    "                                                  \"3CLpro\\n IC50 slope (µM) (triplicates)\": \"IC50 µM slope\"})\n",
    "data_orig_dompe = data_orig_dompe.rename(columns={\"IC50 µM\\n 15 min\\n (red manually confirmed)\": \"IC50 µM 15 min\",\n",
    "                                                  \"IC50 µM\\n slope\\n (red manually confirmed)\": \"IC50 µM slope\"})\n",
    "data_SARS2 = pd.concat([data_orig_broad, data_orig_dompe])\n",
    "\n",
    "correspondance_broad = pd.read_csv(os.path.join(PATH_DATA, \"DOMPE_Broad_MProResults_IDCorrespondence_broad.csv\"), decimal=\",\")\n",
    "correspondance_broad = correspondance_broad.rename(columns={\"Molecule_id\": \"Molecule_ID\"})\n",
    "correspondance_dompe = pd.read_csv(os.path.join(PATH_DATA, \"DOMPE_Broad_MProResults_IDCorrespondence_dompe.csv\"), decimal=\",\")\n",
    "correspondance = pd.concat([correspondance_broad, correspondance_dompe])\n",
    "correspondance = correspondance.rename(columns={\"Fraunofer Compound Id\": \"Compound Id\"})\n",
    "data_SARS2 = data_SARS2.merge(correspondance, how=\"inner\", on=\"Compound Id\")"
   ]
  },
  {
   "cell_type": "code",
   "execution_count": 65,
   "metadata": {},
   "outputs": [
    {
     "name": "stdout",
     "output_type": "stream",
     "text": [
      "(191, 32)\n"
     ]
    }
   ],
   "source": [
    "data_SARS2[\"Is_active\"] = (data_SARS2[\"IC50 µM 15 min\"] < threshold_activity).values.astype(int)\n",
    "print(data_SARS2.shape)"
   ]
  },
  {
   "cell_type": "code",
   "execution_count": 66,
   "metadata": {},
   "outputs": [
    {
     "name": "stdout",
     "output_type": "stream",
     "text": [
      "Found 10 duplicated entries\n",
      "(181, 32)\n"
     ]
    }
   ],
   "source": [
    "dup = data_SARS2.duplicated(subset=[\"Molecule_ID\", \"Standardized_Molecule_InChIKey\"], keep=\"first\")\n",
    "print(f\"Found {sum(dup)} duplicated entries\")\n",
    "all_dup = data_SARS2.duplicated(subset=[\"Molecule_ID\", \"Standardized_Molecule_InChIKey\"], keep=False)\n",
    "data_SARS2 = data_SARS2[~dup]\n",
    "print(data_SARS2.shape)"
   ]
  },
  {
   "cell_type": "code",
   "execution_count": 67,
   "metadata": {},
   "outputs": [
    {
     "name": "stderr",
     "output_type": "stream",
     "text": [
      "/home/jfrancesc/miniconda3/envs/drug_learning/lib/python3.7/site-packages/ipykernel_launcher.py:1: UserWarning: Boolean Series key will be reindexed to match DataFrame index.\n",
      "  \"\"\"Entry point for launching an IPython kernel.\n"
     ]
    },
    {
     "data": {
      "text/html": [
       "<div>\n",
       "<style scoped>\n",
       "    .dataframe tbody tr th:only-of-type {\n",
       "        vertical-align: middle;\n",
       "    }\n",
       "\n",
       "    .dataframe tbody tr th {\n",
       "        vertical-align: top;\n",
       "    }\n",
       "\n",
       "    .dataframe thead th {\n",
       "        text-align: right;\n",
       "    }\n",
       "</style>\n",
       "<table border=\"1\" class=\"dataframe\">\n",
       "  <thead>\n",
       "    <tr style=\"text-align: right;\">\n",
       "      <th></th>\n",
       "      <th>Compound Id</th>\n",
       "      <th>Name</th>\n",
       "      <th>DTT sensitivity (if &gt; 30 % loss of activity at 20 µM)</th>\n",
       "      <th>Inhibition [%] Primary Screen (single point; 20 µM)</th>\n",
       "      <th>HC\\nInhibition [%] (triplicate, 20 µM)</th>\n",
       "      <th>HC\\n AV Inhibition [%] (triplicate, 20 µM)\\nslope</th>\n",
       "      <th>AV inhibition +DTT 15min \\nduplicates</th>\n",
       "      <th>IC50 µM 15 min</th>\n",
       "      <th>IC50 µM slope</th>\n",
       "      <th>%inhibition_d03-KU_LW</th>\n",
       "      <th>...</th>\n",
       "      <th>AV Inhibiton\\n 15min</th>\n",
       "      <th>%Inhibition\\n_slope PS</th>\n",
       "      <th>%Inhibition\\n_15min PS</th>\n",
       "      <th>VeroE6% \\nConfluence_d03</th>\n",
       "      <th>VeroE6 % \\nInhibition_d03</th>\n",
       "      <th>Chemically reactive?</th>\n",
       "      <th>Molecule_ID</th>\n",
       "      <th>Standardized_Molecule_InChIKey</th>\n",
       "      <th>Standardized_Molecule_Smiles</th>\n",
       "      <th>Is_active</th>\n",
       "    </tr>\n",
       "  </thead>\n",
       "  <tbody>\n",
       "    <tr>\n",
       "      <th>8</th>\n",
       "      <td>SPE_K81330143</td>\n",
       "      <td>Tideglusib</td>\n",
       "      <td>sensitiv</td>\n",
       "      <td>90.94</td>\n",
       "      <td>99.30</td>\n",
       "      <td>99.28</td>\n",
       "      <td>-4.89</td>\n",
       "      <td>0.15</td>\n",
       "      <td>0.14</td>\n",
       "      <td>-3.46</td>\n",
       "      <td>...</td>\n",
       "      <td>NaN</td>\n",
       "      <td>NaN</td>\n",
       "      <td>NaN</td>\n",
       "      <td>NaN</td>\n",
       "      <td>NaN</td>\n",
       "      <td>NaN</td>\n",
       "      <td>3878</td>\n",
       "      <td>PMJIHLSCWIDGMD-UHFFFAOYSA-N</td>\n",
       "      <td>O=C1SN(C(=O)N1Cc2ccccc2)c3cccc4ccccc34</td>\n",
       "      <td>1</td>\n",
       "    </tr>\n",
       "    <tr>\n",
       "      <th>9</th>\n",
       "      <td>SPE_K34149328</td>\n",
       "      <td>bonaphthone</td>\n",
       "      <td>sensitiv</td>\n",
       "      <td>95.47</td>\n",
       "      <td>99.37</td>\n",
       "      <td>100.31</td>\n",
       "      <td>37.44</td>\n",
       "      <td>0.16</td>\n",
       "      <td>0.38</td>\n",
       "      <td>-1.01</td>\n",
       "      <td>...</td>\n",
       "      <td>NaN</td>\n",
       "      <td>NaN</td>\n",
       "      <td>NaN</td>\n",
       "      <td>NaN</td>\n",
       "      <td>NaN</td>\n",
       "      <td>NaN</td>\n",
       "      <td>4448</td>\n",
       "      <td>MXWZRRPNVLCHMY-UHFFFAOYSA-N</td>\n",
       "      <td>Brc1ccc2C(=O)C(=O)C=Cc2c1</td>\n",
       "      <td>1</td>\n",
       "    </tr>\n",
       "    <tr>\n",
       "      <th>30</th>\n",
       "      <td>SPE_K86972824</td>\n",
       "      <td>OLTIPRAZ</td>\n",
       "      <td>sensitiv</td>\n",
       "      <td>93.83</td>\n",
       "      <td>97.56</td>\n",
       "      <td>101.75</td>\n",
       "      <td>1.56</td>\n",
       "      <td>0.62</td>\n",
       "      <td>1.44</td>\n",
       "      <td>6.11</td>\n",
       "      <td>...</td>\n",
       "      <td>NaN</td>\n",
       "      <td>NaN</td>\n",
       "      <td>NaN</td>\n",
       "      <td>NaN</td>\n",
       "      <td>NaN</td>\n",
       "      <td>NaN</td>\n",
       "      <td>8437</td>\n",
       "      <td>CKNAQFVBEHDJQV-UHFFFAOYSA-N</td>\n",
       "      <td>CC1=C(SSC1=S)c2cnccn2</td>\n",
       "      <td>1</td>\n",
       "    </tr>\n",
       "    <tr>\n",
       "      <th>33</th>\n",
       "      <td>SPE_K55591206</td>\n",
       "      <td>(-)-Epigallocatechin Gallate</td>\n",
       "      <td>sensitiv</td>\n",
       "      <td>95.26</td>\n",
       "      <td>98.89</td>\n",
       "      <td>97.04</td>\n",
       "      <td>-22.36</td>\n",
       "      <td>0.72</td>\n",
       "      <td>1.29</td>\n",
       "      <td>-1.41</td>\n",
       "      <td>...</td>\n",
       "      <td>NaN</td>\n",
       "      <td>NaN</td>\n",
       "      <td>NaN</td>\n",
       "      <td>NaN</td>\n",
       "      <td>NaN</td>\n",
       "      <td>NaN</td>\n",
       "      <td>522</td>\n",
       "      <td>WMBWREPUVVBILR-WIYYLYMNSA-N</td>\n",
       "      <td>Oc1cc(O)c2C[C@@H](OC(=O)c3cc(O)c(O)c(O)c3)[C@H...</td>\n",
       "      <td>1</td>\n",
       "    </tr>\n",
       "    <tr>\n",
       "      <th>38</th>\n",
       "      <td>SPE_K68408467</td>\n",
       "      <td>PROFLAVINE HEMISULFATE</td>\n",
       "      <td>sensitiv</td>\n",
       "      <td>60.89</td>\n",
       "      <td>76.55</td>\n",
       "      <td>99.87</td>\n",
       "      <td>20.41</td>\n",
       "      <td>0.83</td>\n",
       "      <td>2.02</td>\n",
       "      <td>19.09</td>\n",
       "      <td>...</td>\n",
       "      <td>NaN</td>\n",
       "      <td>NaN</td>\n",
       "      <td>NaN</td>\n",
       "      <td>NaN</td>\n",
       "      <td>NaN</td>\n",
       "      <td>NaN</td>\n",
       "      <td>6835</td>\n",
       "      <td>WDVSHHCDHLJJJR-UHFFFAOYSA-N</td>\n",
       "      <td>Nc1ccc2cc3ccc(N)cc3nc2c1</td>\n",
       "      <td>1</td>\n",
       "    </tr>\n",
       "    <tr>\n",
       "      <th>58</th>\n",
       "      <td>SPE_M87138257</td>\n",
       "      <td>Acriflavine hydrochloride</td>\n",
       "      <td>Acriflavine hydrochloride</td>\n",
       "      <td>59.00</td>\n",
       "      <td>67.97</td>\n",
       "      <td>99.10</td>\n",
       "      <td>68.22</td>\n",
       "      <td>1.93</td>\n",
       "      <td>5.10</td>\n",
       "      <td>-26.74</td>\n",
       "      <td>...</td>\n",
       "      <td>NaN</td>\n",
       "      <td>NaN</td>\n",
       "      <td>NaN</td>\n",
       "      <td>NaN</td>\n",
       "      <td>NaN</td>\n",
       "      <td>NaN</td>\n",
       "      <td>6864</td>\n",
       "      <td>NLROCEWTIPMDKX-UHFFFAOYSA-N</td>\n",
       "      <td>C[N]1=C2C=C(N)C=CC2=Cc3ccc(N)cc13</td>\n",
       "      <td>1</td>\n",
       "    </tr>\n",
       "    <tr>\n",
       "      <th>74</th>\n",
       "      <td>SPE_K20313525</td>\n",
       "      <td>rosmarinic-acid</td>\n",
       "      <td>sensitiv</td>\n",
       "      <td>95.67</td>\n",
       "      <td>94.92</td>\n",
       "      <td>94.14</td>\n",
       "      <td>-17.76</td>\n",
       "      <td>3.86</td>\n",
       "      <td>4.96</td>\n",
       "      <td>8.26</td>\n",
       "      <td>...</td>\n",
       "      <td>NaN</td>\n",
       "      <td>NaN</td>\n",
       "      <td>NaN</td>\n",
       "      <td>NaN</td>\n",
       "      <td>NaN</td>\n",
       "      <td>NaN</td>\n",
       "      <td>8605</td>\n",
       "      <td>DOUMFZQKYFQNTF-WUTVXBCWSA-N</td>\n",
       "      <td>OC(=O)[C@@H](Cc1ccc(O)c(O)c1)OC(=O)\\C=C\\c2ccc(...</td>\n",
       "      <td>1</td>\n",
       "    </tr>\n",
       "    <tr>\n",
       "      <th>95</th>\n",
       "      <td>SPE_A49172652</td>\n",
       "      <td>LANSOPRAZOLE</td>\n",
       "      <td>sensitiv</td>\n",
       "      <td>97.15</td>\n",
       "      <td>98.57</td>\n",
       "      <td>96.07</td>\n",
       "      <td>-12.10</td>\n",
       "      <td>7.25</td>\n",
       "      <td>10.83</td>\n",
       "      <td>1.65</td>\n",
       "      <td>...</td>\n",
       "      <td>NaN</td>\n",
       "      <td>NaN</td>\n",
       "      <td>NaN</td>\n",
       "      <td>NaN</td>\n",
       "      <td>NaN</td>\n",
       "      <td>NaN</td>\n",
       "      <td>348</td>\n",
       "      <td>MJIHNNLFOKEZEW-UHFFFAOYSA-N</td>\n",
       "      <td>Cc1c(OCC(F)(F)F)ccnc1CS(=O)c2nc3ccccc3[nH]2</td>\n",
       "      <td>1</td>\n",
       "    </tr>\n",
       "    <tr>\n",
       "      <th>112</th>\n",
       "      <td>SPE_K76841105</td>\n",
       "      <td>Tazarotene (Avage)</td>\n",
       "      <td>Tazarotene (Avage)</td>\n",
       "      <td>-880.10</td>\n",
       "      <td>-692.49</td>\n",
       "      <td>108.07</td>\n",
       "      <td>-663.39</td>\n",
       "      <td>13.50</td>\n",
       "      <td>321.75</td>\n",
       "      <td>-2.40</td>\n",
       "      <td>...</td>\n",
       "      <td>NaN</td>\n",
       "      <td>NaN</td>\n",
       "      <td>NaN</td>\n",
       "      <td>NaN</td>\n",
       "      <td>NaN</td>\n",
       "      <td>NaN</td>\n",
       "      <td>445</td>\n",
       "      <td>OGQICQVSFDPSEI-UHFFFAOYSA-N</td>\n",
       "      <td>CCOC(=O)c1ccc(nc1)C#Cc2ccc3SCCC(C)(C)c3c2</td>\n",
       "      <td>1</td>\n",
       "    </tr>\n",
       "    <tr>\n",
       "      <th>137</th>\n",
       "      <td>SPE_K33623053</td>\n",
       "      <td>Rose Bengal Sodium Salt</td>\n",
       "      <td>Rose Bengal Sodium Salt</td>\n",
       "      <td>99.60</td>\n",
       "      <td>74.85</td>\n",
       "      <td>-2.27</td>\n",
       "      <td>69.98</td>\n",
       "      <td>1176.55</td>\n",
       "      <td>26.97</td>\n",
       "      <td>22.43</td>\n",
       "      <td>...</td>\n",
       "      <td>NaN</td>\n",
       "      <td>NaN</td>\n",
       "      <td>NaN</td>\n",
       "      <td>NaN</td>\n",
       "      <td>NaN</td>\n",
       "      <td>NaN</td>\n",
       "      <td>5272</td>\n",
       "      <td>IICCLYANAQEHCI-UHFFFAOYSA-N</td>\n",
       "      <td>Oc1c(I)cc2c(Oc3c(I)c(O)c(I)cc3C24OC(=O)c5c(Cl)...</td>\n",
       "      <td>0</td>\n",
       "    </tr>\n",
       "  </tbody>\n",
       "</table>\n",
       "<p>10 rows × 32 columns</p>\n",
       "</div>"
      ],
      "text/plain": [
       "       Compound Id                          Name  \\\n",
       "8    SPE_K81330143                    Tideglusib   \n",
       "9    SPE_K34149328                   bonaphthone   \n",
       "30   SPE_K86972824                      OLTIPRAZ   \n",
       "33   SPE_K55591206  (-)-Epigallocatechin Gallate   \n",
       "38   SPE_K68408467        PROFLAVINE HEMISULFATE   \n",
       "58   SPE_M87138257     Acriflavine hydrochloride   \n",
       "74   SPE_K20313525               rosmarinic-acid   \n",
       "95   SPE_A49172652                  LANSOPRAZOLE   \n",
       "112  SPE_K76841105            Tazarotene (Avage)   \n",
       "137  SPE_K33623053       Rose Bengal Sodium Salt   \n",
       "\n",
       "    DTT sensitivity (if > 30 % loss of activity at 20 µM)  \\\n",
       "8                                             sensitiv      \n",
       "9                                             sensitiv      \n",
       "30                                            sensitiv      \n",
       "33                                            sensitiv      \n",
       "38                                            sensitiv      \n",
       "58                           Acriflavine hydrochloride      \n",
       "74                                            sensitiv      \n",
       "95                                            sensitiv      \n",
       "112                                 Tazarotene (Avage)      \n",
       "137                            Rose Bengal Sodium Salt      \n",
       "\n",
       "     Inhibition [%] Primary Screen (single point; 20 µM)  \\\n",
       "8                                                90.94     \n",
       "9                                                95.47     \n",
       "30                                               93.83     \n",
       "33                                               95.26     \n",
       "38                                               60.89     \n",
       "58                                               59.00     \n",
       "74                                               95.67     \n",
       "95                                               97.15     \n",
       "112                                            -880.10     \n",
       "137                                              99.60     \n",
       "\n",
       "     HC\\nInhibition [%] (triplicate, 20 µM)  \\\n",
       "8                                     99.30   \n",
       "9                                     99.37   \n",
       "30                                    97.56   \n",
       "33                                    98.89   \n",
       "38                                    76.55   \n",
       "58                                    67.97   \n",
       "74                                    94.92   \n",
       "95                                    98.57   \n",
       "112                                 -692.49   \n",
       "137                                   74.85   \n",
       "\n",
       "     HC\\n AV Inhibition [%] (triplicate, 20 µM)\\nslope  \\\n",
       "8                                                99.28   \n",
       "9                                               100.31   \n",
       "30                                              101.75   \n",
       "33                                               97.04   \n",
       "38                                               99.87   \n",
       "58                                               99.10   \n",
       "74                                               94.14   \n",
       "95                                               96.07   \n",
       "112                                             108.07   \n",
       "137                                              -2.27   \n",
       "\n",
       "     AV inhibition +DTT 15min \\nduplicates  IC50 µM 15 min  IC50 µM slope  \\\n",
       "8                                    -4.89            0.15           0.14   \n",
       "9                                    37.44            0.16           0.38   \n",
       "30                                    1.56            0.62           1.44   \n",
       "33                                  -22.36            0.72           1.29   \n",
       "38                                   20.41            0.83           2.02   \n",
       "58                                   68.22            1.93           5.10   \n",
       "74                                  -17.76            3.86           4.96   \n",
       "95                                  -12.10            7.25          10.83   \n",
       "112                                -663.39           13.50         321.75   \n",
       "137                                  69.98         1176.55          26.97   \n",
       "\n",
       "     %inhibition_d03-KU_LW  ...  AV Inhibiton\\n 15min %Inhibition\\n_slope PS  \\\n",
       "8                    -3.46  ...                   NaN                    NaN   \n",
       "9                    -1.01  ...                   NaN                    NaN   \n",
       "30                    6.11  ...                   NaN                    NaN   \n",
       "33                   -1.41  ...                   NaN                    NaN   \n",
       "38                   19.09  ...                   NaN                    NaN   \n",
       "58                  -26.74  ...                   NaN                    NaN   \n",
       "74                    8.26  ...                   NaN                    NaN   \n",
       "95                    1.65  ...                   NaN                    NaN   \n",
       "112                  -2.40  ...                   NaN                    NaN   \n",
       "137                  22.43  ...                   NaN                    NaN   \n",
       "\n",
       "    %Inhibition\\n_15min PS VeroE6% \\nConfluence_d03 VeroE6 % \\nInhibition_d03  \\\n",
       "8                      NaN                      NaN                       NaN   \n",
       "9                      NaN                      NaN                       NaN   \n",
       "30                     NaN                      NaN                       NaN   \n",
       "33                     NaN                      NaN                       NaN   \n",
       "38                     NaN                      NaN                       NaN   \n",
       "58                     NaN                      NaN                       NaN   \n",
       "74                     NaN                      NaN                       NaN   \n",
       "95                     NaN                      NaN                       NaN   \n",
       "112                    NaN                      NaN                       NaN   \n",
       "137                    NaN                      NaN                       NaN   \n",
       "\n",
       "    Chemically reactive? Molecule_ID Standardized_Molecule_InChIKey  \\\n",
       "8                    NaN        3878    PMJIHLSCWIDGMD-UHFFFAOYSA-N   \n",
       "9                    NaN        4448    MXWZRRPNVLCHMY-UHFFFAOYSA-N   \n",
       "30                   NaN        8437    CKNAQFVBEHDJQV-UHFFFAOYSA-N   \n",
       "33                   NaN         522    WMBWREPUVVBILR-WIYYLYMNSA-N   \n",
       "38                   NaN        6835    WDVSHHCDHLJJJR-UHFFFAOYSA-N   \n",
       "58                   NaN        6864    NLROCEWTIPMDKX-UHFFFAOYSA-N   \n",
       "74                   NaN        8605    DOUMFZQKYFQNTF-WUTVXBCWSA-N   \n",
       "95                   NaN         348    MJIHNNLFOKEZEW-UHFFFAOYSA-N   \n",
       "112                  NaN         445    OGQICQVSFDPSEI-UHFFFAOYSA-N   \n",
       "137                  NaN        5272    IICCLYANAQEHCI-UHFFFAOYSA-N   \n",
       "\n",
       "                          Standardized_Molecule_Smiles  Is_active  \n",
       "8               O=C1SN(C(=O)N1Cc2ccccc2)c3cccc4ccccc34          1  \n",
       "9                            Brc1ccc2C(=O)C(=O)C=Cc2c1          1  \n",
       "30                               CC1=C(SSC1=S)c2cnccn2          1  \n",
       "33   Oc1cc(O)c2C[C@@H](OC(=O)c3cc(O)c(O)c(O)c3)[C@H...          1  \n",
       "38                            Nc1ccc2cc3ccc(N)cc3nc2c1          1  \n",
       "58                   C[N]1=C2C=C(N)C=CC2=Cc3ccc(N)cc13          1  \n",
       "74   OC(=O)[C@@H](Cc1ccc(O)c(O)c1)OC(=O)\\C=C\\c2ccc(...          1  \n",
       "95         Cc1c(OCC(F)(F)F)ccnc1CS(=O)c2nc3ccccc3[nH]2          1  \n",
       "112          CCOC(=O)c1ccc(nc1)C#Cc2ccc3SCCC(C)(C)c3c2          1  \n",
       "137  Oc1c(I)cc2c(Oc3c(I)c(O)c(I)cc3C24OC(=O)c5c(Cl)...          0  \n",
       "\n",
       "[10 rows x 32 columns]"
      ]
     },
     "execution_count": 67,
     "metadata": {},
     "output_type": "execute_result"
    }
   ],
   "source": [
    "data_SARS2[all_dup]"
   ]
  },
  {
   "cell_type": "code",
   "execution_count": 68,
   "metadata": {},
   "outputs": [
    {
     "name": "stderr",
     "output_type": "stream",
     "text": [
      "RDKit ERROR: [11:25:13] ERROR: Explicit valence for atom # 12 N, 4, is greater than permitted\n",
      "RDKit ERROR: [11:25:15] Explicit valence for atom # 1 N, 4, is greater than permitted\n",
      "RDKit ERROR: [11:25:15] Explicit valence for atom # 1 N, 4, is greater than permitted\n"
     ]
    },
    {
     "name": "stdout",
     "output_type": "stream",
     "text": [
      "Could not find molecules with id 11947\n",
      "Could not find molecules with id 12210\n",
      "Could not find molecules with id 10107\n",
      "Could not find molecules with id 7168\n",
      "(6835, 'WDVSHHCDHLJJJR-UHFFFAOYSA-N')\n",
      "\t (6835, 'IHRJICSCSWHANS-UHFFFAOYSA-N') 0.14022988505747128\n",
      "Could not find molecules with id 11215\n",
      "Could not find molecules with id 10484\n",
      "Could not find molecules with id 10913\n",
      "Could not find molecules with id 12105\n",
      "Could not find molecules with id 11495\n",
      "Could not find molecules with id 6326\n",
      "Could not find molecules with id 10781\n",
      "Could not find molecules with id 11917\n",
      "Could not find molecules with id 10766\n",
      "Could not find molecules with id 12364\n",
      "(10817, 'PSFDQSOCUJVVGF-UHFFFAOYSA-N')\n",
      "\t (10817, 'FLJHILGVZZUAHY-UHFFFAOYSA-N') 0.1834862385321101\n",
      "165\n"
     ]
    },
    {
     "name": "stderr",
     "output_type": "stream",
     "text": [
      "RDKit ERROR: [11:25:15] Explicit valence for atom # 2 N, 4, is greater than permitted\n",
      "RDKit ERROR: [11:25:15] Explicit valence for atom # 2 N, 4, is greater than permitted\n",
      "RDKit ERROR: [11:25:15] Explicit valence for atom # 16 N, 4, is greater than permitted\n",
      "RDKit ERROR: [11:25:15] Explicit valence for atom # 3 N, 4, is greater than permitted\n"
     ]
    }
   ],
   "source": [
    "bits_SARS2, features_SARS2, mols_SARS2, mask = get_molecules_from_data(fps_folded_SARS2, bits_SARS2, fps_SARS2, mols_SARS2, data_SARS2, only_exact_matches=False, threshold_similarity=0.2)\n",
    "data_filtered = data_SARS2[mask]\n",
    "active_SARS2 = data_filtered[\"Is_active\"].values\n",
    "print(sum(mask))"
   ]
  },
  {
   "cell_type": "code",
   "execution_count": 69,
   "metadata": {},
   "outputs": [
    {
     "data": {
      "text/plain": [
       "(165, 165, 165)"
      ]
     },
     "execution_count": 69,
     "metadata": {},
     "output_type": "execute_result"
    }
   ],
   "source": [
    "len(bits_SARS2), len(features_SARS2), len(mols_SARS2)"
   ]
  },
  {
   "cell_type": "markdown",
   "metadata": {},
   "source": [
    "Load GHDDI data set"
   ]
  },
  {
   "cell_type": "code",
   "execution_count": 70,
   "metadata": {},
   "outputs": [],
   "source": [
    "data_GHDDI_orig = pd.read_csv(os.path.join(PATH_DATA_GHDDI, \"3CLProtease_ActiveDataset.csv\"), decimal=\",\")\n",
    "activity_col = \"value_GHDDI\"\n",
    "measures_col = \"parameter_GHDDI\"\n",
    "units_col = \"unit_GHDDI\"\n",
    "id_col = \"Molecule_ID\""
   ]
  },
  {
   "cell_type": "code",
   "execution_count": 71,
   "metadata": {},
   "outputs": [
    {
     "name": "stdout",
     "output_type": "stream",
     "text": [
      "Found 0 duplicated entries\n"
     ]
    },
    {
     "data": {
      "text/plain": [
       "(401, 33)"
      ]
     },
     "execution_count": 71,
     "metadata": {},
     "output_type": "execute_result"
    }
   ],
   "source": [
    "data_GHDDI = data_GHDDI_orig.dropna(subset=[activity_col, id_col]).copy()\n",
    "data_GHDDI[id_col] = data_GHDDI[id_col].astype(int)\n",
    "data_GHDDI = data_GHDDI[data_GHDDI[measures_col] == \"IC50\"]\n",
    "dup = data_GHDDI.duplicated(subset=[\"Molecule_ID\", \"Standardized_Molecule_InChIKey\"], keep=\"first\")\n",
    "print(f\"Found {sum(dup)} duplicated entries\")\n",
    "data_GHDDI = data_GHDDI[~dup]\n",
    "data_GHDDI.shape"
   ]
  },
  {
   "cell_type": "markdown",
   "metadata": {},
   "source": [
    "Convert all experimental values to micromolar"
   ]
  },
  {
   "cell_type": "code",
   "execution_count": 72,
   "metadata": {},
   "outputs": [],
   "source": [
    "data_GHDDI = convert_IC50_to_um(data_GHDDI, activity_col, units_col)\n",
    "data_GHDDI[\"Is_active\"] = (data_GHDDI[activity_col] < threshold_activity).values.astype(int)"
   ]
  },
  {
   "cell_type": "code",
   "execution_count": 73,
   "metadata": {},
   "outputs": [
    {
     "name": "stderr",
     "output_type": "stream",
     "text": [
      "RDKit WARNING: [11:25:18] Warning: molecule is tagged as 3D, but all Z coords are zero\n",
      "RDKit ERROR: [11:25:19] Explicit valence for atom # 1 N, 4, is greater than permitted\n",
      "RDKit ERROR: [11:25:19] ERROR: Could not sanitize molecule ending on line 11557\n",
      "RDKit WARNING: [11:25:19] Warning: molecule is tagged as 3D, but all Z coords are zero\n",
      "RDKit ERROR: [11:25:19] ERROR: Explicit valence for atom # 1 N, 4, is greater than permitted\n",
      "RDKit ERROR: [11:25:20] Explicit valence for atom # 9 C, 5, is greater than permitted\n",
      "RDKit ERROR: [11:25:20] ERROR: Could not sanitize molecule ending on line 85833\n",
      "RDKit ERROR: [11:25:20] ERROR: Explicit valence for atom # 9 C, 5, is greater than permitted\n",
      "RDKit ERROR: [11:25:20] Explicit valence for atom # 9 C, 5, is greater than permitted\n",
      "RDKit ERROR: [11:25:20] ERROR: Could not sanitize molecule ending on line 86055\n",
      "RDKit ERROR: [11:25:20] ERROR: Explicit valence for atom # 9 C, 5, is greater than permitted\n",
      "RDKit ERROR: [11:25:20] Explicit valence for atom # 9 C, 5, is greater than permitted\n",
      "RDKit ERROR: [11:25:20] ERROR: Could not sanitize molecule ending on line 86277\n",
      "RDKit ERROR: [11:25:20] ERROR: Explicit valence for atom # 9 C, 5, is greater than permitted\n",
      "RDKit ERROR: [11:25:20] Explicit valence for atom # 9 C, 5, is greater than permitted\n",
      "RDKit ERROR: [11:25:20] ERROR: Could not sanitize molecule ending on line 86499\n",
      "RDKit ERROR: [11:25:20] ERROR: Explicit valence for atom # 9 C, 5, is greater than permitted\n",
      "RDKit ERROR: [11:25:20] Explicit valence for atom # 9 C, 5, is greater than permitted\n",
      "RDKit ERROR: [11:25:20] ERROR: Could not sanitize molecule ending on line 86721\n",
      "RDKit ERROR: [11:25:20] ERROR: Explicit valence for atom # 9 C, 5, is greater than permitted\n",
      "RDKit ERROR: [11:25:20] Explicit valence for atom # 9 C, 5, is greater than permitted\n",
      "RDKit ERROR: [11:25:20] ERROR: Could not sanitize molecule ending on line 86943\n",
      "RDKit ERROR: [11:25:20] ERROR: Explicit valence for atom # 9 C, 5, is greater than permitted\n",
      "RDKit ERROR: [11:25:20] Explicit valence for atom # 9 C, 5, is greater than permitted\n",
      "RDKit ERROR: [11:25:20] ERROR: Could not sanitize molecule ending on line 87165\n",
      "RDKit WARNING: [11:25:20] Warning: molecule is tagged as 3D, but all Z coords are zero\n",
      "RDKit WARNING: [11:25:21] Warning: molecule is tagged as 3D, but all Z coords are zero\n",
      "RDKit WARNING: [11:25:21] Warning: molecule is tagged as 3D, but all Z coords are zero\n",
      "RDKit WARNING: [11:25:21] Warning: molecule is tagged as 3D, but all Z coords are zero\n",
      "RDKit WARNING: [11:25:21] Warning: molecule is tagged as 3D, but all Z coords are zero\n",
      "RDKit WARNING: [11:25:21] Warning: molecule is tagged as 3D, but all Z coords are zero\n",
      "RDKit WARNING: [11:25:22] Warning: molecule is tagged as 3D, but all Z coords are zero\n",
      "RDKit WARNING: [11:25:22] Warning: molecule is tagged as 3D, but all Z coords are zero\n"
     ]
    },
    {
     "name": "stdout",
     "output_type": "stream",
     "text": [
      "Found problems in 8 molecules\n"
     ]
    }
   ],
   "source": [
    "fps_rdkit_GHDDI, mols_rdkit_GHDDI, bits_rdkit_GHDDI, fps_folded_GHDDI = get_features_RDKIT_unfolded(os.path.join(PATH_DATA_GHDDI, \"3C-like_protease_GHDDI_ligprep_maestro.sdf\"))"
   ]
  },
  {
   "cell_type": "code",
   "execution_count": 74,
   "metadata": {},
   "outputs": [
    {
     "name": "stdout",
     "output_type": "stream",
     "text": [
      "Could not find molecules with id 9602\n"
     ]
    },
    {
     "name": "stderr",
     "output_type": "stream",
     "text": [
      "RDKit ERROR: [11:25:20] ERROR: Explicit valence for atom # 9 C, 5, is greater than permitted\n",
      "RDKit ERROR: [11:25:22] Explicit valence for atom # 12 N, 4, is greater than permitted\n",
      "RDKit ERROR: [11:25:22] Explicit valence for atom # 12 N, 4, is greater than permitted\n",
      "RDKit ERROR: [11:25:22] Explicit valence for atom # 8 N, 4, is greater than permitted\n",
      "RDKit ERROR: [11:25:22] Explicit valence for atom # 8 N, 4, is greater than permitted\n",
      "RDKit ERROR: [11:25:22] Explicit valence for atom # 8 N, 4, is greater than permitted\n",
      "RDKit ERROR: [11:25:22] Explicit valence for atom # 8 N, 4, is greater than permitted\n",
      "RDKit ERROR: [11:25:22] Explicit valence for atom # 8 N, 4, is greater than permitted\n",
      "RDKit ERROR: [11:25:22] Explicit valence for atom # 6 N, 4, is greater than permitted\n",
      "RDKit ERROR: [11:25:22] Explicit valence for atom # 16 N, 4, is greater than permitted\n"
     ]
    },
    {
     "name": "stdout",
     "output_type": "stream",
     "text": [
      "(400, 34) 400\n"
     ]
    },
    {
     "name": "stderr",
     "output_type": "stream",
     "text": [
      "RDKit ERROR: [11:25:22] Explicit valence for atom # 9 N, 4, is greater than permitted\n"
     ]
    }
   ],
   "source": [
    "bits_GHDDI, features_GHDDI, mols_GHDDI, mask_GHDDI = get_molecules_from_data(fps_folded_GHDDI, bits_rdkit_GHDDI, fps_rdkit_GHDDI, mols_rdkit_GHDDI, data_GHDDI, only_exact_matches=False, threshold_similarity=0.2)\n",
    "data_GHDDI = data_GHDDI[mask_GHDDI]\n",
    "active_SARS1 = data_GHDDI[\"Is_active\"].values\n",
    "print(data_GHDDI.shape, sum(mask_GHDDI))"
   ]
  },
  {
   "cell_type": "code",
   "execution_count": 75,
   "metadata": {},
   "outputs": [
    {
     "name": "stdout",
     "output_type": "stream",
     "text": [
      "(563, 62) 563 563 (563, 52839) int16\n"
     ]
    }
   ],
   "source": [
    "sources = [\"SARS2\" for _ in bits_SARS2]+[\"SARS1\" for _ in bits_GHDDI]\n",
    "joined_sets = pd.concat([data_filtered, data_GHDDI], ignore_index=True)\n",
    "\n",
    "data = []\n",
    "row = []\n",
    "col = []\n",
    "for i, fp in enumerate(features_SARS2+features_GHDDI):\n",
    "    for val in fp:\n",
    "        data.append(fp[val])\n",
    "        row.append(i)\n",
    "        col.append(val)\n",
    "\n",
    "renamed_features = {}\n",
    "index = 0\n",
    "# rename features to reduce columns in the sparse matrix\n",
    "for i, ind in enumerate(col):\n",
    "    if ind in renamed_features:\n",
    "        col[i] = renamed_features[ind]\n",
    "    else:\n",
    "        renamed_features[ind] = index\n",
    "        col[i] = index\n",
    "        index += 1\n",
    "rename_lookup = {renamed_features[k]: k for k in renamed_features}\n",
    "joined_features = csr_matrix((data, (row, col)), shape=(max(row)+1, max(col)+1), dtype=np.int16)\n",
    "\n",
    "joined_bits = bits_SARS2+bits_GHDDI\n",
    "joined_mols = mols_SARS2+mols_GHDDI\n",
    "joined_sets, mask_to_rm = filter_duplicates(joined_sets, id_col, \"Standardized_Molecule_InChIKey\")\n",
    "joined_features = joined_features[~mask_to_rm]\n",
    "joined_bits = list(compress(joined_bits, ~mask_to_rm))\n",
    "joined_mols = list(compress(joined_mols, ~mask_to_rm))\n",
    "joined_sources = list(compress(sources, ~mask_to_rm))\n",
    "active = joined_sets[\"Is_active\"].values\n",
    "print(joined_sets.shape, len(joined_bits), len(joined_mols), joined_features.shape, joined_features.dtype)"
   ]
  },
  {
   "cell_type": "code",
   "execution_count": 76,
   "metadata": {},
   "outputs": [
    {
     "name": "stdout",
     "output_type": "stream",
     "text": [
      "Actives 310, 55.06%; Inactives 253, 44.94%\n"
     ]
    },
    {
     "data": {
      "image/png": "[encoded data removed]",
      "text/plain": [
       "<Figure size 576x576 with 1 Axes>"
      ]
     },
     "metadata": {},
     "output_type": "display_data"
    }
   ],
   "source": [
    "plt.figure(figsize=(8,8))\n",
    "plt.hist(active, bins=10);\n",
    "plt.xticks([0.05, 0.95], [\"Inactives\", \"Actives\"])\n",
    "n_active = sum(active)\n",
    "n_inactive = len(active)-n_active\n",
    "print(f\"Actives {n_active}, {100*n_active/(n_active+n_inactive):.2f}%; Inactives {n_inactive}, {100*n_inactive/(n_active+n_inactive):.2f}%\")"
   ]
  },
  {
   "cell_type": "code",
   "execution_count": 77,
   "metadata": {},
   "outputs": [],
   "source": [
    "def print_metrics(predicted_values, target_values, verbose=True):\n",
    "    tn, fp, fn, tp = confusion_matrix(target_values, predicted_values >= 0.5).ravel()\n",
    "    Sn = tp/(tp+fn)\n",
    "    Sp = tn/(tn+fp)\n",
    "    precision = tp/(tp+fp)\n",
    "    ner = (Sn+Sp)/2\n",
    "    accuracy = (tp+tn)/(tp+tn+fp+fn)\n",
    "    mcc = (tp*tn-fp*fn)/np.sqrt((tp+fp)*(tp+fn)*(tn+fp)*(tn+fn))\n",
    "    if verbose:\n",
    "        print(f\"NER: {ner:.3f}, Sensitivity or recall: {Sn:.3f}, Specificity: {Sp:.3f}, Precision: {precision:.3f}, Correctly classified: {accuracy:.3f}, MCC: {mcc:.3f}\")\n",
    "    return [accuracy, mcc]\n",
    "\n",
    "def plot_confusion(predicted_values, target_values):\n",
    "    cm = confusion_matrix(target_values, predicted_values >= 0.5)\n",
    "    f, ax = plt.subplots(1, 1)\n",
    "    sns.heatmap(cm, annot=True, ax = ax, fmt=\"g\", cmap=\"Greens\")\n",
    "    # labels, title and ticks\n",
    "    ax.set_xlabel('Predicted labels');ax.set_ylabel('True labels'); \n",
    "    ax.set_title('Confusion Matrix'); \n",
    "    ax.xaxis.set_ticklabels(['Inactive', 'Active']); ax.yaxis.set_ticklabels(['Inactive', 'Active'])\n",
    "    plt.show()\n",
    "    \n",
    "def grid_search_SVM(train_data, test_data, train_labels, test_labels, max_gamma=1, min_gamma=0.001, max_C=100, min_C=0.01, n_points=30):\n",
    "    accuracy = []\n",
    "    MCCs = []\n",
    "    C_values = np.geomspace(min_C, max_C, num=n_points)\n",
    "    gamma_values = np.geomspace(min_gamma, max_gamma, num=n_points)\n",
    "    for c_val in C_values:\n",
    "        acc = []\n",
    "        mcc = []\n",
    "        for gamma in gamma_values:\n",
    "            svm = SVC(C=c_val, kernel=\"rbf\", gamma=gamma)\n",
    "            svm.fit(train_data, train_labels)\n",
    "            predictions = svm.predict(test_data)\n",
    "            print(f\"C={c_val}, gamma={gamma}\")\n",
    "            vals = print_metrics(predictions, test_labels)\n",
    "            acc.append(vals[0])\n",
    "            mcc.append(vals[1])\n",
    "        accuracy.append(acc)\n",
    "        MCCs.append(mcc)\n",
    "\n",
    "    fig, ax = plt.subplots(figsize=(8, 8))\n",
    "    sns.heatmap(MCCs, annot=False, ax = ax, cmap=\"Greens\")\n",
    "    ax.set_yticklabels(np.round(C_values, 2), rotation=0)\n",
    "    ax.set_xticklabels(np.round(gamma_values, 2), rotation=90)\n",
    "    ax.set_ylabel(\"C value\")\n",
    "    ax.set_xlabel(r\"$\\gamma$\")\n",
    "    plt.show()"
   ]
  },
  {
   "cell_type": "code",
   "execution_count": 80,
   "metadata": {},
   "outputs": [],
   "source": [
    "train_data, test_data, train_labels, test_labels = train_test_split(joined_features, active, test_size=0.25, random_state=42, stratify=active)"
   ]
  },
  {
   "cell_type": "code",
   "execution_count": 81,
   "metadata": {},
   "outputs": [
    {
     "name": "stdout",
     "output_type": "stream",
     "text": [
      "NER: 0.763, Sensitivity or recall: 0.795, Specificity: 0.730, Precision: 0.785, Correctly classified: 0.766, MCC: 0.526\n"
     ]
    },
    {
     "data": {
      "image/png": "[encoded data removed]",
      "text/plain": [
       "<Figure size 432x288 with 2 Axes>"
      ]
     },
     "metadata": {},
     "output_type": "display_data"
    }
   ],
   "source": [
    "clf = DecisionTreeClassifier(random_state=42, class_weight=\"balanced\")\n",
    "clf.fit(train_data, train_labels)\n",
    "predictions = clf.predict(test_data)\n",
    "vals = print_metrics(predictions, test_labels)\n",
    "plot_confusion(predictions, test_labels)"
   ]
  },
  {
   "cell_type": "code",
   "execution_count": 82,
   "metadata": {},
   "outputs": [
    {
     "data": {
      "image/png": "[encoded data removed]",
      "text/plain": [
       "<Figure size 432x288 with 1 Axes>"
      ]
     },
     "metadata": {},
     "output_type": "display_data"
    }
   ],
   "source": [
    "order_dt = np.argsort(clf.feature_importances_)[::-1]\n",
    "x = np.array(range(len(clf.feature_importances_)))[:20]\n",
    "plt.bar(x, clf.feature_importances_[order_dt][:20])\n",
    "plt.xticks(x, order_dt[:20], rotation=90);\n",
    "plt.xlabel(\"Feature index\")\n",
    "plt.ylabel(\"Importance\")\n",
    "plt.title(\"Decision tree\");"
   ]
  },
  {
   "cell_type": "code",
   "execution_count": 83,
   "metadata": {},
   "outputs": [
    {
     "name": "stdout",
     "output_type": "stream",
     "text": [
      "NER: 0.761, Sensitivity or recall: 0.872, Specificity: 0.651, Precision: 0.756, Correctly classified: 0.773, MCC: 0.541\n"
     ]
    },
    {
     "data": {
      "image/png": "[encoded data removed]",
      "text/plain": [
       "<Figure size 432x288 with 2 Axes>"
      ]
     },
     "metadata": {},
     "output_type": "display_data"
    }
   ],
   "source": [
    "clf = RandomForestClassifier(random_state=42, class_weight=\"balanced\")\n",
    "clf.fit(train_data, train_labels)\n",
    "predictions = clf.predict(test_data)\n",
    "vals = print_metrics(predictions, test_labels)\n",
    "plot_confusion(predictions, test_labels)"
   ]
  },
  {
   "cell_type": "code",
   "execution_count": 84,
   "metadata": {},
   "outputs": [
    {
     "data": {
      "image/png": "[encoded data removed]",
      "text/plain": [
       "<Figure size 432x288 with 1 Axes>"
      ]
     },
     "metadata": {},
     "output_type": "display_data"
    }
   ],
   "source": [
    "order_RF = np.argsort(clf.feature_importances_)[::-1]\n",
    "x = np.array(range(len(clf.feature_importances_)))[:20]\n",
    "plt.bar(x, clf.feature_importances_[order_RF][:20])\n",
    "plt.xticks(x, order_RF[:20], rotation=90);\n",
    "plt.xlabel(\"Feature index\")\n",
    "plt.ylabel(\"Importance\")\n",
    "plt.title(\"Random Forests\");"
   ]
  },
  {
   "cell_type": "code",
   "execution_count": 85,
   "metadata": {},
   "outputs": [
    {
     "name": "stdout",
     "output_type": "stream",
     "text": [
      "[ 6610  5895  8714   738  8753  3565  2108  8065  1303 14761   455  8620\n",
      "  2499 44187 21109  4752  6706   444 11453 10504]\n",
      "[ 6198  2095  4217  5072 25913 11685  1303 47395 39321  8950 11309  1930\n",
      " 38217 47398 38154 11749  4201 35657 11435 39327]\n",
      "[1303]\n",
      "[1781510256]\n"
     ]
    }
   ],
   "source": [
    "best = list(set(order_dt[:20]) & set(order_RF[:20]))\n",
    "print(order_dt[:20])\n",
    "print(order_RF[:20])\n",
    "print(best)\n",
    "print([rename_lookup[x] for x in best])"
   ]
  },
  {
   "cell_type": "code",
   "execution_count": 90,
   "metadata": {},
   "outputs": [],
   "source": [
    "def separate_molecules_fp_bit(bit, all_bits):\n",
    "    positive_ind = []\n",
    "    negative_ind = []\n",
    "    for i, val in enumerate(all_bits):\n",
    "        if bit in val:\n",
    "            positive_ind.append(i)\n",
    "        else:\n",
    "            negative_ind.append(i)\n",
    "    return positive_ind, negative_ind\n",
    "\n",
    "def generate_bit_plots(feature, all_bits, all_mols, all_sources, renaming_dict, folder=\"feature_structures_unfolded\", multiple=True):\n",
    "    old_feature = renaming_dict[feature]\n",
    "    os.makedirs(folder, exist_ok=True)\n",
    "    pos, neg = separate_molecules_fp_bit(old_feature, all_bits)\n",
    "    mols_pos = [all_mols[x] for x in pos]\n",
    "    names_pos = [all_mols[ind].GetProp(\"_Name\")+\"-\"+all_sources[ind] for ind in pos]\n",
    "    # highlight_bonds = [all_bits[ind][old_feature] for ind in pos]\n",
    "    highlight_atoms = []\n",
    "    for ind in pos:\n",
    "        atoms = set()\n",
    "        for l in all_bits[ind][old_feature]:\n",
    "            atoms |= set(l)\n",
    "        highlight_atoms.append(list(atoms))\n",
    "    # add hydrogens to obtain accurate atom acount and avoid issues when drawing structures\n",
    "    mols_with_hydrogens = []\n",
    "    for mol in mols_pos:\n",
    "        mol_h = Chem.AddHs(mol)\n",
    "        AllChem.Compute2DCoords(mol_h)\n",
    "        mols_with_hydrogens.append(mol_h)\n",
    "    img = Draw.MolsToGridImage(mols_with_hydrogens, molsPerRow=3, subImgSize=(400,400), legends=names_pos, maxMols=1e4, useSVG=True, highlightAtomLists=highlight_atoms)\n",
    "    with open(os.path.join(folder, f'bit_{feature+1}.svg'), 'w') as f:\n",
    "        f.write(img.data)"
   ]
  },
  {
   "cell_type": "code",
   "execution_count": 91,
   "metadata": {},
   "outputs": [],
   "source": [
    "for index in best:\n",
    "    generate_bit_plots(index, joined_bits, joined_mols, joined_sources, rename_lookup)"
   ]
  },
  {
   "cell_type": "code",
   "execution_count": 99,
   "metadata": {},
   "outputs": [
    {
     "data": {
      "text/plain": [
       "Text(0, 0.5, 'Importance')"
      ]
     },
     "execution_count": 99,
     "metadata": {},
     "output_type": "execute_result"
    },
    {
     "data": {
      "image/png": "[encoded data removed]",
      "text/plain": [
       "<Figure size 432x288 with 1 Axes>"
      ]
     },
     "metadata": {},
     "output_type": "display_data"
    }
   ],
   "source": [
    "sel = SelectKBest(mutual_info_classif, k=10)\n",
    "features = sel.fit_transform(joined_features, active)\n",
    "order_chi2 = np.argsort(sel.scores_)[::-1]\n",
    "x = np.array(range(len(sel.scores_)))[:20]\n",
    "plt.bar(x, sel.scores_[order_chi2][:20])\n",
    "plt.xticks(x, order_chi2[:20], rotation=90);\n",
    "plt.xlabel(\"Feature index\")\n",
    "plt.ylabel(\"Importance\")"
   ]
  },
  {
   "cell_type": "code",
   "execution_count": 100,
   "metadata": {},
   "outputs": [],
   "source": [
    "for index in order_chi2[:10]:\n",
    "    generate_bit_plots(index, joined_bits, joined_mols, joined_sources, rename_lookup)"
   ]
  },
  {
   "cell_type": "markdown",
   "metadata": {},
   "source": [
    "We test a similar approach with the SARS2 data set only"
   ]
  },
  {
   "cell_type": "code",
   "execution_count": 93,
   "metadata": {},
   "outputs": [],
   "source": [
    "train_data2, test_data2, train_labels2, test_labels2 = train_test_split(features_SARS2, active_SARS2, test_size=0.25, random_state=42, stratify=active_SARS2)"
   ]
  },
  {
   "cell_type": "code",
   "execution_count": 94,
   "metadata": {},
   "outputs": [
    {
     "data": {
      "image/png": "[encoded data removed]",
      "text/plain": [
       "<Figure size 288x288 with 1 Axes>"
      ]
     },
     "metadata": {},
     "output_type": "display_data"
    }
   ],
   "source": [
    "plt.figure(figsize=(4,4))\n",
    "plt.hist(active_SARS2, bins=10);\n",
    "plt.xticks([0, 1], [\"Inactive\", \"Active\"]);"
   ]
  },
  {
   "cell_type": "code",
   "execution_count": 95,
   "metadata": {},
   "outputs": [
    {
     "ename": "TypeError",
     "evalue": "float() argument must be a string or a number, not 'dict'",
     "output_type": "error",
     "traceback": [
      "\u001b[0;31m---------------------------------------------------------------------------\u001b[0m",
      "\u001b[0;31mTypeError\u001b[0m                                 Traceback (most recent call last)",
      "\u001b[0;32m<ipython-input-95-3a5a3082b03b>\u001b[0m in \u001b[0;36m<module>\u001b[0;34m\u001b[0m\n\u001b[1;32m      2\u001b[0m \u001b[0mgamm\u001b[0m \u001b[0;34m=\u001b[0m \u001b[0;36m0.02807\u001b[0m\u001b[0;34m\u001b[0m\u001b[0;34m\u001b[0m\u001b[0m\n\u001b[1;32m      3\u001b[0m \u001b[0msvm\u001b[0m \u001b[0;34m=\u001b[0m \u001b[0mSVC\u001b[0m\u001b[0;34m(\u001b[0m\u001b[0mC\u001b[0m\u001b[0;34m=\u001b[0m\u001b[0mC\u001b[0m\u001b[0;34m,\u001b[0m \u001b[0mkernel\u001b[0m\u001b[0;34m=\u001b[0m\u001b[0;34m\"rbf\"\u001b[0m\u001b[0;34m,\u001b[0m \u001b[0mgamma\u001b[0m\u001b[0;34m=\u001b[0m\u001b[0mgamm\u001b[0m\u001b[0;34m,\u001b[0m \u001b[0mclass_weight\u001b[0m\u001b[0;34m=\u001b[0m\u001b[0;34m\"balanced\"\u001b[0m\u001b[0;34m)\u001b[0m\u001b[0;34m\u001b[0m\u001b[0;34m\u001b[0m\u001b[0m\n\u001b[0;32m----> 4\u001b[0;31m \u001b[0msvm\u001b[0m\u001b[0;34m.\u001b[0m\u001b[0mfit\u001b[0m\u001b[0;34m(\u001b[0m\u001b[0mtrain_data2\u001b[0m\u001b[0;34m,\u001b[0m \u001b[0mtrain_labels2\u001b[0m\u001b[0;34m)\u001b[0m\u001b[0;34m\u001b[0m\u001b[0;34m\u001b[0m\u001b[0m\n\u001b[0m\u001b[1;32m      5\u001b[0m \u001b[0mpredictions\u001b[0m \u001b[0;34m=\u001b[0m \u001b[0msvm\u001b[0m\u001b[0;34m.\u001b[0m\u001b[0mpredict\u001b[0m\u001b[0;34m(\u001b[0m\u001b[0mtest_data2\u001b[0m\u001b[0;34m)\u001b[0m\u001b[0;34m\u001b[0m\u001b[0;34m\u001b[0m\u001b[0m\n\u001b[1;32m      6\u001b[0m \u001b[0mvals\u001b[0m \u001b[0;34m=\u001b[0m \u001b[0mprint_metrics\u001b[0m\u001b[0;34m(\u001b[0m\u001b[0mpredictions\u001b[0m\u001b[0;34m,\u001b[0m \u001b[0mtest_labels2\u001b[0m\u001b[0;34m)\u001b[0m\u001b[0;34m\u001b[0m\u001b[0;34m\u001b[0m\u001b[0m\n",
      "\u001b[0;32m~/miniconda3/envs/drug_learning/lib/python3.7/site-packages/sklearn/svm/_base.py\u001b[0m in \u001b[0;36mfit\u001b[0;34m(self, X, y, sample_weight)\u001b[0m\n\u001b[1;32m    160\u001b[0m             X, y = self._validate_data(X, y, dtype=np.float64,\n\u001b[1;32m    161\u001b[0m                                        \u001b[0morder\u001b[0m\u001b[0;34m=\u001b[0m\u001b[0;34m'C'\u001b[0m\u001b[0;34m,\u001b[0m \u001b[0maccept_sparse\u001b[0m\u001b[0;34m=\u001b[0m\u001b[0;34m'csr'\u001b[0m\u001b[0;34m,\u001b[0m\u001b[0;34m\u001b[0m\u001b[0;34m\u001b[0m\u001b[0m\n\u001b[0;32m--> 162\u001b[0;31m                                        accept_large_sparse=False)\n\u001b[0m\u001b[1;32m    163\u001b[0m \u001b[0;34m\u001b[0m\u001b[0m\n\u001b[1;32m    164\u001b[0m         \u001b[0my\u001b[0m \u001b[0;34m=\u001b[0m \u001b[0mself\u001b[0m\u001b[0;34m.\u001b[0m\u001b[0m_validate_targets\u001b[0m\u001b[0;34m(\u001b[0m\u001b[0my\u001b[0m\u001b[0;34m)\u001b[0m\u001b[0;34m\u001b[0m\u001b[0;34m\u001b[0m\u001b[0m\n",
      "\u001b[0;32m~/miniconda3/envs/drug_learning/lib/python3.7/site-packages/sklearn/base.py\u001b[0m in \u001b[0;36m_validate_data\u001b[0;34m(self, X, y, reset, validate_separately, **check_params)\u001b[0m\n\u001b[1;32m    430\u001b[0m                 \u001b[0my\u001b[0m \u001b[0;34m=\u001b[0m \u001b[0mcheck_array\u001b[0m\u001b[0;34m(\u001b[0m\u001b[0my\u001b[0m\u001b[0;34m,\u001b[0m \u001b[0;34m**\u001b[0m\u001b[0mcheck_y_params\u001b[0m\u001b[0;34m)\u001b[0m\u001b[0;34m\u001b[0m\u001b[0;34m\u001b[0m\u001b[0m\n\u001b[1;32m    431\u001b[0m             \u001b[0;32melse\u001b[0m\u001b[0;34m:\u001b[0m\u001b[0;34m\u001b[0m\u001b[0;34m\u001b[0m\u001b[0m\n\u001b[0;32m--> 432\u001b[0;31m                 \u001b[0mX\u001b[0m\u001b[0;34m,\u001b[0m \u001b[0my\u001b[0m \u001b[0;34m=\u001b[0m \u001b[0mcheck_X_y\u001b[0m\u001b[0;34m(\u001b[0m\u001b[0mX\u001b[0m\u001b[0;34m,\u001b[0m \u001b[0my\u001b[0m\u001b[0;34m,\u001b[0m \u001b[0;34m**\u001b[0m\u001b[0mcheck_params\u001b[0m\u001b[0;34m)\u001b[0m\u001b[0;34m\u001b[0m\u001b[0;34m\u001b[0m\u001b[0m\n\u001b[0m\u001b[1;32m    433\u001b[0m             \u001b[0mout\u001b[0m \u001b[0;34m=\u001b[0m \u001b[0mX\u001b[0m\u001b[0;34m,\u001b[0m \u001b[0my\u001b[0m\u001b[0;34m\u001b[0m\u001b[0;34m\u001b[0m\u001b[0m\n\u001b[1;32m    434\u001b[0m \u001b[0;34m\u001b[0m\u001b[0m\n",
      "\u001b[0;32m~/miniconda3/envs/drug_learning/lib/python3.7/site-packages/sklearn/utils/validation.py\u001b[0m in \u001b[0;36minner_f\u001b[0;34m(*args, **kwargs)\u001b[0m\n\u001b[1;32m     71\u001b[0m                           FutureWarning)\n\u001b[1;32m     72\u001b[0m         \u001b[0mkwargs\u001b[0m\u001b[0;34m.\u001b[0m\u001b[0mupdate\u001b[0m\u001b[0;34m(\u001b[0m\u001b[0;34m{\u001b[0m\u001b[0mk\u001b[0m\u001b[0;34m:\u001b[0m \u001b[0marg\u001b[0m \u001b[0;32mfor\u001b[0m \u001b[0mk\u001b[0m\u001b[0;34m,\u001b[0m \u001b[0marg\u001b[0m \u001b[0;32min\u001b[0m \u001b[0mzip\u001b[0m\u001b[0;34m(\u001b[0m\u001b[0msig\u001b[0m\u001b[0;34m.\u001b[0m\u001b[0mparameters\u001b[0m\u001b[0;34m,\u001b[0m \u001b[0margs\u001b[0m\u001b[0;34m)\u001b[0m\u001b[0;34m}\u001b[0m\u001b[0;34m)\u001b[0m\u001b[0;34m\u001b[0m\u001b[0;34m\u001b[0m\u001b[0m\n\u001b[0;32m---> 73\u001b[0;31m         \u001b[0;32mreturn\u001b[0m \u001b[0mf\u001b[0m\u001b[0;34m(\u001b[0m\u001b[0;34m**\u001b[0m\u001b[0mkwargs\u001b[0m\u001b[0;34m)\u001b[0m\u001b[0;34m\u001b[0m\u001b[0;34m\u001b[0m\u001b[0m\n\u001b[0m\u001b[1;32m     74\u001b[0m     \u001b[0;32mreturn\u001b[0m \u001b[0minner_f\u001b[0m\u001b[0;34m\u001b[0m\u001b[0;34m\u001b[0m\u001b[0m\n\u001b[1;32m     75\u001b[0m \u001b[0;34m\u001b[0m\u001b[0m\n",
      "\u001b[0;32m~/miniconda3/envs/drug_learning/lib/python3.7/site-packages/sklearn/utils/validation.py\u001b[0m in \u001b[0;36mcheck_X_y\u001b[0;34m(X, y, accept_sparse, accept_large_sparse, dtype, order, copy, force_all_finite, ensure_2d, allow_nd, multi_output, ensure_min_samples, ensure_min_features, y_numeric, estimator)\u001b[0m\n\u001b[1;32m    801\u001b[0m                     \u001b[0mensure_min_samples\u001b[0m\u001b[0;34m=\u001b[0m\u001b[0mensure_min_samples\u001b[0m\u001b[0;34m,\u001b[0m\u001b[0;34m\u001b[0m\u001b[0;34m\u001b[0m\u001b[0m\n\u001b[1;32m    802\u001b[0m                     \u001b[0mensure_min_features\u001b[0m\u001b[0;34m=\u001b[0m\u001b[0mensure_min_features\u001b[0m\u001b[0;34m,\u001b[0m\u001b[0;34m\u001b[0m\u001b[0;34m\u001b[0m\u001b[0m\n\u001b[0;32m--> 803\u001b[0;31m                     estimator=estimator)\n\u001b[0m\u001b[1;32m    804\u001b[0m     \u001b[0;32mif\u001b[0m \u001b[0mmulti_output\u001b[0m\u001b[0;34m:\u001b[0m\u001b[0;34m\u001b[0m\u001b[0;34m\u001b[0m\u001b[0m\n\u001b[1;32m    805\u001b[0m         y = check_array(y, accept_sparse='csr', force_all_finite=True,\n",
      "\u001b[0;32m~/miniconda3/envs/drug_learning/lib/python3.7/site-packages/sklearn/utils/validation.py\u001b[0m in \u001b[0;36minner_f\u001b[0;34m(*args, **kwargs)\u001b[0m\n\u001b[1;32m     71\u001b[0m                           FutureWarning)\n\u001b[1;32m     72\u001b[0m         \u001b[0mkwargs\u001b[0m\u001b[0;34m.\u001b[0m\u001b[0mupdate\u001b[0m\u001b[0;34m(\u001b[0m\u001b[0;34m{\u001b[0m\u001b[0mk\u001b[0m\u001b[0;34m:\u001b[0m \u001b[0marg\u001b[0m \u001b[0;32mfor\u001b[0m \u001b[0mk\u001b[0m\u001b[0;34m,\u001b[0m \u001b[0marg\u001b[0m \u001b[0;32min\u001b[0m \u001b[0mzip\u001b[0m\u001b[0;34m(\u001b[0m\u001b[0msig\u001b[0m\u001b[0;34m.\u001b[0m\u001b[0mparameters\u001b[0m\u001b[0;34m,\u001b[0m \u001b[0margs\u001b[0m\u001b[0;34m)\u001b[0m\u001b[0;34m}\u001b[0m\u001b[0;34m)\u001b[0m\u001b[0;34m\u001b[0m\u001b[0;34m\u001b[0m\u001b[0m\n\u001b[0;32m---> 73\u001b[0;31m         \u001b[0;32mreturn\u001b[0m \u001b[0mf\u001b[0m\u001b[0;34m(\u001b[0m\u001b[0;34m**\u001b[0m\u001b[0mkwargs\u001b[0m\u001b[0;34m)\u001b[0m\u001b[0;34m\u001b[0m\u001b[0;34m\u001b[0m\u001b[0m\n\u001b[0m\u001b[1;32m     74\u001b[0m     \u001b[0;32mreturn\u001b[0m \u001b[0minner_f\u001b[0m\u001b[0;34m\u001b[0m\u001b[0;34m\u001b[0m\u001b[0m\n\u001b[1;32m     75\u001b[0m \u001b[0;34m\u001b[0m\u001b[0m\n",
      "\u001b[0;32m~/miniconda3/envs/drug_learning/lib/python3.7/site-packages/sklearn/utils/validation.py\u001b[0m in \u001b[0;36mcheck_array\u001b[0;34m(array, accept_sparse, accept_large_sparse, dtype, order, copy, force_all_finite, ensure_2d, allow_nd, ensure_min_samples, ensure_min_features, estimator)\u001b[0m\n\u001b[1;32m    597\u001b[0m                     \u001b[0marray\u001b[0m \u001b[0;34m=\u001b[0m \u001b[0marray\u001b[0m\u001b[0;34m.\u001b[0m\u001b[0mastype\u001b[0m\u001b[0;34m(\u001b[0m\u001b[0mdtype\u001b[0m\u001b[0;34m,\u001b[0m \u001b[0mcasting\u001b[0m\u001b[0;34m=\u001b[0m\u001b[0;34m\"unsafe\"\u001b[0m\u001b[0;34m,\u001b[0m \u001b[0mcopy\u001b[0m\u001b[0;34m=\u001b[0m\u001b[0;32mFalse\u001b[0m\u001b[0;34m)\u001b[0m\u001b[0;34m\u001b[0m\u001b[0;34m\u001b[0m\u001b[0m\n\u001b[1;32m    598\u001b[0m                 \u001b[0;32melse\u001b[0m\u001b[0;34m:\u001b[0m\u001b[0;34m\u001b[0m\u001b[0;34m\u001b[0m\u001b[0m\n\u001b[0;32m--> 599\u001b[0;31m                     \u001b[0marray\u001b[0m \u001b[0;34m=\u001b[0m \u001b[0mnp\u001b[0m\u001b[0;34m.\u001b[0m\u001b[0masarray\u001b[0m\u001b[0;34m(\u001b[0m\u001b[0marray\u001b[0m\u001b[0;34m,\u001b[0m \u001b[0morder\u001b[0m\u001b[0;34m=\u001b[0m\u001b[0morder\u001b[0m\u001b[0;34m,\u001b[0m \u001b[0mdtype\u001b[0m\u001b[0;34m=\u001b[0m\u001b[0mdtype\u001b[0m\u001b[0;34m)\u001b[0m\u001b[0;34m\u001b[0m\u001b[0;34m\u001b[0m\u001b[0m\n\u001b[0m\u001b[1;32m    600\u001b[0m             \u001b[0;32mexcept\u001b[0m \u001b[0mComplexWarning\u001b[0m\u001b[0;34m:\u001b[0m\u001b[0;34m\u001b[0m\u001b[0;34m\u001b[0m\u001b[0m\n\u001b[1;32m    601\u001b[0m                 raise ValueError(\"Complex data not supported\\n\"\n",
      "\u001b[0;32m~/miniconda3/envs/drug_learning/lib/python3.7/site-packages/numpy/core/_asarray.py\u001b[0m in \u001b[0;36masarray\u001b[0;34m(a, dtype, order)\u001b[0m\n\u001b[1;32m     81\u001b[0m \u001b[0;34m\u001b[0m\u001b[0m\n\u001b[1;32m     82\u001b[0m     \"\"\"\n\u001b[0;32m---> 83\u001b[0;31m     \u001b[0;32mreturn\u001b[0m \u001b[0marray\u001b[0m\u001b[0;34m(\u001b[0m\u001b[0ma\u001b[0m\u001b[0;34m,\u001b[0m \u001b[0mdtype\u001b[0m\u001b[0;34m,\u001b[0m \u001b[0mcopy\u001b[0m\u001b[0;34m=\u001b[0m\u001b[0;32mFalse\u001b[0m\u001b[0;34m,\u001b[0m \u001b[0morder\u001b[0m\u001b[0;34m=\u001b[0m\u001b[0morder\u001b[0m\u001b[0;34m)\u001b[0m\u001b[0;34m\u001b[0m\u001b[0;34m\u001b[0m\u001b[0m\n\u001b[0m\u001b[1;32m     84\u001b[0m \u001b[0;34m\u001b[0m\u001b[0m\n\u001b[1;32m     85\u001b[0m \u001b[0;34m\u001b[0m\u001b[0m\n",
      "\u001b[0;31mTypeError\u001b[0m: float() argument must be a string or a number, not 'dict'"
     ]
    }
   ],
   "source": [
    "C= 7.8804628\n",
    "gamm = 0.02807\n",
    "svm = SVC(C=C, kernel=\"rbf\", gamma=gamm, class_weight=\"balanced\")\n",
    "svm.fit(train_data2, train_labels2)\n",
    "predictions = svm.predict(test_data2)\n",
    "vals = print_metrics(predictions, test_labels2)\n",
    "plot_confusion(predictions, test_labels2)"
   ]
  },
  {
   "cell_type": "markdown",
   "metadata": {},
   "source": [
    "Try with the SARS1 data set only"
   ]
  },
  {
   "cell_type": "code",
   "execution_count": null,
   "metadata": {},
   "outputs": [],
   "source": [
    "train_data1, test_data1, train_labels1, test_labels1 = train_test_split(features_GHDDI, active_SARS1, test_size=0.25, random_state=42, stratify=active_SARS1)"
   ]
  },
  {
   "cell_type": "code",
   "execution_count": null,
   "metadata": {},
   "outputs": [],
   "source": [
    "plt.figure(figsize=(4,4))\n",
    "plt.hist(active_SARS1, bins=10);\n",
    "plt.xticks([0, 1], [\"Inactive\", \"Active\"]);"
   ]
  },
  {
   "cell_type": "code",
   "execution_count": null,
   "metadata": {},
   "outputs": [],
   "source": [
    "C= 4.17531\n",
    "gamm = 0.02807\n",
    "svm = SVC(C=C, kernel=\"rbf\", gamma=gamm, class_weight=\"balanced\")\n",
    "svm.fit(train_data1, train_labels1)\n",
    "predictions = svm.predict(test_data1)\n",
    "vals = print_metrics(predictions, test_labels1)\n",
    "plot_confusion(predictions, test_labels1)"
   ]
  },
  {
   "cell_type": "markdown",
   "metadata": {},
   "source": [
    "Train with SARS1, test with SARS2 "
   ]
  },
  {
   "cell_type": "code",
   "execution_count": null,
   "metadata": {},
   "outputs": [],
   "source": [
    "C= 8.53\n",
    "gamm = 0.05\n",
    "svm = SVC(C=C, kernel=\"rbf\", gamma=gamm, class_weight=\"balanced\")\n",
    "svm.fit(features_GHDDI, active_SARS1)\n",
    "predictions = svm.predict(features_SARS2)\n",
    "vals = print_metrics(predictions, active_SARS2)\n",
    "plot_confusion(predictions, active_SARS2)"
   ]
  },
  {
   "cell_type": "markdown",
   "metadata": {},
   "source": [
    "Similar but adding class weights"
   ]
  },
  {
   "cell_type": "code",
   "execution_count": null,
   "metadata": {},
   "outputs": [],
   "source": [
    "C= 8.53\n",
    "gamm = 0.05\n",
    "svm = SVC(C=C, kernel=\"rbf\", gamma=gamm, class_weight=\"balanced\")\n",
    "svm.fit(features_GHDDI, active_SARS1)\n",
    "predictions = svm.predict(features_SARS2)\n",
    "vals = print_metrics(predictions, active_SARS2)\n",
    "plot_confusion(predictions, active_SARS2)"
   ]
  },
  {
   "cell_type": "markdown",
   "metadata": {},
   "source": [
    "Train with SARS2, test with SARS1"
   ]
  },
  {
   "cell_type": "code",
   "execution_count": null,
   "metadata": {},
   "outputs": [],
   "source": [
    "C= 1.172102\n",
    "gamm = 0.0239\n",
    "svm = SVC(C=C, kernel=\"rbf\", gamma=gamm)\n",
    "svm.fit(features_SARS2, active_SARS2)\n",
    "predictions = svm.predict(features_GHDDI)\n",
    "vals = print_metrics(predictions, active_SARS1)\n",
    "plot_confusion(predictions, active_SARS1)"
   ]
  },
  {
   "cell_type": "code",
   "execution_count": null,
   "metadata": {},
   "outputs": [],
   "source": [
    "C= 1.172102\n",
    "gamm = 0.0239\n",
    "svm = SVC(C=C, kernel=\"rbf\", gamma=gamm, class_weight=\"balanced\")\n",
    "svm.fit(features_SARS2, active_SARS2)\n",
    "predictions = svm.predict(features_GHDDI)\n",
    "vals = print_metrics(predictions, active_SARS1)\n",
    "plot_confusion(predictions, active_SARS1)"
   ]
  },
  {
   "cell_type": "markdown",
   "metadata": {},
   "source": [
    "Try 10-fold cross validation with the full data set "
   ]
  },
  {
   "cell_type": "code",
   "execution_count": 118,
   "metadata": {},
   "outputs": [],
   "source": [
    "def run_cross_validation(features, labels, folds=5, iters=10, clf=RandomForestClassifier(random_state=42, class_weight=\"balanced\"), verbose=True):\n",
    "    MCCs_val = []\n",
    "    MCCs_test = []\n",
    "    accs_val = []\n",
    "    accs_test = []\n",
    "    for i in range(iters):\n",
    "        training_set, testing_set, training_labels, testing_labels = train_test_split(features, labels, test_size=0.25, random_state=i, stratify=labels)\n",
    "        skf = StratifiedKFold(n_splits=folds)\n",
    "        for i, (train_index, test_index) in enumerate(skf.split(training_set, training_labels)):\n",
    "            train_data, val_data = training_set[train_index], training_set[test_index]\n",
    "            train_labels, val_labels = training_labels[train_index], training_labels[test_index]\n",
    "            if verbose:\n",
    "                print(f\"Calculating with fold {i}\")\n",
    "            clf.fit(train_data, train_labels)\n",
    "            predictions = clf.predict(val_data)\n",
    "            val_acc, val_mcc = print_metrics(predictions, val_labels, verbose=verbose)\n",
    "            if verbose:\n",
    "                plot_confusion(predictions, test_labels)\n",
    "            MCCs_val.append(val_mcc)\n",
    "            accs_val.append(val_acc)\n",
    "        clf.fit(training_set, training_labels)\n",
    "        predictions = clf.predict(testing_set)\n",
    "        test_acc, test_mcc = print_metrics(predictions, testing_labels, verbose=verbose)\n",
    "        accs_test.append(test_acc)\n",
    "        MCCs_test.append(test_mcc)\n",
    "    return MCCs_val, MCCs_test, accs_val, accs_test\n",
    "\n",
    "def plot_results_CV(MCCs_val, MCCs_test, accs_val, accs_test, y_lims=None):\n",
    "    MCCs_val = np.array(MCCs_val)\n",
    "    MCCs_val[np.isnan(MCCs_val)] = 0\n",
    "    MCCs_test = np.array(MCCs_test)\n",
    "    MCCs_test[np.isnan(MCCs_test)] = 0\n",
    "    fig, ax = plt.subplots(1,2, figsize=(14,6))\n",
    "\n",
    "    ax[0].boxplot([np.array(accs_val)[~np.isnan(accs_val)], np.array(accs_test)[~np.isnan(accs_test)]], labels=[\"Validation\", \"Testing\"])\n",
    "    ax[1].boxplot([MCCs_val, MCCs_test], labels=[\"Validation\", \"Testing\"])\n",
    "    if y_lims is not None:\n",
    "        ax[0].set_ylim(top=y_lims[1], bottom=y_lims[0])\n",
    "        ax[1].set_ylim(top=y_lims[1], bottom=y_lims[0])\n",
    "    else:\n",
    "        y_min = -0.1+np.nanmin([np.nanmin(accs_val), np.nanmin(accs_test), np.nanmin(MCCs_val), np.nanmin(MCCs_test)])\n",
    "        y_max = 0.1+np.nanmax([np.nanmax(accs_val), np.nanmax(accs_test), np.nanmax(MCCs_val), np.nanmax(MCCs_test)])\n",
    "        ax[0].set_ylim(top=y_max, bottom=y_min)\n",
    "        ax[1].set_ylim(top=y_max, bottom=y_min)\n",
    "    ax[0].set_ylabel(\"Accuracy\")\n",
    "    ax[1].set_ylabel(\"MCC\")"
   ]
  },
  {
   "cell_type": "code",
   "execution_count": null,
   "metadata": {},
   "outputs": [],
   "source": [
    "C= 4.17531\n",
    "gamm = 0.02807\n",
    "svm = SVC(C=C, kernel=\"rbf\", gamma=gamm, class_weight=\"balanced\")\n",
    "MCC_val_svm, MCC_test_svm, acc_val_svm, acc_test_svm = run_cross_validation(joined_features, active, folds=10, verbose=False, clf=svm)"
   ]
  },
  {
   "cell_type": "code",
   "execution_count": null,
   "metadata": {},
   "outputs": [],
   "source": [
    "plot_results_CV(MCC_val_svm, MCC_test_svm, acc_val_svm, acc_test_svm, y_lims=(0, 1))"
   ]
  },
  {
   "cell_type": "code",
   "execution_count": 119,
   "metadata": {},
   "outputs": [],
   "source": [
    "model = DecisionTreeClassifier(random_state=42)\n",
    "MCC_val_tree, MCC_test_tree, acc_val_tree, acc_test_tree = run_cross_validation(joined_features, active, folds=10, verbose=False, clf=model)"
   ]
  },
  {
   "cell_type": "code",
   "execution_count": 120,
   "metadata": {},
   "outputs": [
    {
     "name": "stderr",
     "output_type": "stream",
     "text": [
      "/home/jfrancesc/miniconda3/envs/drug_learning/lib/python3.7/site-packages/numpy/core/_asarray.py:83: VisibleDeprecationWarning: Creating an ndarray from ragged nested sequences (which is a list-or-tuple of lists-or-tuples-or ndarrays with different lengths or shapes) is deprecated. If you meant to do this, you must specify 'dtype=object' when creating the ndarray\n",
      "  return array(a, dtype, copy=False, order=order)\n",
      "/home/jfrancesc/miniconda3/envs/drug_learning/lib/python3.7/site-packages/numpy/core/_asarray.py:83: VisibleDeprecationWarning: Creating an ndarray from ragged nested sequences (which is a list-or-tuple of lists-or-tuples-or ndarrays with different lengths or shapes) is deprecated. If you meant to do this, you must specify 'dtype=object' when creating the ndarray\n",
      "  return array(a, dtype, copy=False, order=order)\n"
     ]
    },
    {
     "data": {
      "image/png": "[encoded data removed]",
      "text/plain": [
       "<Figure size 1008x432 with 2 Axes>"
      ]
     },
     "metadata": {},
     "output_type": "display_data"
    }
   ],
   "source": [
    "plot_results_CV(MCC_val_tree, MCC_test_tree, acc_val_tree, acc_test_tree, y_lims=(0, 1))"
   ]
  },
  {
   "cell_type": "code",
   "execution_count": 121,
   "metadata": {},
   "outputs": [],
   "source": [
    "MCC_train_RF, MCC_test_RF, acc_train_RF, acc_test_RF = run_cross_validation(joined_features, active, folds=10, verbose=False)"
   ]
  },
  {
   "cell_type": "code",
   "execution_count": 122,
   "metadata": {},
   "outputs": [
    {
     "name": "stderr",
     "output_type": "stream",
     "text": [
      "/home/jfrancesc/miniconda3/envs/drug_learning/lib/python3.7/site-packages/numpy/core/_asarray.py:83: VisibleDeprecationWarning: Creating an ndarray from ragged nested sequences (which is a list-or-tuple of lists-or-tuples-or ndarrays with different lengths or shapes) is deprecated. If you meant to do this, you must specify 'dtype=object' when creating the ndarray\n",
      "  return array(a, dtype, copy=False, order=order)\n",
      "/home/jfrancesc/miniconda3/envs/drug_learning/lib/python3.7/site-packages/numpy/core/_asarray.py:83: VisibleDeprecationWarning: Creating an ndarray from ragged nested sequences (which is a list-or-tuple of lists-or-tuples-or ndarrays with different lengths or shapes) is deprecated. If you meant to do this, you must specify 'dtype=object' when creating the ndarray\n",
      "  return array(a, dtype, copy=False, order=order)\n"
     ]
    },
    {
     "data": {
      "image/png": "[encoded data removed]",
      "text/plain": [
       "<Figure size 1008x432 with 2 Axes>"
      ]
     },
     "metadata": {},
     "output_type": "display_data"
    }
   ],
   "source": [
    "plot_results_CV(MCC_train_RF, MCC_test_RF, acc_train_RF, acc_test_RF, y_lims=(0, 1))"
   ]
  },
  {
   "cell_type": "code",
   "execution_count": null,
   "metadata": {},
   "outputs": [],
   "source": [
    "percentiles = list(range(1,101,5))\n",
    "n_features = []\n",
    "MCCs = []\n",
    "accs = []\n",
    "skf = StratifiedKFold(n_splits=10)\n",
    "for percentile in percentiles:\n",
    "    feat_select = SelectPercentile(chi2, percentile=percentile)\n",
    "    transform_features = feat_select.fit_transform(joined_features, active)\n",
    "    n_features.append(transform_features.shape[1])\n",
    "    mcc_CV = []\n",
    "    acc_CV = []\n",
    "    for i, (train_index, test_index) in enumerate(skf.split(transform_features, active)):\n",
    "        train_data, test_data = transform_features[train_index], transform_features[test_index]\n",
    "        train_labels, test_labels = active[train_index], active[test_index]\n",
    "        print(f\"Calculating with fold {i}, percentile {percentile}\")\n",
    "        clf = RandomForestClassifier(random_state=42)\n",
    "        clf.fit(train_data, train_labels)\n",
    "        predictions = clf.predict(test_data)\n",
    "        test_acc, test_mcc = print_metrics(predictions, test_labels)\n",
    "        mcc_CV.append(test_mcc)\n",
    "        acc_CV.append(test_acc)\n",
    "    MCCs.append(mcc_CV)\n",
    "    accs.append(acc_CV)"
   ]
  },
  {
   "cell_type": "code",
   "execution_count": null,
   "metadata": {},
   "outputs": [],
   "source": [
    "plt.figure(figsize=(10, 6))\n",
    "plt.boxplot(MCCs, labels=n_features)\n",
    "plt.ylabel(\"MCC\")\n",
    "plt.xlabel(\"Features\");"
   ]
  },
  {
   "cell_type": "code",
   "execution_count": null,
   "metadata": {
    "scrolled": true
   },
   "outputs": [],
   "source": [
    "plt.figure(figsize=(10, 6))\n",
    "plt.boxplot(accs, labels=n_features)\n",
    "plt.ylabel(\"Accuracy\")\n",
    "plt.xlabel(\"Features\");"
   ]
  },
  {
   "cell_type": "markdown",
   "metadata": {},
   "source": [
    "We use now cross validation with the SARS2 set only and then use SARS1 as test set, with a Random Forest"
   ]
  },
  {
   "cell_type": "code",
   "execution_count": null,
   "metadata": {},
   "outputs": [],
   "source": [
    "# features_full, features_GHDDI, active_SARS2, active_SARS1\n",
    "MCC_val12, MCC_test12, acc_val12, acc_test12 = run_cross_validation(features_SARS2, active_SARS2, folds=5, verbose=False)"
   ]
  },
  {
   "cell_type": "code",
   "execution_count": null,
   "metadata": {},
   "outputs": [],
   "source": [
    "plot_results_CV(MCC_val12, MCC_test12, acc_val12, acc_test12)"
   ]
  },
  {
   "cell_type": "markdown",
   "metadata": {},
   "source": [
    "And use CV with SARS1 to test with SARS 2"
   ]
  },
  {
   "cell_type": "code",
   "execution_count": null,
   "metadata": {},
   "outputs": [],
   "source": [
    "MCC_val12, MCC_test12, acc_val12, acc_test12 = run_cross_validation(features_GHDDI, active_SARS1, folds=10, verbose=False)"
   ]
  },
  {
   "cell_type": "code",
   "execution_count": null,
   "metadata": {},
   "outputs": [],
   "source": [
    "plot_results_CV(MCC_val12, MCC_test12, acc_val12, acc_test12)"
   ]
  },
  {
   "cell_type": "markdown",
   "metadata": {},
   "source": [
    "We now keep only the features selected from the combination of mutual information, chi-squared and the most important features from a decision tree and random forest"
   ]
  },
  {
   "cell_type": "code",
   "execution_count": null,
   "metadata": {},
   "outputs": [],
   "source": [
    "best_features = joined_features[:, best]\n",
    "best_features_SARS2 = features_SARS2[:, best]\n",
    "best_features_SARS1 = features_GHDDI[:, best]\n",
    "print(best_features.shape)"
   ]
  },
  {
   "cell_type": "code",
   "execution_count": null,
   "metadata": {},
   "outputs": [],
   "source": [
    "model = RandomForestClassifier(random_state=42, class_weight=\"balanced\")\n",
    "MCC_val_all, MCC_test_all, acc_val_all, acc_test_all = run_cross_validation(best_features, active, clf=model, folds=10, verbose=False)"
   ]
  },
  {
   "cell_type": "code",
   "execution_count": null,
   "metadata": {},
   "outputs": [],
   "source": [
    "plot_results_CV(MCC_val_all, MCC_test_all, acc_val_all, acc_test_all)"
   ]
  },
  {
   "cell_type": "code",
   "execution_count": null,
   "metadata": {},
   "outputs": [],
   "source": [
    "model = RandomForestClassifier(random_state=42, n_estimators=1)\n",
    "MCC_val_all, MCC_test_all, acc_val_all, acc_test_all = run_cross_validation(best_features, active, clf=model, folds=10, verbose=False)"
   ]
  },
  {
   "cell_type": "code",
   "execution_count": null,
   "metadata": {},
   "outputs": [],
   "source": [
    "plot_results_CV(MCC_val_all, MCC_test_all, acc_val_all, acc_test_all)"
   ]
  },
  {
   "cell_type": "code",
   "execution_count": null,
   "metadata": {},
   "outputs": [],
   "source": [
    "model = DecisionTreeClassifier(random_state=42)\n",
    "MCC_val_all_tree, MCC_test_all_tree, acc_val_all_tree, acc_test_all_tree = run_cross_validation(best_features, active, clf=model, folds=10, verbose=False)"
   ]
  },
  {
   "cell_type": "code",
   "execution_count": null,
   "metadata": {},
   "outputs": [],
   "source": [
    "plot_results_CV(MCC_val_all_tree, MCC_test_all_tree, acc_val_all_tree, acc_test_all_tree)"
   ]
  },
  {
   "cell_type": "markdown",
   "metadata": {},
   "source": [
    "Try with SVM"
   ]
  },
  {
   "cell_type": "code",
   "execution_count": null,
   "metadata": {},
   "outputs": [],
   "source": [
    "C= 4.17531\n",
    "gamm = 0.02807\n",
    "svm = SVC(C=C, kernel=\"rbf\", gamma=gamm, class_weight=\"balanced\")\n",
    "MCC_val_svm, MCC_test_svm, acc_val_svm, acc_test_svm = run_cross_validation(best_features, active, folds=10, verbose=False, clf=svm)"
   ]
  },
  {
   "cell_type": "code",
   "execution_count": null,
   "metadata": {},
   "outputs": [],
   "source": [
    "plot_results_CV(MCC_val_svm, MCC_test_svm, acc_val_svm, acc_test_svm)"
   ]
  },
  {
   "cell_type": "markdown",
   "metadata": {},
   "source": [
    "Use only SARS2 set"
   ]
  },
  {
   "cell_type": "code",
   "execution_count": null,
   "metadata": {},
   "outputs": [],
   "source": [
    "model = RandomForestClassifier(random_state=42, class_weight=\"balanced\")\n",
    "MCC_val_all, MCC_test_all, acc_val_all, acc_test_all = run_cross_validation(best_features_SARS2, active_SARS2, clf=model, folds=5, verbose=False)"
   ]
  },
  {
   "cell_type": "code",
   "execution_count": null,
   "metadata": {},
   "outputs": [],
   "source": [
    "plot_results_CV(MCC_val_all, MCC_test_all, acc_val_all, acc_test_all)"
   ]
  },
  {
   "cell_type": "markdown",
   "metadata": {},
   "source": [
    "Use only SARS1 set"
   ]
  },
  {
   "cell_type": "code",
   "execution_count": null,
   "metadata": {},
   "outputs": [],
   "source": [
    "model = RandomForestClassifier(random_state=42, class_weight=\"balanced\")\n",
    "MCC_val_all, MCC_test_all, acc_val_all, acc_test_all = run_cross_validation(best_features_SARS1, active_SARS1, clf=model, folds=10, verbose=False)"
   ]
  },
  {
   "cell_type": "code",
   "execution_count": null,
   "metadata": {},
   "outputs": [],
   "source": [
    "plot_results_CV(MCC_val_all, MCC_test_all, acc_val_all, acc_test_all)"
   ]
  },
  {
   "cell_type": "code",
   "execution_count": null,
   "metadata": {},
   "outputs": [],
   "source": [
    "n_features = []\n",
    "MCCs = []\n",
    "accs = []\n",
    "skf = StratifiedKFold(n_splits=10)\n",
    "for n in range(1, len(best)):\n",
    "    feat_select = SelectKBest(chi2, k=n)\n",
    "    transform_features = feat_select.fit_transform(best_features, active)\n",
    "    n_features.append(transform_features.shape[1])\n",
    "    mcc_CV = []\n",
    "    acc_CV = []\n",
    "    for i, (train_index, test_index) in enumerate(skf.split(transform_features, active)):\n",
    "        train_data, test_data = transform_features[train_index], transform_features[test_index]\n",
    "        train_labels, test_labels = active[train_index], active[test_index]\n",
    "        print(f\"Calculating with fold {i}, percentile {percentile}\")\n",
    "        clf = DecisionTreeClassifier(random_state=42)\n",
    "        clf.fit(train_data, train_labels)\n",
    "        predictions = clf.predict(test_data)\n",
    "        test_acc, test_mcc = print_metrics(predictions, test_labels)\n",
    "        mcc_CV.append(test_mcc)\n",
    "        acc_CV.append(test_acc)\n",
    "    MCCs.append(mcc_CV)\n",
    "    accs.append(acc_CV)\n"
   ]
  },
  {
   "cell_type": "code",
   "execution_count": null,
   "metadata": {},
   "outputs": [],
   "source": [
    "plt.figure(figsize=(10, 6))\n",
    "plt.boxplot(MCCs, labels=n_features)\n",
    "plt.ylabel(\"MCC\")\n",
    "plt.xlabel(\"Features\");"
   ]
  },
  {
   "cell_type": "code",
   "execution_count": null,
   "metadata": {},
   "outputs": [],
   "source": [
    "train_data, test_data, train_labels, test_labels = train_test_split(best_features, active, test_size=0.25, random_state=42, stratify=active)"
   ]
  },
  {
   "cell_type": "code",
   "execution_count": null,
   "metadata": {},
   "outputs": [],
   "source": [
    "grid_search_SVM(train_data, test_data, train_labels, test_labels)"
   ]
  },
  {
   "cell_type": "code",
   "execution_count": null,
   "metadata": {},
   "outputs": [],
   "source": [
    "C=3.039195382313198\n",
    "gamma=0.005298316906283708\n",
    "svm_obj = SVC(C=C, kernel=\"rbf\", gamma=gamma, class_weight=\"balanced\")\n",
    "MCC_val_all, MCC_test_all, acc_val_all, acc_test_all = run_cross_validation(best_features, active, folds=10, clf=svm_obj, verbose=False)"
   ]
  },
  {
   "cell_type": "code",
   "execution_count": null,
   "metadata": {},
   "outputs": [],
   "source": [
    "plot_results_CV(MCC_val_all, MCC_test_all, acc_val_all, acc_test_all)"
   ]
  },
  {
   "cell_type": "code",
   "execution_count": null,
   "metadata": {},
   "outputs": [],
   "source": [
    "from sklearn.linear_model import LogisticRegression\n",
    "from sklearn.naive_bayes import GaussianNB\n",
    "from sklearn.ensemble import RandomForestClassifier, VotingClassifier"
   ]
  },
  {
   "cell_type": "code",
   "execution_count": null,
   "metadata": {},
   "outputs": [],
   "source": [
    "train_data, test_data, train_labels, test_labels = train_test_split(joined_features, active, test_size=0.25, random_state=42, stratify=active)"
   ]
  },
  {
   "cell_type": "code",
   "execution_count": null,
   "metadata": {},
   "outputs": [],
   "source": [
    "C= 0.788046\n",
    "gamm = 0.0239502\n",
    "svm = SVC(C=C, kernel=\"rbf\", gamma=gamm, class_weight=\"balanced\")\n",
    "clf2 = RandomForestClassifier(n_estimators=100, random_state=42)\n",
    "clf3 = GaussianNB()\n",
    "eclf1 = VotingClassifier(estimators=[('svm', svm), ('rf', clf2), ('gnb', clf3)], voting='hard')\n",
    "eclf1.fit(train_data, train_labels)\n",
    "predictions = eclf1.predict(test_data)\n",
    "vals = print_metrics(predictions, test_labels)\n",
    "plot_confusion(predictions, test_labels)"
   ]
  },
  {
   "cell_type": "code",
   "execution_count": null,
   "metadata": {},
   "outputs": [],
   "source": [
    "MCC_val_vote, MCC_test_vote, acc_val_vote, acc_test_vote = run_cross_validation(best_features, active, folds=10, clf=eclf1, verbose=False)"
   ]
  },
  {
   "cell_type": "code",
   "execution_count": null,
   "metadata": {},
   "outputs": [],
   "source": [
    "plot_results_CV(MCC_val_vote, MCC_test_vote, acc_val_vote, acc_test_vote)"
   ]
  },
  {
   "cell_type": "code",
   "execution_count": null,
   "metadata": {},
   "outputs": [],
   "source": []
  }
 ],
 "metadata": {
  "kernelspec": {
   "display_name": "Python 3",
   "language": "python",
   "name": "python3"
  },
  "language_info": {
   "codemirror_mode": {
    "name": "ipython",
    "version": 3
   },
   "file_extension": ".py",
   "mimetype": "text/x-python",
   "name": "python",
   "nbconvert_exporter": "python",
   "pygments_lexer": "ipython3",
   "version": "3.7.7"
  }
 },
 "nbformat": 4,
 "nbformat_minor": 4
}
