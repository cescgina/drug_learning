{
 "cells": [
  {
   "cell_type": "markdown",
   "metadata": {},
   "source": [
    "# Predictiong biochemical activity against 2c9 with a small dataset\n",
    "\n",
    "In this notebook we will try to use the more representative features of the Morgan fingerprint and the physicochemical descriptors given by Mordred library to fit a model with small dataset.\n",
    "\n",
    "\n",
    "## Overview\n",
    "\n",
    "- Load data\n",
    "- Get fingerprint (in this case we simply load it from files)\n",
    "- Get descriptors\n",
    "- Select data\n",
    "\n",
    "\n",
    "## 1) Packages"
   ]
  },
  {
   "cell_type": "code",
   "execution_count": 1,
   "metadata": {},
   "outputs": [
    {
     "name": "stdout",
     "output_type": "stream",
     "text": [
      "2.0.0\n"
     ]
    }
   ],
   "source": [
    "%matplotlib inline\n",
    "%load_ext tensorboard\n",
    "!rm -rf ./logs/ \n",
    "\n",
    "import os\n",
    "import random\n",
    "import numpy as np\n",
    "import pandas as pd\n",
    "import tensorflow as tf\n",
    "from scipy import stats\n",
    "import seaborn as sns\n",
    "import matplotlib\n",
    "import matplotlib.pyplot as plt\n",
    "from itertools import product\n",
    "from sklearn.utils.class_weight import compute_class_weight\n",
    "from sklearn.svm import SVC\n",
    "from sklearn.metrics import auc, roc_curve\n",
    "from sklearn.metrics import confusion_matrix\n",
    "from sklearn.feature_selection import SelectPercentile, SelectKBest\n",
    "from sklearn.feature_selection import chi2, mutual_info_classif\n",
    "from tensorboard.plugins.hparams import api as hp\n",
    "from sklearn.model_selection import train_test_split\n",
    "from sklearn.feature_selection import VarianceThreshold\n",
    "from rdkit import Chem\n",
    "from mordred import Calculator, descriptors\n",
    "\n",
    "plt.style.use(\"ggplot\")\n",
    "matplotlib.rcParams.update({'font.size': 24})\n",
    "PATH_DATA = \"../datasets/CYP/\"\n",
    "print(tf.__version__)\n",
    "\n",
    "load_clean_data =  True # Otherwise it will load data with NaN"
   ]
  },
  {
   "cell_type": "markdown",
   "metadata": {},
   "source": [
    "## 2) Loading data"
   ]
  },
  {
   "cell_type": "code",
   "execution_count": 2,
   "metadata": {},
   "outputs": [],
   "source": [
    "PATH_DATA = \"../datasets/CYP/\"\n",
    "\n",
    "shared_data = pd.read_csv(os.path.join(PATH_DATA, \"shared_set_cyp.csv\"))\n",
    "labels_2c9 = (shared_data[\"p450-cyp2c9 Activity Outcome\"] == \"Active\").values.astype(int)\n",
    "labels_3a4 = (shared_data[\"p450-cyp3a4 Activity Outcome\"] == \"Active\").values.astype(int)\n",
    "testing_2c9_data = pd.read_csv(os.path.join(PATH_DATA, \"only_2c9_set_cyp.csv\"))\n",
    "labels_testing_2c9 = (testing_2c9_data[\"p450-cyp2c9 Activity Outcome\"] == \"Active\").values.astype(int)\n",
    "testing_3a4_data = pd.read_csv(os.path.join(PATH_DATA, \"only_3a4_set_cyp.csv\"))\n",
    "labels_testing_3a4 = (testing_3a4_data[\"p450-cyp3a4 Activity Outcome\"] == \"Active\").values.astype(int)"
   ]
  },
  {
   "cell_type": "code",
   "execution_count": 3,
   "metadata": {},
   "outputs": [],
   "source": [
    "def col_to_array(df, col_name='p450-cyp2c9 Activity Outcome'):\n",
    "    col = df[col_name]\n",
    "    arr = col.to_numpy() # class wants to make reference to active or inactive\n",
    "    arr = np.reshape(arr, [arr.shape[0],1])\n",
    "    return np.squeeze(arr)"
   ]
  },
  {
   "cell_type": "code",
   "execution_count": 4,
   "metadata": {},
   "outputs": [],
   "source": [
    "smi_col_shared = col_to_array(shared_data, 'CanonicalSMILES')\n",
    "smi_col_only2c9 = col_to_array(testing_2c9_data, 'CanonicalSMILES')"
   ]
  },
  {
   "cell_type": "markdown",
   "metadata": {},
   "source": [
    "## 3) Getting Mordred descriptors"
   ]
  },
  {
   "cell_type": "markdown",
   "metadata": {},
   "source": [
    "We generate the descriptors using Mordred if ther are not in the features folder, otherwise the data is loaded from there.\n",
    "\n",
    "There are two types of data we can load:\n",
    "\n",
    "- Data without processing: this contains all the physicochemical descriptors that are generated with Mordred.\n",
    "- Clean data: this data doesn't contains all the descriptors computed by Mordred. All the columns wich contain NaN, are remove to easily apply the feature selection.\n",
    "    - This data has been processed as follows:\n",
    "        - Convert all the str in the data frame to NaN.\n",
    "        - Remove columns that contain NaN values.\n",
    "            - Note that if we remove rows, we obtain an empty df (-> everything is removed)\n",
    "        - Remove the all the columns with different headers between the shared and only 2c9 datasets."
   ]
  },
  {
   "cell_type": "code",
   "execution_count": 5,
   "metadata": {},
   "outputs": [],
   "source": [
    "def get_descriptors(smi_arr, activity_labels, clean_dataset=True, save_to_npy=True, filename='shared_set_features_mordred'):\n",
    "    calc = Calculator(descriptors, ignore_3D=True)\n",
    "    mols = [Chem.MolFromSmiles(smi) for smi in smi_arr]\n",
    "    df_descriptors = calc.pandas(mols)\n",
    "    df_descriptors = df_descriptors.insert(0, \"p450-cyp2c9 Activity Outcome\", activity_labels, True)\n",
    "    if clean_dataset:\n",
    "        df_descriptors = descriptors_shared.apply(pd.to_numeric, errors='coerce')\n",
    "        df_descriptors = df_descriptors.dropna(axis=1)\n",
    "    if save_to_npy:\n",
    "        df_descriptors.to_csv(os.path.join(\"features\", filename + \".npy\"))\n",
    "    return df_descriptors"
   ]
  },
  {
   "cell_type": "code",
   "execution_count": 6,
   "metadata": {},
   "outputs": [],
   "source": [
    "if load_clean_data:\n",
    "    if os.path.exists(os.path.join(\"features\", \"shared_set_features_mordred_clean.npy\")):\n",
    "        descriptors_shared = pd.read_csv(os.path.join(\"features\", \"shared_set_features_mordred_clean.npy\")).drop(['Unnamed: 0'], axis=1)\n",
    "    else:\n",
    "        descriptors_shared = get_descriptors(smi_col_shared, labels_2c9, clean_dataset=True, filename='shared_set_features_mordred_clean')\n",
    "\n",
    "    if os.path.exists(os.path.join(\"features\", \"only2c9_features_mordred_clean.npy\")):\n",
    "        descriptors_only2c9 = pd.read_csv(os.path.join(\"features\", \"only2c9_features_mordred_clean.npy\")).drop(['Unnamed: 0'], axis=1)\n",
    "    else:\n",
    "        descriptors_only2c9 = get_descriptors(smi_col_only2c9, labels_testing_2c9, clean_dataset=True, filename='only2c9_features_mordred_clean')\n",
    "\n",
    "else:\n",
    "    if os.path.exists(os.path.join(\"features\", \"shared_set_features_mordred.npy\")):\n",
    "        descriptors_shared = pd.read_csv(os.path.join(\"features\", \"shared_set_features_mordred.npy\")).drop(['Unnamed: 0'], axis=1)\n",
    "    else:\n",
    "        descriptors_shared = get_descriptors(smi_col_shared, labels_2c9, clean_dataset=False, filename='shared_set_features_mordred')\n",
    "\n",
    "    if os.path.exists(os.path.join(\"features\", \"only2c9_features_mordred.npy\")):\n",
    "        descriptors_only2c9 = pd.read_csv(os.path.join(\"features\", \"only2c9_features_mordred.npy\")).drop(['Unnamed: 0'], axis=1)\n",
    "    else:\n",
    "        descriptors_only2c9 = get_descriptors(smi_col_only2c9, labels_testing_2c9, clean_dataset=False, filename='only2c9_features_mordred')"
   ]
  },
  {
   "cell_type": "code",
   "execution_count": 7,
   "metadata": {},
   "outputs": [],
   "source": [
    "if load_clean_data: # To get data with the same descriptors\n",
    "    lst_shared_clean=list(descriptors_shared.columns.values)\n",
    "    lst_only2c9_clean=list(descriptors_only2c9.columns.values)\n",
    "    common_elements=list(set(lst_shared_clean) & set(lst_only2c9_clean))\n",
    "\n",
    "    lst_shared_clean = list(set(lst_shared_clean)-set(common_elements))\n",
    "    lst_only2c9_clean = list(set(lst_only2c9_clean)-set(common_elements))\n",
    "    \n",
    "    descriptors_shared = descriptors_shared.drop(lst_shared_clean, axis=1)\n",
    "    descriptors_only2c9 = descriptors_only2c9.drop(lst_only2c9_clean, axis=1)"
   ]
  },
  {
   "cell_type": "code",
   "execution_count": 8,
   "metadata": {},
   "outputs": [
    {
     "name": "stdout",
     "output_type": "stream",
     "text": [
      "(9420, 752) (2813, 752)\n"
     ]
    }
   ],
   "source": [
    "print(descriptors_shared.shape, descriptors_only2c9.shape)"
   ]
  },
  {
   "cell_type": "markdown",
   "metadata": {},
   "source": [
    "## 4) Get features (Morgan fingerprint)"
   ]
  },
  {
   "cell_type": "code",
   "execution_count": 9,
   "metadata": {},
   "outputs": [],
   "source": [
    "def get_features(input_sdf):\n",
    "    structures_shared = Chem.SDMolSupplier(input_sdf)\n",
    "    features = []\n",
    "    for mol in structures_shared:\n",
    "        fp = AllChem.GetMorganFingerprintAsBitVect(mol,2,nBits=1024)\n",
    "        arr = np.zeros((0,), dtype=np.int8)\n",
    "        DataStructs.ConvertToNumpyArray(fp,arr)\n",
    "        features.append(arr)\n",
    "    return np.array(features)"
   ]
  },
  {
   "cell_type": "code",
   "execution_count": 10,
   "metadata": {},
   "outputs": [],
   "source": [
    "#features_shared = np.load(os.path.join(\"features\", \"shared_set_features.npy\"))\n",
    "#features_only_2c9 = np.load(os.path.join(\"features\", \"only_2c9_set_features.npy\"))\n",
    "#features_only_3a4 = np.load(os.path.join(\"features\", \"only_3a4_set_features.npy\"))\n",
    "\n",
    "if os.path.exists(os.path.join(\"features\", \"shared_set_features.npy\")):\n",
    "    features_shared = np.load(os.path.join(\"features\", \"shared_set_features.npy\"))\n",
    "else:\n",
    "    features_shared = get_features(os.path.join(PATH_DATA, \"shared_set_cyp.sdf\"))\n",
    "    np.save(os.path.join(\"features\", \"shared_set_features.npy\"), features_shared)\n",
    "    \n",
    "if os.path.exists(os.path.join(\"features\", \"only_2c9_set_features.npy\")):\n",
    "    features_only_2c9 = np.load(os.path.join(\"features\", \"only_2c9_set_features.npy\"))\n",
    "else:\n",
    "    features_only_2c9 = get_features(os.path.join(PATH_DATA, \"only_2c9_set.sdf\"))\n",
    "    np.save(os.path.join(\"features\", \"only_2c9_set_features.npy\"), features_shared)\n",
    "    \n",
    "if os.path.exists(os.path.join(\"features\", \"only_3a4_set_features.npy\")):\n",
    "    features_only_3a4 = np.load(os.path.join(\"features\", \"only_3a4_set_features.npy\"))\n",
    "else:\n",
    "    features_only_3a4 = get_features(os.path.join(PATH_DATA, \"only_3a4_set.sdf.sdf\"))\n",
    "    np.save(os.path.join(\"features\", \"only_3a4_set_features.npy\"), features_shared)"
   ]
  },
  {
   "cell_type": "markdown",
   "metadata": {},
   "source": [
    "## 5) Feature selection\n",
    "\n",
    "In this part we want to select the descriptors and the finferprint features that are very representative of the molecule activity.\n",
    "\n",
    "In the following cell there are the percentage of values that are kept of the descriptors.\n",
    "Since the fingerprint seems to have a low score in all its features (see plots below), a lower percentil was selected in order to avoid 'noise'."
   ]
  },
  {
   "cell_type": "code",
   "execution_count": 11,
   "metadata": {},
   "outputs": [],
   "source": [
    "# Percentage to be kept\n",
    "percetile_descriptors = 60\n",
    "percetile_fingerprint = 40"
   ]
  },
  {
   "cell_type": "code",
   "execution_count": 12,
   "metadata": {},
   "outputs": [],
   "source": [
    "def select_features_univar(X_train, Y_train, X_test, score_func=chi2, k_best=None, percentile = None):\n",
    "    \"\"\"score_func=chi2 (default), mutual_info_classif\"\"\"\n",
    "    if not k_best == None:\n",
    "        fs = SelectKBest(score_func=score_func, k=k_best)\n",
    "    elif not percentile == None:\n",
    "        fs = SelectPercentile(score_func=score_func, percentile=percentile)\n",
    "    else:\n",
    "        print(\"Introduce the number of best features to be kept (`k_best`) or the percentil.\")\n",
    "        return\n",
    "    fs.fit(X_train, Y_train)\n",
    "    X_train_fs = fs.transform(X_train)\n",
    "    X_test_fs = fs.transform(X_test)\n",
    "    return X_train_fs, X_test_fs, fs\n",
    "\n",
    "def plot_score(fs, print_scores=False):\n",
    "    \"\"\"plot the score for all the features\"\"\"\n",
    "    if print_scores:\n",
    "        for i in range(len(fs.scores_)):\n",
    "            print('Feature %d: %f' % (i, fs.scores_[i]))\n",
    "    plt.bar([i for i in range(len(fs.scores_))], fs.scores_)\n",
    "    plt.show()"
   ]
  },
  {
   "cell_type": "markdown",
   "metadata": {},
   "source": [
    "### 5.1) Descriptors selection\n",
    "\n",
    "In this part we want to select the descriptors that are representative of the molecule activity.\n",
    "To do so, the the mutual information classification is used for the descriptor selection, since the [Pearson chi square's test does not apply to negative values](https://stackoverflow.com/questions/25792012/feature-selection-using-scikit-learn).\n",
    "\n",
    "Possible solutions that could be explored to use the Pearson test are (see link above):\n",
    "- Normalization of values \n",
    "- Shift of values to avoid negative values.\n",
    "\n",
    "A practical consideration for this task is that the column `'p450-cyp2c9 Activity Outcome'` in the descriptors dataframe, has to be removed and introduced to the function as a label.\n",
    "\n",
    "#### 5.1.1) Detection and remove of Outliers\n",
    "\n",
    "Before selecting features, we will remove the examples that contain outliers using the Z score criteria.\n",
    "\n",
    "$Z = \\frac{X-\\mu}{\\sigma}$\n",
    "\n",
    "Z-scores can quantify the unusualness of an observation when your data follow the normal distribution. Z-scores are the number of standard deviations above and below the mean that each value falls. For example, a Z-score of 2 indicates that an observation is two standard deviations above the average while a Z-score of -2 signifies it is two standard deviations below the mean. A Z-score of zero represents a value that equals the mean. [Source](https://statisticsbyjim.com/basics/outliers/)"
   ]
  },
  {
   "cell_type": "code",
   "execution_count": 18,
   "metadata": {},
   "outputs": [
    {
     "data": {
      "text/plain": [
       "\"\\n# RuntimeWarning: invalid value encountered in less\\n# This is separate from the ipykernel package so we can avoid doing imports until\\ndef drop_outliers(df_original, threshold=3):\\n    df=df_original.copy()\\n    return df[(np.abs(stats.zscore(df)) < threshold).all(axis=1)]\\n    \\ndf_2 = drop_outliers(descriptors_only2c9.astype('float64'),threshold=100)\\n\""
      ]
     },
     "execution_count": 18,
     "metadata": {},
     "output_type": "execute_result"
    }
   ],
   "source": [
    "def compute_z_score(df_original):\n",
    "    df=df_original.copy()\n",
    "    headers = []\n",
    "    for col in df.columns:\n",
    "        df[f'{col}_zscore'] = (df[col] - df[col].mean())/df[col].std(ddof=0)\n",
    "        headers.append(col)\n",
    "    return df, headers\n",
    "\n",
    "def outliers_detection(df, threshold=3):\n",
    "    df_scored, headers=compute_z_score(df)\n",
    "    zscore_col = list(set(df_scored.columns) - set(headers)) # to only evaluate zscore columns\n",
    "    for col in zscore_col:\n",
    "        df_scored[f'{col}_outlier'] = (abs(df_scored[f'{col}'])> threshold).astype(int)\n",
    "    return df_scored, zscore_col\n",
    "\n",
    "def drop_outliers(df, threshold=3):\n",
    "    df_outlier, zscore_col = outliers_detection(df, threshold=threshold)\n",
    "    for col in zscore_col:\n",
    "        index = df_outlier[ df_outlier[f'{col}_outlier'] == 1 ].index\n",
    "        df_outlier.drop(index , inplace=True)\n",
    "        df_outlier.drop(col , inplace=True,axis = 1)\n",
    "        df_outlier.drop(f'{col}_outlier' , inplace=True, axis = 1)\n",
    "    return df_outlier\n",
    "\n",
    "\"\"\"\n",
    "# RuntimeWarning: invalid value encountered in less\n",
    "# This is separate from the ipykernel package so we can avoid doing imports until\n",
    "def drop_outliers(df_original, threshold=3):\n",
    "    df=df_original.copy()\n",
    "    return df[(np.abs(stats.zscore(df)) < threshold).all(axis=1)]\n",
    "    \n",
    "df_2 = drop_outliers(descriptors_only2c9.astype('float64'),threshold=100)\n",
    "\"\"\""
   ]
  },
  {
   "cell_type": "code",
   "execution_count": 25,
   "metadata": {},
   "outputs": [],
   "source": [
    "remove_outliers = True\n",
    "threshold = 3\n",
    "\n",
    "if remove_outliers:\n",
    "    if os.path.exists(os.path.join(\"features\", \"shared_set_features_mordred_clean_no_outliers.npy\")):\n",
    "        descriptors_shared = pd.read_csv(os.path.join(\"features\", \"shared_set_features_mordred_clean_no_outliers.npy\")).drop(['Unnamed: 0'], axis=1)\n",
    "    else:\n",
    "        descriptors_shared = drop_outliers(descriptors_shared, threshold=threshold)\n",
    "        descriptors_shared.to_csv(os.path.join(\"features\", 'shared_set_features_mordred_clean_no_outliers.npy'))\n",
    "        \n",
    "    if os.path.exists(os.path.join(\"features\", \"only2c9_features_mordred_clean_no_outliers.npy\")):\n",
    "        descriptors_only2c9 = pd.read_csv(os.path.join(\"features\", \"only2c9_features_mordred_clean_no_outliers.npy\")).drop(['Unnamed: 0'], axis=1)\n",
    "    else:\n",
    "        descriptors_only2c9 = drop_outliers(descriptors_only2c9, threshold=threshold)\n",
    "        descriptors_only2c9.to_csv(os.path.join(\"features\", 'only2c9_features_mordred_clean_no_outliers.npy'))"
   ]
  },
  {
   "cell_type": "code",
   "execution_count": 26,
   "metadata": {},
   "outputs": [
    {
     "data": {
      "text/plain": [
       "((846, 752), (2372, 752))"
      ]
     },
     "execution_count": 26,
     "metadata": {},
     "output_type": "execute_result"
    }
   ],
   "source": [
    "descriptors_only2c9.shape, descriptors_shared.shape"
   ]
  },
  {
   "cell_type": "code",
   "execution_count": 27,
   "metadata": {},
   "outputs": [],
   "source": [
    "if remove_outliers and not descriptors_only2c9.shape[1] == descriptors_shared.shape[1]:\n",
    "    lst_shared_clean=list(descriptors_shared.columns.values)\n",
    "    lst_only2c9_clean=list(descriptors_only2c9.columns.values)\n",
    "    common_elements=list(set(lst_shared_clean) & set(lst_only2c9_clean))\n",
    "\n",
    "    lst_shared_clean = list(set(lst_shared_clean)-set(common_elements))\n",
    "    lst_only2c9_clean = list(set(lst_only2c9_clean)-set(common_elements))\n",
    "    \n",
    "    descriptors_shared = descriptors_shared.drop(lst_shared_clean, axis=1)\n",
    "    descriptors_only2c9 = descriptors_only2c9.drop(lst_only2c9_clean, axis=1)\n",
    "    \n",
    "    descriptors_shared.to_csv(os.path.join(\"features\", 'shared_set_features_mordred_clean_no_outliers.npy'))\n",
    "    descriptors_only2c9.to_csv(os.path.join(\"features\", 'only2c9_features_mordred_clean_no_outliers.npy'))"
   ]
  },
  {
   "cell_type": "code",
   "execution_count": 28,
   "metadata": {},
   "outputs": [
    {
     "data": {
      "text/plain": [
       "((846, 752), (2372, 752))"
      ]
     },
     "execution_count": 28,
     "metadata": {},
     "output_type": "execute_result"
    }
   ],
   "source": [
    "descriptors_only2c9.shape,descriptors_shared.shape"
   ]
  },
  {
   "cell_type": "markdown",
   "metadata": {},
   "source": [
    "#### 5.1.2) Normalisation\n",
    "\n",
    "Now we are going to normalise the data to values between [0,1]"
   ]
  },
  {
   "cell_type": "code",
   "execution_count": null,
   "metadata": {},
   "outputs": [],
   "source": []
  },
  {
   "cell_type": "markdown",
   "metadata": {},
   "source": [
    "#### 5.1.2) Selection of descriptors\n",
    "\n",
    "Finally we can now select the more relevants descriptors using Mutual information criteria!"
   ]
  },
  {
   "cell_type": "code",
   "execution_count": 13,
   "metadata": {},
   "outputs": [],
   "source": [
    "descriptors_shared = descriptors_shared.drop(['p450-cyp2c9 Activity Outcome'], axis=1)\n",
    "descriptors_only2c9 = descriptors_only2c9.drop(['p450-cyp2c9 Activity Outcome'], axis=1)"
   ]
  },
  {
   "cell_type": "code",
   "execution_count": 14,
   "metadata": {},
   "outputs": [],
   "source": [
    "shared_descriptors_fs, only2c9_descriptors_fs, fs = select_features_univar(descriptors_shared, labels_2c9, descriptors_only2c9, score_func=mutual_info_classif, percentile = percetile_descriptors)"
   ]
  },
  {
   "cell_type": "code",
   "execution_count": 15,
   "metadata": {},
   "outputs": [
    {
     "data": {
      "image/png": "[encoded data removed]",
      "text/plain": [
       "<Figure size 432x288 with 1 Axes>"
      ]
     },
     "metadata": {},
     "output_type": "display_data"
    }
   ],
   "source": [
    "plot_score(fs)"
   ]
  },
  {
   "cell_type": "code",
   "execution_count": 16,
   "metadata": {},
   "outputs": [
    {
     "name": "stdout",
     "output_type": "stream",
     "text": [
      "(9420, 450) (2813, 450)\n"
     ]
    }
   ],
   "source": [
    "print(shared_descriptors_fs.shape, only2c9_descriptors_fs.shape)"
   ]
  },
  {
   "cell_type": "markdown",
   "metadata": {},
   "source": [
    "### 5.2) Fingerprint features selection\n",
    "\n",
    "In this part we want to select the fingerprint features that are very representative of the molecule activity.\n",
    "To do so, the the mutual information classification is used for the descriptor selection, for coherence with the descriptors.\n",
    "\n",
    "However, in this case it is not mandatory to use the mutual information classification, therefore, we could also use the chi2 test.\n",
    "\n",
    "Moreover, as the fingerprint are \"boolean descriptors\", we could also implement a variance threshold, as it has been previously done in other studies (Joan)."
   ]
  },
  {
   "cell_type": "code",
   "execution_count": 17,
   "metadata": {},
   "outputs": [],
   "source": [
    "shared_features_fs, only2c9_features_fs, fs_morgan = select_features_univar(features_shared, labels_2c9, features_only_2c9, score_func=mutual_info_classif, percentile = percetile_fingerprint)"
   ]
  },
  {
   "cell_type": "code",
   "execution_count": 18,
   "metadata": {},
   "outputs": [
    {
     "data": {
      "image/png": "[encoded data removed]",
      "text/plain": [
       "<Figure size 432x288 with 1 Axes>"
      ]
     },
     "metadata": {},
     "output_type": "display_data"
    }
   ],
   "source": [
    "plot_score(fs_morgan)"
   ]
  },
  {
   "cell_type": "code",
   "execution_count": 19,
   "metadata": {},
   "outputs": [
    {
     "name": "stdout",
     "output_type": "stream",
     "text": [
      "(9420, 410) (2813, 410)\n"
     ]
    }
   ],
   "source": [
    "print(shared_features_fs.shape, only2c9_features_fs.shape)"
   ]
  },
  {
   "cell_type": "markdown",
   "metadata": {},
   "source": [
    "## 6) Preparing the trainig, validatio and test sets\n",
    "\n",
    "### 6.1) Joining selected descriptors and fingerprints\n",
    "\n",
    "\n",
    "\n",
    "Now we have to join both data into a df that will be used to train and evaluate a NN."
   ]
  },
  {
   "cell_type": "code",
   "execution_count": 20,
   "metadata": {},
   "outputs": [],
   "source": [
    "concatenated_shared = np.concatenate([shared_descriptors_fs, shared_features_fs], axis=1)\n",
    "concatenated_only2c9 = np.concatenate([only2c9_descriptors_fs, only2c9_features_fs], axis=1)"
   ]
  },
  {
   "cell_type": "code",
   "execution_count": 21,
   "metadata": {},
   "outputs": [
    {
     "data": {
      "text/plain": [
       "True"
      ]
     },
     "execution_count": 21,
     "metadata": {},
     "output_type": "execute_result"
    }
   ],
   "source": [
    "concatenated_shared.shape[1]==concatenated_only2c9.shape[1]"
   ]
  },
  {
   "cell_type": "markdown",
   "metadata": {},
   "source": [
    "### 6.2) Splitting the data\n",
    "\n",
    "We will split the data and reduce the training set to:\n",
    "\n",
    "- 375 examples for the training set from the shared dataset (`concatenated_shared`)\n",
    "- 125 examples for the validation set from the shared dataset (`concatenated_shared`)\n",
    "- 125 examples for the test set from the only2c9 dataset (`concatenated_only2c9`)"
   ]
  },
  {
   "cell_type": "code",
   "execution_count": 154,
   "metadata": {},
   "outputs": [
    {
     "name": "stdout",
     "output_type": "stream",
     "text": [
      "(125, 860) (125, 1)\n"
     ]
    }
   ],
   "source": [
    "dataset_size = 500                  # training + validation sets\n",
    "trainset_size = int(0.75 * dataset_size)\n",
    "testset_size = int(0.25 * dataset_size)  # To have the same #examples in the test and validation set (Assuming that the mini_dataset will be split 75% train/25%val.)\n",
    "m_only_2c9 = concatenated_only2c9.shape[0] # number of examples in the features_only_2c9\n",
    "np.random.seed(3)\n",
    "\n",
    "permutation_only_2c9 = list(np.random.permutation(m_only_2c9))\n",
    "shuffled_testing_2c9_data = concatenated_only2c9[permutation_only_2c9,:]\n",
    "shuffled_labels_testing_2c9 = labels_testing_2c9[permutation_only_2c9]\n",
    "\n",
    "mini_testing_2c9_data = shuffled_testing_2c9_data[:testset_size,:]\n",
    "mini_labels_testing_2c9_data = shuffled_labels_testing_2c9[:testset_size].reshape(testset_size,1)\n",
    "\n",
    "print(mini_testing_2c9_data.shape, mini_labels_testing_2c9_data.shape)"
   ]
  },
  {
   "cell_type": "code",
   "execution_count": 155,
   "metadata": {},
   "outputs": [
    {
     "name": "stdout",
     "output_type": "stream",
     "text": [
      "(375, 860) (125, 860) (375,) (125,)\n"
     ]
    },
    {
     "data": {
      "image/png": "[encoded data removed]",
      "text/plain": [
       "<Figure size 1008x720 with 3 Axes>"
      ]
     },
     "metadata": {},
     "output_type": "display_data"
    }
   ],
   "source": [
    "train_data, val_data, train_labels, val_labels = train_test_split(concatenated_shared, labels_2c9, train_size=trainset_size, test_size=testset_size, stratify=labels_2c9, random_state=2)\n",
    "print(train_data.shape, val_data.shape, train_labels.shape, val_labels.shape)\n",
    "fig, ax = plt.subplots(1, 3, figsize=(14,10))\n",
    "ax[0].hist(train_labels)\n",
    "ax[0].set_xlabel(\"Training set 2c9\")\n",
    "ax[1].hist(val_labels)\n",
    "ax[1].set_xlabel(\"Validation set 2c9\")\n",
    "ax[2].hist(mini_labels_testing_2c9_data)\n",
    "ax[2].set_xlabel(\"Testing set 2c9\")\n",
    "plt.subplots_adjust(wspace=0.5)"
   ]
  },
  {
   "cell_type": "code",
   "execution_count": 156,
   "metadata": {},
   "outputs": [],
   "source": [
    "train_data = np.asarray(train_data).astype(np.float32)\n",
    "val_data = np.asarray(val_data).astype(np.float32)\n",
    "mini_testing_2c9_data = np.asarray(mini_testing_2c9_data).astype(np.float32)"
   ]
  },
  {
   "cell_type": "markdown",
   "metadata": {},
   "source": [
    "Since we have an unbalanced dataset, we will attribute to each class a weight.\n",
    "In this way we simulate having the same number of active and inactive cases."
   ]
  },
  {
   "cell_type": "code",
   "execution_count": 157,
   "metadata": {},
   "outputs": [
    {
     "name": "stderr",
     "output_type": "stream",
     "text": [
      "/Users/Anna/miniconda3/lib/python3.7/site-packages/sklearn/utils/validation.py:71: FutureWarning: Pass classes=[0 1], y=[0 0 1 0 0 0 0 0 0 0 0 0 0 1 1 0 0 0 1 0 0 1 1 1 0 0 0 0 1 0 1 0 1 1 0 0 0\n",
      " 1 0 1 0 1 1 0 0 1 0 1 0 0 0 0 1 0 0 0 0 0 0 1 0 0 0 0 0 0 1 0 0 0 1 0 1 0\n",
      " 1 0 0 0 0 1 1 0 1 1 1 0 0 1 0 1 1 0 0 1 0 0 1 1 0 0 0 0 1 0 1 0 0 0 1 0 1\n",
      " 0 0 1 0 0 0 1 0 0 0 1 1 0 0 0 1 0 0 1 0 1 0 1 0 0 0 0 1 0 0 0 0 0 1 0 0 0\n",
      " 0 0 1 0 0 1 1 0 1 0 1 0 0 0 0 0 0 1 1 1 0 1 0 0 1 0 1 0 1 0 0 1 0 0 0 1 1\n",
      " 1 0 0 1 1 1 0 0 1 0 0 0 0 0 1 0 0 0 0 0 0 1 0 1 0 1 0 0 1 1 1 1 0 0 0 1 0\n",
      " 0 1 1 0 0 1 0 0 0 0 1 0 1 0 0 0 0 0 0 0 0 0 0 1 1 0 0 1 1 0 1 0 0 0 1 0 1\n",
      " 0 1 1 1 0 0 0 0 0 0 1 0 1 0 0 0 1 0 1 0 0 0 0 0 0 1 1 0 1 0 0 0 1 1 1 0 1\n",
      " 1 0 0 0 0 0 0 0 0 0 0 0 1 1 0 1 0 0 0 1 0 0 0 0 0 0 0 0 0 1 1 0 1 0 1 1 0\n",
      " 1 0 0 0 0 1 0 0 1 0 0 1 0 0 0 0 1 1 0 0 0 0 0 0 0 0 0 0 0 0 0 1 0 0 0 0 0\n",
      " 0 0 0 1 0] as keyword args. From version 0.25 passing these as positional arguments will result in an error\n",
      "  FutureWarning)\n"
     ]
    }
   ],
   "source": [
    "class_weights = compute_class_weight('balanced',np.unique(train_labels), train_labels)\n",
    "class_weight = {0: class_weights[0], 1: class_weights[1]}"
   ]
  },
  {
   "cell_type": "code",
   "execution_count": 86,
   "metadata": {},
   "outputs": [
    {
     "data": {
      "text/plain": [
       "{0: 0.7375328083989501, 1: 1.5524861878453038}"
      ]
     },
     "execution_count": 86,
     "metadata": {},
     "output_type": "execute_result"
    }
   ],
   "source": [
    "class_weight"
   ]
  },
  {
   "cell_type": "markdown",
   "metadata": {},
   "source": [
    "## 7) Neural network"
   ]
  },
  {
   "cell_type": "code",
   "execution_count": 77,
   "metadata": {},
   "outputs": [],
   "source": [
    "def generate_model(layers_dim, lr, dropout, optimizer, L2):\n",
    "    \"\"\"layers_dim -- [n_input, n_hid_1, ..., n_output=1]\"\"\"\n",
    "    hidden_layers = []\n",
    "    for i in range(1,len(layers_dim)-1): hidden_layers.extend([tf.keras.layers.Dropout(dropout)] + [tf.keras.layers.Dense(layers_dim[i], activation=\"relu\", kernel_regularizer=tf.keras.regularizers.l2(L2))])\n",
    "    model = tf.keras.models.Sequential([\n",
    "        tf.keras.layers.Dense(layers_dim[0], activation='relu', input_shape=(layers_dim[0],))] +\n",
    "        hidden_layers + \n",
    "        [tf.keras.layers.Dense(layers_dim[-1], activation=\"sigmoid\")])\n",
    "    loss_function = tf.keras.losses.BinaryCrossentropy()\n",
    "    model.compile(optimizer=optimizer, loss=loss_function, metrics=['accuracy', tf.keras.metrics.Precision(), tf.keras.metrics.Recall()]) \n",
    "    return model\n",
    "\n",
    "def plot_confusion(predicted_values, target_values):\n",
    "    cm = confusion_matrix(target_values, predicted_values >= 0.5)\n",
    "    ax= plt.subplot()\n",
    "    sns.heatmap(cm, annot=True, ax = ax, fmt=\"g\", cmap=\"Greens\")\n",
    "    # labels, title and ticks\n",
    "    ax.set_xlabel('Predicted labels');ax.set_ylabel('True labels'); \n",
    "    ax.set_title('Confusion Matrix'); \n",
    "    ax.xaxis.set_ticklabels(['Inactive', 'Active']); ax.yaxis.set_ticklabels(['Inactive', 'Active'])\n",
    "\n",
    "def print_metrics(predicted_values, target_values, verbose=True):\n",
    "    tn, fp, fn, tp = confusion_matrix(target_values, predicted_values >= 0.5).ravel()\n",
    "    Sn = tp/(tp+fn)\n",
    "    Sp = tn/(tn+fp)\n",
    "    precision = tp/(tp+fp)\n",
    "    ner = (Sn+Sp)/2\n",
    "    accuracy = (tp+tn)/(tp+tn+fp+fn)\n",
    "    mcc = (tp*tn-fp*fn)/np.sqrt((tp+fp)*(tp+fn)*(tn+fp)*(tn+fn))\n",
    "    if verbose:\n",
    "        print(f\"NER: {ner:.3f}, Sensitivity or recall: {Sn:.3f}, Specificity: {Sp:.3f}, Precision: {precision:.3f}, Correctly calssified: {accuracy:.3f}, MCC: {mcc:.3f}\")\n",
    "    return mcc\n",
    "    \n",
    "class myCallback(tf.keras.callbacks.Callback):\n",
    "    def on_epoch_end(self, epoch, logs={}):\n",
    "        if(logs.get('accuracy')>0.80):\n",
    "          print(\"\\n Reached 80% accuracy on training set so cancelling training!\")\n",
    "          self.model.stop_training = True\n",
    "        if(logs.get('val_accuracy')>0.80):\n",
    "          print(\"\\n Reached 70% accuracy on validation set so cancelling training!\")\n",
    "          self.model.stop_training = True"
   ]
  },
  {
   "cell_type": "code",
   "execution_count": 78,
   "metadata": {},
   "outputs": [
    {
     "name": "stdout",
     "output_type": "stream",
     "text": [
      "Train on 1500 samples, validate on 500 samples\n",
      "Epoch 1/25\n",
      "1500/1500 - 1s - loss: 28136.7081 - accuracy: 0.3353 - precision_6: 0.3233 - recall_6: 0.9772 - val_loss: 0.7837 - val_accuracy: 0.3220 - val_precision_6: 0.3220 - val_recall_6: 1.0000\n",
      "Epoch 2/25\n",
      "1500/1500 - 1s - loss: 0.8808 - accuracy: 0.3313 - precision_6: 0.3205 - recall_6: 0.9647 - val_loss: 0.7836 - val_accuracy: 0.3220 - val_precision_6: 0.3220 - val_recall_6: 1.0000\n",
      "Epoch 3/25\n",
      "1500/1500 - 1s - loss: 83521.1388 - accuracy: 0.3380 - precision_6: 0.3232 - recall_6: 0.9689 - val_loss: 0.7837 - val_accuracy: 0.3220 - val_precision_6: 0.3220 - val_recall_6: 1.0000\n",
      "Epoch 4/25\n",
      "1500/1500 - 2s - loss: 282411.2002 - accuracy: 0.3280 - precision_6: 0.3208 - recall_6: 0.9772 - val_loss: 0.7839 - val_accuracy: 0.3220 - val_precision_6: 0.3220 - val_recall_6: 1.0000\n",
      "Epoch 5/25\n",
      "1500/1500 - 1s - loss: 1302.3798 - accuracy: 0.3253 - precision_6: 0.3207 - recall_6: 0.9834 - val_loss: 0.7840 - val_accuracy: 0.3220 - val_precision_6: 0.3220 - val_recall_6: 1.0000\n",
      "Epoch 6/25\n",
      "1500/1500 - 1s - loss: 1341.4828 - accuracy: 0.3347 - precision_6: 0.3226 - recall_6: 0.9730 - val_loss: 0.7840 - val_accuracy: 0.3220 - val_precision_6: 0.3220 - val_recall_6: 1.0000\n",
      "Epoch 7/25\n",
      "1500/1500 - 1s - loss: 8913.6266 - accuracy: 0.3313 - precision_6: 0.3207 - recall_6: 0.9668 - val_loss: 0.7841 - val_accuracy: 0.3220 - val_precision_6: 0.3220 - val_recall_6: 1.0000\n",
      "Epoch 8/25\n",
      "1500/1500 - 1s - loss: 0.8200 - accuracy: 0.3273 - precision_6: 0.3223 - recall_6: 0.9917 - val_loss: 0.7844 - val_accuracy: 0.3220 - val_precision_6: 0.3220 - val_recall_6: 1.0000\n",
      "Epoch 9/25\n",
      "1500/1500 - 2s - loss: 704.3828 - accuracy: 0.3267 - precision_6: 0.3216 - recall_6: 0.9876 - val_loss: 0.7843 - val_accuracy: 0.3220 - val_precision_6: 0.3220 - val_recall_6: 1.0000\n",
      "Epoch 10/25\n",
      "1500/1500 - 1s - loss: 261.0965 - accuracy: 0.3287 - precision_6: 0.3225 - recall_6: 0.9896 - val_loss: 0.7844 - val_accuracy: 0.3220 - val_precision_6: 0.3220 - val_recall_6: 1.0000\n",
      "Epoch 11/25\n",
      "1500/1500 - 1s - loss: 0.7846 - accuracy: 0.3233 - precision_6: 0.3217 - recall_6: 0.9979 - val_loss: 0.7843 - val_accuracy: 0.3220 - val_precision_6: 0.3220 - val_recall_6: 1.0000\n",
      "Epoch 12/25\n",
      "1500/1500 - 1s - loss: 0.7816 - accuracy: 0.3273 - precision_6: 0.3233 - recall_6: 1.0000 - val_loss: 0.7842 - val_accuracy: 0.3220 - val_precision_6: 0.3220 - val_recall_6: 1.0000\n",
      "Epoch 13/25\n",
      "1500/1500 - 1s - loss: 0.7866 - accuracy: 0.3240 - precision_6: 0.3220 - recall_6: 0.9979 - val_loss: 0.7840 - val_accuracy: 0.3220 - val_precision_6: 0.3220 - val_recall_6: 1.0000\n",
      "Epoch 14/25\n",
      "1500/1500 - 1s - loss: 0.8215 - accuracy: 0.3233 - precision_6: 0.3217 - recall_6: 0.9979 - val_loss: 0.7840 - val_accuracy: 0.3220 - val_precision_6: 0.3220 - val_recall_6: 1.0000\n",
      "Epoch 15/25\n",
      "1500/1500 - 2s - loss: 699.0627 - accuracy: 0.3220 - precision_6: 0.3213 - recall_6: 0.9979 - val_loss: 0.7839 - val_accuracy: 0.3220 - val_precision_6: 0.3220 - val_recall_6: 1.0000\n",
      "Epoch 16/25\n",
      "1500/1500 - 1s - loss: 0.7828 - accuracy: 0.3220 - precision_6: 0.3215 - recall_6: 1.0000 - val_loss: 0.7838 - val_accuracy: 0.3220 - val_precision_6: 0.3220 - val_recall_6: 1.0000\n",
      "Epoch 17/25\n",
      "1500/1500 - 1s - loss: 0.7828 - accuracy: 0.3213 - precision_6: 0.3213 - recall_6: 1.0000 - val_loss: 0.7837 - val_accuracy: 0.3220 - val_precision_6: 0.3220 - val_recall_6: 1.0000\n",
      "Epoch 18/25\n",
      "1500/1500 - 2s - loss: 505726.5461 - accuracy: 0.3213 - precision_6: 0.3211 - recall_6: 0.9979 - val_loss: 0.7838 - val_accuracy: 0.3220 - val_precision_6: 0.3220 - val_recall_6: 1.0000\n",
      "Epoch 19/25\n",
      "1500/1500 - 1s - loss: 1.3075 - accuracy: 0.3213 - precision_6: 0.3213 - recall_6: 1.0000 - val_loss: 0.7837 - val_accuracy: 0.3220 - val_precision_6: 0.3220 - val_recall_6: 1.0000\n",
      "Epoch 20/25\n",
      "1500/1500 - 2s - loss: 8908.2102 - accuracy: 0.3213 - precision_6: 0.3213 - recall_6: 1.0000 - val_loss: 0.7837 - val_accuracy: 0.3220 - val_precision_6: 0.3220 - val_recall_6: 1.0000\n",
      "Epoch 21/25\n",
      "1500/1500 - 2s - loss: 0.7893 - accuracy: 0.3213 - precision_6: 0.3213 - recall_6: 1.0000 - val_loss: 0.7837 - val_accuracy: 0.3220 - val_precision_6: 0.3220 - val_recall_6: 1.0000\n",
      "Epoch 22/25\n",
      "1500/1500 - 2s - loss: 6299.6432 - accuracy: 0.3213 - precision_6: 0.3213 - recall_6: 1.0000 - val_loss: 0.7836 - val_accuracy: 0.3220 - val_precision_6: 0.3220 - val_recall_6: 1.0000\n",
      "Epoch 23/25\n",
      "1500/1500 - 2s - loss: 0.7832 - accuracy: 0.3213 - precision_6: 0.3213 - recall_6: 1.0000 - val_loss: 0.7835 - val_accuracy: 0.3220 - val_precision_6: 0.3220 - val_recall_6: 1.0000\n",
      "Epoch 24/25\n",
      "1500/1500 - 2s - loss: 4262.8306 - accuracy: 0.3213 - precision_6: 0.3213 - recall_6: 1.0000 - val_loss: 0.7835 - val_accuracy: 0.3220 - val_precision_6: 0.3220 - val_recall_6: 1.0000\n",
      "Epoch 25/25\n",
      "1500/1500 - 1s - loss: 0.7872 - accuracy: 0.3920 - precision_6: 0.3073 - recall_6: 0.7116 - val_loss: 0.7834 - val_accuracy: 0.3220 - val_precision_6: 0.3220 - val_recall_6: 1.0000\n"
     ]
    }
   ],
   "source": [
    "#import datetime\n",
    "\n",
    "\n",
    "layers_dim = [train_data.shape[1], 10, 10, 10, 1]\n",
    "lr = 0.001\n",
    "dropout = 0.2\n",
    "optimizer = 'adam'\n",
    "L2 = 0.001\n",
    "\n",
    "callbacks = myCallback()\n",
    "\n",
    "#os.makedirs(\"logs/fit/morgan_mordred_Mix_feature_selection\", exist_ok=True)\n",
    "#log_dir = \"logs/fit/morgan_mordred_Mix_feature_selection/\" + datetime.datetime.now().strftime(\"%Y%m%d-%H%M%S\")\n",
    "#tensorboard_callback = tf.keras.callbacks.TensorBoard(log_dir=log_dir, histogram_freq=1)\n",
    "\n",
    "#model_small_dataset =generate_model(layers_dim, lr, dropout, optimizer, L2)\n",
    "#model_small_dataset.summary()\n",
    "\n",
    "\n",
    "history = model_small_dataset.fit(\n",
    "      train_data, train_labels,\n",
    "      epochs=25,\n",
    "      verbose=2,\n",
    "      #validation_data = (mini_testing_2c9_data, mini_labels_testing_2c9_data)\n",
    "      validation_data = (val_data, val_labels),\n",
    "      #callbacks=[tensorboard_callback],\n",
    "      class_weight=class_weight\n",
    "      )"
   ]
  },
  {
   "cell_type": "code",
   "execution_count": 79,
   "metadata": {},
   "outputs": [
    {
     "data": {
      "image/png": "[encoded data removed]",
      "text/plain": [
       "<Figure size 432x288 with 1 Axes>"
      ]
     },
     "metadata": {},
     "output_type": "display_data"
    }
   ],
   "source": [
    "plt.plot(history.history['accuracy'])\n",
    "plt.plot(history.history['val_accuracy'])\n",
    "plt.title('Model accuracy')\n",
    "plt.ylabel('Accuracy')\n",
    "plt.xlabel('Epoch')\n",
    "plt.legend(['Train', 'Test'], loc='upper left')\n",
    "plt.show()"
   ]
  },
  {
   "cell_type": "code",
   "execution_count": 80,
   "metadata": {},
   "outputs": [
    {
     "data": {
      "image/png": "[encoded data removed]",
      "text/plain": [
       "<Figure size 432x288 with 1 Axes>"
      ]
     },
     "metadata": {},
     "output_type": "display_data"
    }
   ],
   "source": [
    "plt.plot(history.history['loss'])\n",
    "plt.plot(history.history['val_loss'])\n",
    "plt.title('Loss evolution')\n",
    "plt.ylabel('Loss')\n",
    "plt.xlabel('Epoch')\n",
    "plt.legend(['Train', 'Test'], loc='upper left')\n",
    "plt.show()"
   ]
  },
  {
   "cell_type": "code",
   "execution_count": 81,
   "metadata": {},
   "outputs": [
    {
     "name": "stdout",
     "output_type": "stream",
     "text": [
      "500/1 [========================================================================================================================================================================================================================================================================================================================================================================================================================================================================================================================================================================================================================================================================================================================================================================================================================================================================================================================================================================================================================================================================================================================================================================================================================================================================================================================================================================================================================================================================================================================================================================================================================================================================================================================================================================================================================================================================================================================================================================================================================================================================================================================================================================================================================================================================================================================================================================================================================================================================================================================================================================================================================================================================================================================================================================================================================================================================================================================================================================================================================================================================================================================================================================================================================================================================================================================================================================================================================================================================================================================================================================================================================================================================================================================================================================================================================================================================================================================================================================================================================================================================================================================================================================================================================================================================================================================================================================================================================================================================================================================================================================================================================================================================================================================================================================================================================================================================================================================================================================================================================================================================================================================================================================================================================================================================================================================================================================================================================================================================================================================================================================================================================================================================================================================================================================================================================================================================================================================================================================================================================================================================================================================================================================================================================================================================================================================================================================================================================================================================================================================================================================================================================================================================================================================================================================================================================================================================================================================================================================================================================================================================================================================================================================================================================================================================================================================================================================================================================================================================================================================================================================================================================================================================================================================================================================================================================================================================================================================================================================================================================================================================================================================================================================================================================================================================================================================================================================================================================================================================================================================================================================================================================================================================================================================================================================================================================================================================================================================================================================================================================================================================================================================================================================================================================================================================================================================================================================================================================================================================================================================================================================================================================================================================================================================================================================================================================================================================================================================================================================================================================================================================================================================================================================================================================================================================================================================================================================================================================================================================================================================================================================================================================================================================================================================================================================================================================================================================================================================================================================================================================================================================================================================================================================================================================================================================================================================================================================================================================================================================================================================================================================================================================================================================================================================================================================================================================================================================================================================================================================================================================================================================================================================================================================================================================================================================================================================================================================================================================================================================================================================================================================================================================================================================================================================================================================================================================================================================================================================================================================================================================================================================================================================================================================================================================================================================================================================================================================================================================================================================================================================================================================================================================================================================================================================================================================================================================================================================================================================================================================================================================================================================================================================================================================================================================================================================================================================================================================================================================================================================================================================================================================================================================================================================================================================================================================================================================================================================================================================================================================================================================================================================================================================================================================================================================================================================================================================================================================================================================================================================================================================================================================================================================] - 0s 138us/sample - loss: 0.7831 - accuracy: 0.3520 - precision_6: 0.3520 - recall_6: 1.0000\n",
      "NER: 0.500, Sensitivity or recall: 1.000, Specificity: 0.000, Precision: 0.352, Correctly calssified: 0.352, MCC: nan\n"
     ]
    },
    {
     "name": "stderr",
     "output_type": "stream",
     "text": [
      "/Users/Anna/miniconda3/lib/python3.7/site-packages/ipykernel_launcher.py:29: RuntimeWarning: invalid value encountered in true_divide\n"
     ]
    },
    {
     "data": {
      "image/png": "[encoded data removed]",
      "text/plain": [
       "<Figure size 432x288 with 2 Axes>"
      ]
     },
     "metadata": {},
     "output_type": "display_data"
    }
   ],
   "source": [
    "\"\"\"\n",
    "concatenated_only2c9 = np.asarray(concatenated_only2c9).astype(np.float32)\n",
    "\n",
    "results = model_small_dataset.evaluate(concatenated_only2c9, labels_testing_2c9)\n",
    "predictions = model_small_dataset.predict(concatenated_only2c9)\n",
    "print_metrics(predictions, labels_testing_2c9)\n",
    "plot_confusion(predictions, labels_testing_2c9)\n",
    "\n",
    "\"\"\"\n",
    "\n",
    "results = model_small_dataset.evaluate(mini_testing_2c9_data, mini_labels_testing_2c9_data)\n",
    "predictions = model_small_dataset.predict(mini_testing_2c9_data)\n",
    "print_metrics(predictions, mini_labels_testing_2c9_data)\n",
    "plot_confusion(predictions, mini_labels_testing_2c9_data)\n"
   ]
  },
  {
   "cell_type": "code",
   "execution_count": null,
   "metadata": {},
   "outputs": [],
   "source": [
    "%tensorboard --logdir logs/fit/morgan_mordred_Mix_feature_selection"
   ]
  },
  {
   "cell_type": "markdown",
   "metadata": {},
   "source": [
    "### 7.1.) Tunning Hyperparameters\n",
    "\n",
    "No funciona la meva versió (la que està com a markdown)"
   ]
  },
  {
   "cell_type": "markdown",
   "metadata": {},
   "source": [
    "#HP_HIDDEN_LAYERS = hp.HParam(\"hidden_layers\", hp.Discrete(list(range(2, 6))))\n",
    "#per ara sense hidden layers com a hyperparametre. Primer mirarem com fer-ho amb diferents capes.\n",
    "HP_NEURONS_1 = hp.HParam(\"neurons_1\", hp.Discrete(list(range(5, 66, 5))))\n",
    "HP_NEURONS_2 = hp.HParam(\"neurons_2\", hp.Discrete(list(range(5, 66, 5))))\n",
    "HP_NEURONS_3 = hp.HParam(\"neurons_3\", hp.Discrete(list(range(5, 66, 5))))\n",
    "HP_NEURONS_4 = hp.HParam(\"neurons_4\", hp.Discrete(list(range(5, 66, 5))))\n",
    "HP_NEURONS_5 = hp.HParam(\"neurons_5\", hp.Discrete(list(range(5, 66, 5))))\n",
    "\n",
    "HP_DROPOUT = hp.HParam(\"dropout\", hp.RealInterval(0.2, 0.5))\n",
    "HP_OPTIMIZER = hp.HParam('optimizer', hp.Discrete(['adam', 'adagrad','RMSprop'])) # 'sgd'\n",
    "HP_L2 = hp.HParam('l2_regularizer', hp.RealInterval(.001,.01))\n",
    "HP_LR = hp.HParam(\"learning_rate\", hp.Discrete([0.0001, 0.001, 0.01, 0.1, 1.0]))\n",
    "\n",
    "os.makedirs(\"hyperparameters_tunning/morgan_mordred_feature_selection\", exist_ok=True)\n",
    "with tf.summary.create_file_writer('hyperparameters_tunning/morgan_mordred_feature_selection/logs/hparam_tuning').as_default():\n",
    "    hp.hparams_config(hparams=[HP_NEURONS_1, HP_NEURONS_2, HP_DROPOUT, HP_OPTIMIZER, HP_L2, HP_LR], # 2 hid_layers by the moment\n",
    "                      metrics=[hp.Metric(\"accuracy\", display_name='Accuracy')])#, hp.Metric('precision', display_name='Precision'),hp.Metric('recall', display_name='Recall')])\n",
    "    \n",
    "def construct_optimizer(hparams):\n",
    "    if hparams[HP_OPTIMIZER] == \"adam\":\n",
    "        return tf.keras.optimizers.Adam(learning_rate = hparams[HP_LR])\n",
    "    elif hparams[HP_OPTIMIZER] == \"adagrad\":\n",
    "        return tf.keras.optimizers.Adagrad(learning_rate = hparams[HP_LR])\n",
    "    #elif hparams[HP_OPTIMIZER] == \"sgd\":\n",
    "    #    return tf.keras.optimizers.SGD(learning_rate = hparams[HP_LR])\n",
    "    elif hparams[HP_OPTIMIZER] == \"RMSprop\":\n",
    "        return tf.keras.optimizers.RMSprop(learning_rate = hparams[HP_LR])\n",
    "    \n",
    "def train_test_model(hparams):\n",
    "    internal_layers = [tf.keras.layers.Dropout(hparams[HP_DROPOUT]), \n",
    "                       tf.keras.layers.Dense(hparams[HP_NEURONS_1], kernel_regularizer=tf.keras.regularizers.l2(hparams[HP_L2]), activation='relu'),\n",
    "                       tf.keras.layers.Dropout(hparams[HP_DROPOUT]), \n",
    "                       tf.keras.layers.Dense(hparams[HP_NEURONS_2], kernel_regularizer=tf.keras.regularizers.l2(hparams[HP_L2]), activation='relu'),\n",
    "                       tf.keras.layers.Dropout(hparams[HP_DROPOUT]), \n",
    "                       tf.keras.layers.Dense(hparams[HP_NEURONS_3], kernel_regularizer=tf.keras.regularizers.l2(hparams[HP_L2]), activation='relu')\n",
    "                      ]\n",
    "    \n",
    "    model = tf.keras.models.Sequential([\n",
    "        tf.keras.layers.Dense(train_data.shape[1], activation='relu', input_shape=(train_data.shape[1],))] +\n",
    "        internal_layers + [tf.keras.layers.Dense(1, activation=\"sigmoid\")]\n",
    "    )\n",
    "    model.compile(optimizer=construct_optimizer(hparams), loss=\"binary_crossentropy\", metrics=['accuracy', tf.keras.metrics.Precision(), tf.keras.metrics.Recall()])\n",
    "    model.fit(train_data, train_labels, epochs=5, verbose=2)\n",
    "    results = model.evaluate(val_data, val_labels)\n",
    "    #_, results = model.evaluate(val_data, val_labels)\n",
    "    return results\n",
    "\n",
    "def run(run_dir, hparams):\n",
    "      if os.path.exists(run_dir):\n",
    "        return\n",
    "      with tf.summary.create_file_writer(run_dir).as_default():\n",
    "        hp.hparams(hparams)  # record the values used in this trial\n",
    "        accuracy = train_test_model(hparams)\n",
    "        tf.summary.scalar(\"accuracy\", accuracy, step=1)"
   ]
  },
  {
   "cell_type": "markdown",
   "metadata": {},
   "source": [
    "hyperparam_tunning =True\n",
    "\n",
    "if hyperparam_tunning:\n",
    "    session_num = 0\n",
    "    total_runs=5\n",
    "    #total_runs = len(HP_NEURONS_1.domain.values)*len(HP_NEURONS_2.domain.values)*len([HP_DROPOUT.domain.min_value, HP_DROPOUT.domain.max_value])*len(HP_OPTIMIZER.domain.values)*len([HP_L2.domain.min_value, HP_L2.domain.max_value])*len(HP_LR.domain.values)\n",
    "    looping = list(product(HP_NEURONS_1.domain.values, HP_NEURONS_2.domain.values, HP_NEURONS_3.domain.values,[HP_DROPOUT.domain.min_value, HP_DROPOUT.domain.max_value], HP_OPTIMIZER.domain.values, [HP_L2.domain.min_value, HP_L2.domain.max_value], HP_LR.domain.values))\n",
    "    random.shuffle(looping)\n",
    "    for neurons_1, neurons_2, neurons_3, dropout, opt, l2, lr in looping:\n",
    "        hp_params = {HP_NEURONS_1: neurons_1, HP_NEURONS_2: neurons_2, HP_NEURONS_3: neurons_3, HP_DROPOUT: dropout, HP_OPTIMIZER: opt, HP_L2: l2, HP_LR: lr}\n",
    "        if session_num % 10 == 0:\n",
    "            # clear everything every 10 models to avoid oom errors\n",
    "            tf.keras.backend.clear_session()\n",
    "        run_name = f\"run_{session_num}\"\n",
    "        print(f\"---Starting trial: {run_name} of {total_runs}\")\n",
    "        print({h.name: hp_params[h] for h in hp_params})\n",
    "        run('hyperparameters_tunning/morgan_mordred_feature_selection/logs/hparam_tuning/' + run_name, hp_params)\n",
    "        session_num += 1"
   ]
  },
  {
   "cell_type": "code",
   "execution_count": 160,
   "metadata": {},
   "outputs": [],
   "source": [
    "HP_HIDDEN_LAYERS = hp.HParam(\"hidden_layers\", hp.Discrete(list(range(3, 10))))\n",
    "HP_NEURONS = hp.HParam(\"neurons\", hp.Discrete([i for i in range(10,151,20)]))\n",
    "HP_DROPOUT = hp.HParam(\"dropout\", hp.RealInterval(0.2, 0.5))\n",
    "HP_OPTIMIZER = hp.HParam('optimizer', hp.Discrete(['adam', 'sgd','RMSprop']))\n",
    "HP_L2 = hp.HParam('l2 regularizer', hp.RealInterval(.001,.01))\n",
    "HP_LR = hp.HParam(\"learning_rate\", hp.Discrete([0.001, 0.01, 0.1, 1.0, 10.0]))\n",
    "N_BITS = train_data.shape[1]\n",
    "    \n",
    "def construct_optimizer(hparams):\n",
    "    if hparams[HP_OPTIMIZER] == \"adam\":\n",
    "        return tf.keras.optimizers.Adam(learning_rate = hparams[HP_LR])\n",
    "    elif hparams[HP_OPTIMIZER] == \"sgd\":\n",
    "        return tf.keras.optimizers.SGD(learning_rate = hparams[HP_LR])\n",
    "    elif hparams[HP_OPTIMIZER] == \"RMSprop\":\n",
    "        return tf.keras.optimizers.RMSprop(learning_rate = hparams[HP_LR])\n",
    "    \n",
    "def train_test_model(hparams):\n",
    "    internal_layers = [tf.keras.layers.Dropout(hparams[HP_DROPOUT])]+[tf.keras.layers.Dense(hparams[HP_NEURONS], kernel_regularizer=tf.keras.regularizers.l2(hparams[HP_L2]), activation='relu') for _ in range(hparams[HP_HIDDEN_LAYERS])]\n",
    "    model = tf.keras.models.Sequential([\n",
    "        tf.keras.layers.Dense(N_BITS, activation='relu', input_shape=(N_BITS,))]+\n",
    "        internal_layers+[tf.keras.layers.Dense(1, activation=\"sigmoid\")]\n",
    "    )\n",
    "    model.compile(optimizer=construct_optimizer(hparams), loss=\"binary_crossentropy\", metrics=['accuracy'])\n",
    "    model.fit(train_data, train_labels, epochs=5, verbose=2, class_weight=class_weight)\n",
    "    _, results = model.evaluate(val_data, val_labels, verbose=0)                                                                                                \n",
    "    _, results_val = model.evaluate(mini_testing_2c9_data, mini_labels_testing_2c9_data, verbose=0)\n",
    "    return results, results_val \n",
    "\n",
    "\n",
    "def run(run_dir, hparams):\n",
    "  with tf.summary.create_file_writer(run_dir).as_default():\n",
    "    hp.hparams(hparams)  # record the values used in this trial\n",
    "    accuracy, accuracy_val = train_test_model(hparams)\n",
    "    tf.summary.scalar(\"accuracy\", accuracy, step=1)\n",
    "    tf.summary.scalar(\"accuracy_val\", accuracy_val, step=1)"
   ]
  },
  {
   "cell_type": "code",
   "execution_count": 161,
   "metadata": {},
   "outputs": [
    {
     "name": "stdout",
     "output_type": "stream",
     "text": [
      "---Starting trial: run_0 of 3360\n",
      "{'neurons': 50, 'hidden_layers': 9, 'dropout': 0.2, 'optimizer': 'RMSprop', 'l2 regularizer': 0.01, 'learning_rate': 10.0}\n",
      "Train on 375 samples\n",
      "Epoch 1/5\n",
      "375/375 - 9s - loss: nan - accuracy: 0.6427\n",
      "Epoch 2/5\n",
      "375/375 - 1s - loss: nan - accuracy: 0.6773\n",
      "Epoch 3/5\n",
      "375/375 - 0s - loss: nan - accuracy: 0.6773\n",
      "Epoch 4/5\n",
      "375/375 - 1s - loss: nan - accuracy: 0.6773\n",
      "Epoch 5/5\n",
      "375/375 - 1s - loss: nan - accuracy: 0.6773\n",
      "---Starting trial: run_1 of 3360\n",
      "{'neurons': 70, 'hidden_layers': 6, 'dropout': 0.5, 'optimizer': 'adam', 'l2 regularizer': 0.01, 'learning_rate': 10.0}\n",
      "Train on 375 samples\n",
      "Epoch 1/5\n",
      "375/375 - 6s - loss: nan - accuracy: 0.6533\n",
      "Epoch 2/5\n",
      "375/375 - 1s - loss: nan - accuracy: 0.6773\n",
      "Epoch 3/5\n",
      "375/375 - 1s - loss: nan - accuracy: 0.6773\n",
      "Epoch 4/5\n",
      "375/375 - 0s - loss: nan - accuracy: 0.6773\n",
      "Epoch 5/5\n",
      "375/375 - 1s - loss: nan - accuracy: 0.6773\n",
      "---Starting trial: run_2 of 3360\n",
      "{'neurons': 90, 'hidden_layers': 3, 'dropout': 0.5, 'optimizer': 'sgd', 'l2 regularizer': 0.01, 'learning_rate': 0.001}\n",
      "Train on 375 samples\n",
      "Epoch 1/5\n",
      "375/375 - 4s - loss: nan - accuracy: 0.6453\n",
      "Epoch 2/5\n",
      "375/375 - 0s - loss: nan - accuracy: 0.6773\n",
      "Epoch 3/5\n",
      "375/375 - 0s - loss: nan - accuracy: 0.6773\n",
      "Epoch 4/5\n",
      "375/375 - 0s - loss: nan - accuracy: 0.6773\n",
      "Epoch 5/5\n",
      "375/375 - 0s - loss: nan - accuracy: 0.6773\n",
      "---Starting trial: run_3 of 3360\n",
      "{'neurons': 30, 'hidden_layers': 7, 'dropout': 0.5, 'optimizer': 'RMSprop', 'l2 regularizer': 0.001, 'learning_rate': 10.0}\n",
      "Train on 375 samples\n",
      "Epoch 1/5\n",
      "375/375 - 6s - loss: nan - accuracy: 0.6293\n",
      "Epoch 2/5\n",
      "375/375 - 0s - loss: nan - accuracy: 0.6773\n",
      "Epoch 3/5\n",
      "375/375 - 1s - loss: nan - accuracy: 0.6773\n",
      "Epoch 4/5\n",
      "375/375 - 1s - loss: nan - accuracy: 0.6773\n",
      "Epoch 5/5\n",
      "375/375 - 0s - loss: nan - accuracy: 0.6773\n",
      "---Starting trial: run_4 of 3360\n",
      "{'neurons': 70, 'hidden_layers': 5, 'dropout': 0.2, 'optimizer': 'sgd', 'l2 regularizer': 0.01, 'learning_rate': 10.0}\n",
      "Train on 375 samples\n",
      "Epoch 1/5\n",
      "375/375 - 3s - loss: nan - accuracy: 0.6320\n",
      "Epoch 2/5\n",
      "375/375 - 0s - loss: nan - accuracy: 0.6773\n",
      "Epoch 3/5\n",
      "375/375 - 0s - loss: nan - accuracy: 0.6773\n",
      "Epoch 4/5\n",
      "375/375 - 0s - loss: nan - accuracy: 0.6773\n",
      "Epoch 5/5\n",
      "375/375 - 0s - loss: nan - accuracy: 0.6773\n",
      "---Starting trial: run_5 of 3360\n",
      "{'neurons': 150, 'hidden_layers': 5, 'dropout': 0.2, 'optimizer': 'RMSprop', 'l2 regularizer': 0.01, 'learning_rate': 0.001}\n",
      "Train on 375 samples\n",
      "Epoch 1/5\n",
      "375/375 - 5s - loss: 472787.3730 - accuracy: 0.5547\n",
      "Epoch 2/5\n",
      "375/375 - 1s - loss: 2506025.8898 - accuracy: 0.5147\n",
      "Epoch 3/5\n",
      "375/375 - 1s - loss: 670196.3912 - accuracy: 0.4773\n",
      "Epoch 4/5\n",
      "375/375 - 1s - loss: 266756.8503 - accuracy: 0.5573\n",
      "Epoch 5/5\n",
      "375/375 - 1s - loss: 713325.1707 - accuracy: 0.5653\n",
      "---Starting trial: run_6 of 3360\n",
      "{'neurons': 150, 'hidden_layers': 6, 'dropout': 0.5, 'optimizer': 'sgd', 'l2 regularizer': 0.001, 'learning_rate': 0.001}\n",
      "Train on 375 samples\n",
      "Epoch 1/5\n",
      "375/375 - 4s - loss: nan - accuracy: 0.6373\n",
      "Epoch 2/5\n",
      "375/375 - 0s - loss: nan - accuracy: 0.6773\n",
      "Epoch 3/5\n",
      "375/375 - 0s - loss: nan - accuracy: 0.6773\n",
      "Epoch 4/5\n",
      "375/375 - 0s - loss: nan - accuracy: 0.6773\n",
      "Epoch 5/5\n",
      "375/375 - 0s - loss: nan - accuracy: 0.6773\n",
      "---Starting trial: run_7 of 3360\n",
      "{'neurons': 70, 'hidden_layers': 8, 'dropout': 0.2, 'optimizer': 'sgd', 'l2 regularizer': 0.001, 'learning_rate': 1.0}\n",
      "Train on 375 samples\n",
      "Epoch 1/5\n",
      "375/375 - 4s - loss: nan - accuracy: 0.6693\n",
      "Epoch 2/5\n",
      "375/375 - 0s - loss: nan - accuracy: 0.6773\n",
      "Epoch 3/5\n",
      "375/375 - 0s - loss: nan - accuracy: 0.6773\n",
      "Epoch 4/5\n",
      "375/375 - 0s - loss: nan - accuracy: 0.6773\n",
      "Epoch 5/5\n",
      "375/375 - 0s - loss: nan - accuracy: 0.6773\n",
      "---Starting trial: run_8 of 3360\n",
      "{'neurons': 110, 'hidden_layers': 6, 'dropout': 0.5, 'optimizer': 'sgd', 'l2 regularizer': 0.001, 'learning_rate': 0.1}\n",
      "Train on 375 samples\n",
      "Epoch 1/5\n",
      "375/375 - 2s - loss: nan - accuracy: 0.6453\n",
      "Epoch 2/5\n",
      "375/375 - 0s - loss: nan - accuracy: 0.6773\n",
      "Epoch 3/5\n",
      "375/375 - 0s - loss: nan - accuracy: 0.6773\n",
      "Epoch 4/5\n",
      "375/375 - 0s - loss: nan - accuracy: 0.6773\n",
      "Epoch 5/5\n",
      "375/375 - 0s - loss: nan - accuracy: 0.6773\n",
      "---Starting trial: run_9 of 3360\n",
      "{'neurons': 10, 'hidden_layers': 5, 'dropout': 0.5, 'optimizer': 'RMSprop', 'l2 regularizer': 0.01, 'learning_rate': 10.0}\n",
      "Train on 375 samples\n",
      "Epoch 1/5\n",
      "375/375 - 5s - loss: nan - accuracy: 0.6667\n",
      "Epoch 2/5\n",
      "375/375 - 0s - loss: nan - accuracy: 0.6773\n",
      "Epoch 3/5\n",
      "375/375 - 0s - loss: nan - accuracy: 0.6773\n",
      "Epoch 4/5\n",
      "375/375 - 0s - loss: nan - accuracy: 0.6773\n",
      "Epoch 5/5\n",
      "375/375 - 0s - loss: nan - accuracy: 0.6773\n",
      "---Starting trial: run_10 of 3360\n",
      "{'neurons': 50, 'hidden_layers': 3, 'dropout': 0.2, 'optimizer': 'adam', 'l2 regularizer': 0.001, 'learning_rate': 0.01}\n",
      "Train on 375 samples\n",
      "Epoch 1/5\n",
      "375/375 - 3s - loss: 12338588.4153 - accuracy: 0.5307\n",
      "Epoch 2/5\n",
      "375/375 - 0s - loss: 20123761.3973 - accuracy: 0.5147\n",
      "Epoch 3/5\n",
      "375/375 - 0s - loss: 8556641.7150 - accuracy: 0.5173\n",
      "Epoch 4/5\n",
      "375/375 - 0s - loss: 1320375.6460 - accuracy: 0.4747\n",
      "Epoch 5/5\n",
      "375/375 - 0s - loss: 313330.9306 - accuracy: 0.4907\n",
      "---Starting trial: run_11 of 3360\n",
      "{'neurons': 70, 'hidden_layers': 5, 'dropout': 0.2, 'optimizer': 'RMSprop', 'l2 regularizer': 0.001, 'learning_rate': 10.0}\n",
      "Train on 375 samples\n",
      "Epoch 1/5\n",
      "375/375 - 4s - loss: nan - accuracy: 0.6587\n",
      "Epoch 2/5\n",
      "375/375 - 1s - loss: nan - accuracy: 0.6773\n",
      "Epoch 3/5\n",
      "375/375 - 0s - loss: nan - accuracy: 0.6773\n",
      "Epoch 4/5\n",
      "375/375 - 1s - loss: nan - accuracy: 0.6773\n",
      "Epoch 5/5\n",
      "375/375 - 0s - loss: nan - accuracy: 0.6773\n",
      "---Starting trial: run_12 of 3360\n",
      "{'neurons': 90, 'hidden_layers': 8, 'dropout': 0.5, 'optimizer': 'RMSprop', 'l2 regularizer': 0.001, 'learning_rate': 1.0}\n",
      "Train on 375 samples\n",
      "Epoch 1/5\n",
      "375/375 - 8s - loss: nan - accuracy: 0.6400\n",
      "Epoch 2/5\n",
      "375/375 - 1s - loss: nan - accuracy: 0.6773\n",
      "Epoch 3/5\n",
      "375/375 - 0s - loss: nan - accuracy: 0.6773\n",
      "Epoch 4/5\n",
      "375/375 - 0s - loss: nan - accuracy: 0.6773\n",
      "Epoch 5/5\n",
      "375/375 - 1s - loss: nan - accuracy: 0.6773\n",
      "---Starting trial: run_13 of 3360\n",
      "{'neurons': 70, 'hidden_layers': 5, 'dropout': 0.5, 'optimizer': 'RMSprop', 'l2 regularizer': 0.001, 'learning_rate': 10.0}\n",
      "Train on 375 samples\n",
      "Epoch 1/5\n",
      "375/375 - 6s - loss: nan - accuracy: 0.6720\n",
      "Epoch 2/5\n",
      "375/375 - 0s - loss: nan - accuracy: 0.6773\n",
      "Epoch 3/5\n",
      "375/375 - 1s - loss: nan - accuracy: 0.6773\n",
      "Epoch 4/5\n",
      "375/375 - 1s - loss: nan - accuracy: 0.6773\n",
      "Epoch 5/5\n",
      "375/375 - 0s - loss: nan - accuracy: 0.6773\n",
      "---Starting trial: run_14 of 3360\n",
      "{'neurons': 110, 'hidden_layers': 7, 'dropout': 0.2, 'optimizer': 'adam', 'l2 regularizer': 0.01, 'learning_rate': 0.001}\n",
      "Train on 375 samples\n",
      "Epoch 1/5\n",
      "375/375 - 6s - loss: 1045545.5907 - accuracy: 0.5573\n",
      "Epoch 2/5\n",
      "375/375 - 0s - loss: 580310.7318 - accuracy: 0.4107\n",
      "Epoch 3/5\n",
      "375/375 - 0s - loss: 256132.0102 - accuracy: 0.6613\n",
      "Epoch 4/5\n",
      "375/375 - 0s - loss: 657887.9009 - accuracy: 0.4480\n",
      "Epoch 5/5\n",
      "375/375 - 0s - loss: 132105.7821 - accuracy: 0.5467\n",
      "---Starting trial: run_15 of 3360\n",
      "{'neurons': 30, 'hidden_layers': 4, 'dropout': 0.5, 'optimizer': 'adam', 'l2 regularizer': 0.001, 'learning_rate': 10.0}\n",
      "Train on 375 samples\n",
      "Epoch 1/5\n",
      "375/375 - 3s - loss: 178633759063897702400.0000 - accuracy: 0.5653\n",
      "Epoch 2/5\n",
      "375/375 - 0s - loss: nan - accuracy: 0.6773\n",
      "Epoch 3/5\n",
      "375/375 - 0s - loss: nan - accuracy: 0.6773\n",
      "Epoch 4/5\n",
      "375/375 - 0s - loss: nan - accuracy: 0.6773\n",
      "Epoch 5/5\n",
      "375/375 - 0s - loss: nan - accuracy: 0.6773\n",
      "---Starting trial: run_16 of 3360\n",
      "{'neurons': 110, 'hidden_layers': 6, 'dropout': 0.5, 'optimizer': 'RMSprop', 'l2 regularizer': 0.001, 'learning_rate': 1.0}\n",
      "Train on 375 samples\n",
      "Epoch 1/5\n",
      "375/375 - 5s - loss: nan - accuracy: 0.6587\n",
      "Epoch 2/5\n",
      "375/375 - 0s - loss: nan - accuracy: 0.6773\n",
      "Epoch 3/5\n",
      "375/375 - 0s - loss: nan - accuracy: 0.6773\n",
      "Epoch 4/5\n",
      "375/375 - 0s - loss: nan - accuracy: 0.6773\n",
      "Epoch 5/5\n",
      "375/375 - 0s - loss: nan - accuracy: 0.6773\n",
      "---Starting trial: run_17 of 3360\n",
      "{'neurons': 90, 'hidden_layers': 5, 'dropout': 0.2, 'optimizer': 'sgd', 'l2 regularizer': 0.001, 'learning_rate': 0.01}\n",
      "Train on 375 samples\n",
      "Epoch 1/5\n",
      "375/375 - 2s - loss: nan - accuracy: 0.6427\n",
      "Epoch 2/5\n",
      "375/375 - 0s - loss: nan - accuracy: 0.6773\n",
      "Epoch 3/5\n",
      "375/375 - 0s - loss: nan - accuracy: 0.6773\n",
      "Epoch 4/5\n",
      "375/375 - 0s - loss: nan - accuracy: 0.6773\n",
      "Epoch 5/5\n",
      "375/375 - 0s - loss: nan - accuracy: 0.6773\n",
      "---Starting trial: run_18 of 3360\n",
      "{'neurons': 30, 'hidden_layers': 5, 'dropout': 0.5, 'optimizer': 'adam', 'l2 regularizer': 0.001, 'learning_rate': 1.0}\n",
      "Train on 375 samples\n",
      "Epoch 1/5\n",
      "375/375 - 3s - loss: 894411442879059.6250 - accuracy: 0.6107\n",
      "Epoch 2/5\n",
      "375/375 - 0s - loss: 3231953175.7604 - accuracy: 0.3707\n",
      "Epoch 3/5\n",
      "375/375 - 0s - loss: 64120874509837.3750 - accuracy: 0.4933\n",
      "Epoch 4/5\n",
      "375/375 - 0s - loss: 553.8309 - accuracy: 0.5493\n",
      "Epoch 5/5\n",
      "375/375 - 0s - loss: 556.7469 - accuracy: 0.4027\n",
      "---Starting trial: run_19 of 3360\n",
      "{'neurons': 90, 'hidden_layers': 4, 'dropout': 0.5, 'optimizer': 'adam', 'l2 regularizer': 0.001, 'learning_rate': 0.001}\n",
      "Train on 375 samples\n",
      "Epoch 1/5\n",
      "375/375 - 3s - loss: 1272131.7618 - accuracy: 0.5360\n",
      "Epoch 2/5\n",
      "375/375 - 0s - loss: 1695534.2149 - accuracy: 0.4693\n",
      "Epoch 3/5\n",
      "375/375 - 0s - loss: 782427.1167 - accuracy: 0.4667\n",
      "Epoch 4/5\n",
      "375/375 - 0s - loss: 1847864.2659 - accuracy: 0.6080\n",
      "Epoch 5/5\n",
      "375/375 - 0s - loss: 1157131.7734 - accuracy: 0.5120\n",
      "---Starting trial: run_20 of 3360\n",
      "{'neurons': 90, 'hidden_layers': 9, 'dropout': 0.2, 'optimizer': 'RMSprop', 'l2 regularizer': 0.001, 'learning_rate': 10.0}\n",
      "Train on 375 samples\n",
      "Epoch 1/5\n",
      "375/375 - 5s - loss: nan - accuracy: 0.6453\n",
      "Epoch 2/5\n",
      "375/375 - 0s - loss: nan - accuracy: 0.6773\n",
      "Epoch 3/5\n",
      "375/375 - 0s - loss: nan - accuracy: 0.6773\n",
      "Epoch 4/5\n",
      "375/375 - 0s - loss: nan - accuracy: 0.6773\n",
      "Epoch 5/5\n",
      "375/375 - 1s - loss: nan - accuracy: 0.6773\n",
      "---Starting trial: run_21 of 3360\n",
      "{'neurons': 110, 'hidden_layers': 7, 'dropout': 0.5, 'optimizer': 'adam', 'l2 regularizer': 0.01, 'learning_rate': 10.0}\n",
      "Train on 375 samples\n",
      "Epoch 1/5\n",
      "375/375 - 5s - loss: nan - accuracy: 0.6640\n",
      "Epoch 2/5\n",
      "375/375 - 0s - loss: nan - accuracy: 0.6773\n",
      "Epoch 3/5\n",
      "375/375 - 0s - loss: nan - accuracy: 0.6773\n",
      "Epoch 4/5\n",
      "375/375 - 0s - loss: nan - accuracy: 0.6773\n",
      "Epoch 5/5\n",
      "375/375 - 0s - loss: nan - accuracy: 0.6773\n",
      "---Starting trial: run_22 of 3360\n",
      "{'neurons': 110, 'hidden_layers': 3, 'dropout': 0.2, 'optimizer': 'RMSprop', 'l2 regularizer': 0.001, 'learning_rate': 0.1}\n",
      "Train on 375 samples\n",
      "Epoch 1/5\n"
     ]
    },
    {
     "ename": "KeyboardInterrupt",
     "evalue": "",
     "output_type": "error",
     "traceback": [
      "\u001b[0;31m---------------------------------------------------------------------------\u001b[0m",
      "\u001b[0;31mKeyboardInterrupt\u001b[0m                         Traceback (most recent call last)",
      "\u001b[0;32m<ipython-input-161-7d33130f2926>\u001b[0m in \u001b[0;36m<module>\u001b[0;34m\u001b[0m\n\u001b[1;32m     19\u001b[0m         \u001b[0mprint\u001b[0m\u001b[0;34m(\u001b[0m\u001b[0;34mf\"---Starting trial: {run_name} of {total_runs}\"\u001b[0m\u001b[0;34m)\u001b[0m\u001b[0;34m\u001b[0m\u001b[0;34m\u001b[0m\u001b[0m\n\u001b[1;32m     20\u001b[0m         \u001b[0mprint\u001b[0m\u001b[0;34m(\u001b[0m\u001b[0;34m{\u001b[0m\u001b[0mh\u001b[0m\u001b[0;34m.\u001b[0m\u001b[0mname\u001b[0m\u001b[0;34m:\u001b[0m \u001b[0mhp_params\u001b[0m\u001b[0;34m[\u001b[0m\u001b[0mh\u001b[0m\u001b[0;34m]\u001b[0m \u001b[0;32mfor\u001b[0m \u001b[0mh\u001b[0m \u001b[0;32min\u001b[0m \u001b[0mhp_params\u001b[0m\u001b[0;34m}\u001b[0m\u001b[0;34m)\u001b[0m\u001b[0;34m\u001b[0m\u001b[0;34m\u001b[0m\u001b[0m\n\u001b[0;32m---> 21\u001b[0;31m         \u001b[0mrun\u001b[0m\u001b[0;34m(\u001b[0m\u001b[0;34m'hyperparameters_tunning/morgan_mordred_feature_selection/logs/hparam_tuning/'\u001b[0m \u001b[0;34m+\u001b[0m \u001b[0mrun_name\u001b[0m\u001b[0;34m,\u001b[0m \u001b[0mhp_params\u001b[0m\u001b[0;34m)\u001b[0m\u001b[0;34m\u001b[0m\u001b[0;34m\u001b[0m\u001b[0m\n\u001b[0m\u001b[1;32m     22\u001b[0m         \u001b[0msession_num\u001b[0m \u001b[0;34m+=\u001b[0m \u001b[0;36m1\u001b[0m\u001b[0;34m\u001b[0m\u001b[0;34m\u001b[0m\u001b[0m\n",
      "\u001b[0;32m<ipython-input-160-6e61f5eb8fd8>\u001b[0m in \u001b[0;36mrun\u001b[0;34m(run_dir, hparams)\u001b[0m\n\u001b[1;32m     31\u001b[0m   \u001b[0;32mwith\u001b[0m \u001b[0mtf\u001b[0m\u001b[0;34m.\u001b[0m\u001b[0msummary\u001b[0m\u001b[0;34m.\u001b[0m\u001b[0mcreate_file_writer\u001b[0m\u001b[0;34m(\u001b[0m\u001b[0mrun_dir\u001b[0m\u001b[0;34m)\u001b[0m\u001b[0;34m.\u001b[0m\u001b[0mas_default\u001b[0m\u001b[0;34m(\u001b[0m\u001b[0;34m)\u001b[0m\u001b[0;34m:\u001b[0m\u001b[0;34m\u001b[0m\u001b[0;34m\u001b[0m\u001b[0m\n\u001b[1;32m     32\u001b[0m     \u001b[0mhp\u001b[0m\u001b[0;34m.\u001b[0m\u001b[0mhparams\u001b[0m\u001b[0;34m(\u001b[0m\u001b[0mhparams\u001b[0m\u001b[0;34m)\u001b[0m  \u001b[0;31m# record the values used in this trial\u001b[0m\u001b[0;34m\u001b[0m\u001b[0;34m\u001b[0m\u001b[0m\n\u001b[0;32m---> 33\u001b[0;31m     \u001b[0maccuracy\u001b[0m\u001b[0;34m,\u001b[0m \u001b[0maccuracy_val\u001b[0m \u001b[0;34m=\u001b[0m \u001b[0mtrain_test_model\u001b[0m\u001b[0;34m(\u001b[0m\u001b[0mhparams\u001b[0m\u001b[0;34m)\u001b[0m\u001b[0;34m\u001b[0m\u001b[0;34m\u001b[0m\u001b[0m\n\u001b[0m\u001b[1;32m     34\u001b[0m     \u001b[0mtf\u001b[0m\u001b[0;34m.\u001b[0m\u001b[0msummary\u001b[0m\u001b[0;34m.\u001b[0m\u001b[0mscalar\u001b[0m\u001b[0;34m(\u001b[0m\u001b[0;34m\"accuracy\"\u001b[0m\u001b[0;34m,\u001b[0m \u001b[0maccuracy\u001b[0m\u001b[0;34m,\u001b[0m \u001b[0mstep\u001b[0m\u001b[0;34m=\u001b[0m\u001b[0;36m1\u001b[0m\u001b[0;34m)\u001b[0m\u001b[0;34m\u001b[0m\u001b[0;34m\u001b[0m\u001b[0m\n\u001b[1;32m     35\u001b[0m     \u001b[0mtf\u001b[0m\u001b[0;34m.\u001b[0m\u001b[0msummary\u001b[0m\u001b[0;34m.\u001b[0m\u001b[0mscalar\u001b[0m\u001b[0;34m(\u001b[0m\u001b[0;34m\"accuracy_val\"\u001b[0m\u001b[0;34m,\u001b[0m \u001b[0maccuracy_val\u001b[0m\u001b[0;34m,\u001b[0m \u001b[0mstep\u001b[0m\u001b[0;34m=\u001b[0m\u001b[0;36m1\u001b[0m\u001b[0;34m)\u001b[0m\u001b[0;34m\u001b[0m\u001b[0;34m\u001b[0m\u001b[0m\n",
      "\u001b[0;32m<ipython-input-160-6e61f5eb8fd8>\u001b[0m in \u001b[0;36mtrain_test_model\u001b[0;34m(hparams)\u001b[0m\n\u001b[1;32m     22\u001b[0m     )\n\u001b[1;32m     23\u001b[0m     \u001b[0mmodel\u001b[0m\u001b[0;34m.\u001b[0m\u001b[0mcompile\u001b[0m\u001b[0;34m(\u001b[0m\u001b[0moptimizer\u001b[0m\u001b[0;34m=\u001b[0m\u001b[0mconstruct_optimizer\u001b[0m\u001b[0;34m(\u001b[0m\u001b[0mhparams\u001b[0m\u001b[0;34m)\u001b[0m\u001b[0;34m,\u001b[0m \u001b[0mloss\u001b[0m\u001b[0;34m=\u001b[0m\u001b[0;34m\"binary_crossentropy\"\u001b[0m\u001b[0;34m,\u001b[0m \u001b[0mmetrics\u001b[0m\u001b[0;34m=\u001b[0m\u001b[0;34m[\u001b[0m\u001b[0;34m'accuracy'\u001b[0m\u001b[0;34m]\u001b[0m\u001b[0;34m)\u001b[0m\u001b[0;34m\u001b[0m\u001b[0;34m\u001b[0m\u001b[0m\n\u001b[0;32m---> 24\u001b[0;31m     \u001b[0mmodel\u001b[0m\u001b[0;34m.\u001b[0m\u001b[0mfit\u001b[0m\u001b[0;34m(\u001b[0m\u001b[0mtrain_data\u001b[0m\u001b[0;34m,\u001b[0m \u001b[0mtrain_labels\u001b[0m\u001b[0;34m,\u001b[0m \u001b[0mepochs\u001b[0m\u001b[0;34m=\u001b[0m\u001b[0;36m5\u001b[0m\u001b[0;34m,\u001b[0m \u001b[0mverbose\u001b[0m\u001b[0;34m=\u001b[0m\u001b[0;36m2\u001b[0m\u001b[0;34m,\u001b[0m \u001b[0mclass_weight\u001b[0m\u001b[0;34m=\u001b[0m\u001b[0mclass_weight\u001b[0m\u001b[0;34m)\u001b[0m\u001b[0;34m\u001b[0m\u001b[0;34m\u001b[0m\u001b[0m\n\u001b[0m\u001b[1;32m     25\u001b[0m     \u001b[0m_\u001b[0m\u001b[0;34m,\u001b[0m \u001b[0mresults\u001b[0m \u001b[0;34m=\u001b[0m \u001b[0mmodel\u001b[0m\u001b[0;34m.\u001b[0m\u001b[0mevaluate\u001b[0m\u001b[0;34m(\u001b[0m\u001b[0mval_data\u001b[0m\u001b[0;34m,\u001b[0m \u001b[0mval_labels\u001b[0m\u001b[0;34m,\u001b[0m \u001b[0mverbose\u001b[0m\u001b[0;34m=\u001b[0m\u001b[0;36m0\u001b[0m\u001b[0;34m)\u001b[0m\u001b[0;34m\u001b[0m\u001b[0;34m\u001b[0m\u001b[0m\n\u001b[1;32m     26\u001b[0m     \u001b[0m_\u001b[0m\u001b[0;34m,\u001b[0m \u001b[0mresults_val\u001b[0m \u001b[0;34m=\u001b[0m \u001b[0mmodel\u001b[0m\u001b[0;34m.\u001b[0m\u001b[0mevaluate\u001b[0m\u001b[0;34m(\u001b[0m\u001b[0mmini_testing_2c9_data\u001b[0m\u001b[0;34m,\u001b[0m \u001b[0mmini_labels_testing_2c9_data\u001b[0m\u001b[0;34m,\u001b[0m \u001b[0mverbose\u001b[0m\u001b[0;34m=\u001b[0m\u001b[0;36m0\u001b[0m\u001b[0;34m)\u001b[0m\u001b[0;34m\u001b[0m\u001b[0;34m\u001b[0m\u001b[0m\n",
      "\u001b[0;32m~/miniconda3/lib/python3.7/site-packages/tensorflow_core/python/keras/engine/training.py\u001b[0m in \u001b[0;36mfit\u001b[0;34m(self, x, y, batch_size, epochs, verbose, callbacks, validation_split, validation_data, shuffle, class_weight, sample_weight, initial_epoch, steps_per_epoch, validation_steps, validation_freq, max_queue_size, workers, use_multiprocessing, **kwargs)\u001b[0m\n\u001b[1;32m    726\u001b[0m         \u001b[0mmax_queue_size\u001b[0m\u001b[0;34m=\u001b[0m\u001b[0mmax_queue_size\u001b[0m\u001b[0;34m,\u001b[0m\u001b[0;34m\u001b[0m\u001b[0;34m\u001b[0m\u001b[0m\n\u001b[1;32m    727\u001b[0m         \u001b[0mworkers\u001b[0m\u001b[0;34m=\u001b[0m\u001b[0mworkers\u001b[0m\u001b[0;34m,\u001b[0m\u001b[0;34m\u001b[0m\u001b[0;34m\u001b[0m\u001b[0m\n\u001b[0;32m--> 728\u001b[0;31m         use_multiprocessing=use_multiprocessing)\n\u001b[0m\u001b[1;32m    729\u001b[0m \u001b[0;34m\u001b[0m\u001b[0m\n\u001b[1;32m    730\u001b[0m   def evaluate(self,\n",
      "\u001b[0;32m~/miniconda3/lib/python3.7/site-packages/tensorflow_core/python/keras/engine/training_v2.py\u001b[0m in \u001b[0;36mfit\u001b[0;34m(self, model, x, y, batch_size, epochs, verbose, callbacks, validation_split, validation_data, shuffle, class_weight, sample_weight, initial_epoch, steps_per_epoch, validation_steps, validation_freq, **kwargs)\u001b[0m\n\u001b[1;32m    322\u001b[0m                 \u001b[0mmode\u001b[0m\u001b[0;34m=\u001b[0m\u001b[0mModeKeys\u001b[0m\u001b[0;34m.\u001b[0m\u001b[0mTRAIN\u001b[0m\u001b[0;34m,\u001b[0m\u001b[0;34m\u001b[0m\u001b[0;34m\u001b[0m\u001b[0m\n\u001b[1;32m    323\u001b[0m                 \u001b[0mtraining_context\u001b[0m\u001b[0;34m=\u001b[0m\u001b[0mtraining_context\u001b[0m\u001b[0;34m,\u001b[0m\u001b[0;34m\u001b[0m\u001b[0;34m\u001b[0m\u001b[0m\n\u001b[0;32m--> 324\u001b[0;31m                 total_epochs=epochs)\n\u001b[0m\u001b[1;32m    325\u001b[0m             \u001b[0mcbks\u001b[0m\u001b[0;34m.\u001b[0m\u001b[0mmake_logs\u001b[0m\u001b[0;34m(\u001b[0m\u001b[0mmodel\u001b[0m\u001b[0;34m,\u001b[0m \u001b[0mepoch_logs\u001b[0m\u001b[0;34m,\u001b[0m \u001b[0mtraining_result\u001b[0m\u001b[0;34m,\u001b[0m \u001b[0mModeKeys\u001b[0m\u001b[0;34m.\u001b[0m\u001b[0mTRAIN\u001b[0m\u001b[0;34m)\u001b[0m\u001b[0;34m\u001b[0m\u001b[0;34m\u001b[0m\u001b[0m\n\u001b[1;32m    326\u001b[0m \u001b[0;34m\u001b[0m\u001b[0m\n",
      "\u001b[0;32m~/miniconda3/lib/python3.7/site-packages/tensorflow_core/python/keras/engine/training_v2.py\u001b[0m in \u001b[0;36mrun_one_epoch\u001b[0;34m(model, iterator, execution_function, dataset_size, batch_size, strategy, steps_per_epoch, num_samples, mode, training_context, total_epochs)\u001b[0m\n\u001b[1;32m    121\u001b[0m         step=step, mode=mode, size=current_batch_size) as batch_logs:\n\u001b[1;32m    122\u001b[0m       \u001b[0;32mtry\u001b[0m\u001b[0;34m:\u001b[0m\u001b[0;34m\u001b[0m\u001b[0;34m\u001b[0m\u001b[0m\n\u001b[0;32m--> 123\u001b[0;31m         \u001b[0mbatch_outs\u001b[0m \u001b[0;34m=\u001b[0m \u001b[0mexecution_function\u001b[0m\u001b[0;34m(\u001b[0m\u001b[0miterator\u001b[0m\u001b[0;34m)\u001b[0m\u001b[0;34m\u001b[0m\u001b[0;34m\u001b[0m\u001b[0m\n\u001b[0m\u001b[1;32m    124\u001b[0m       \u001b[0;32mexcept\u001b[0m \u001b[0;34m(\u001b[0m\u001b[0mStopIteration\u001b[0m\u001b[0;34m,\u001b[0m \u001b[0merrors\u001b[0m\u001b[0;34m.\u001b[0m\u001b[0mOutOfRangeError\u001b[0m\u001b[0;34m)\u001b[0m\u001b[0;34m:\u001b[0m\u001b[0;34m\u001b[0m\u001b[0;34m\u001b[0m\u001b[0m\n\u001b[1;32m    125\u001b[0m         \u001b[0;31m# TODO(kaftan): File bug about tf function and errors.OutOfRangeError?\u001b[0m\u001b[0;34m\u001b[0m\u001b[0;34m\u001b[0m\u001b[0;34m\u001b[0m\u001b[0m\n",
      "\u001b[0;32m~/miniconda3/lib/python3.7/site-packages/tensorflow_core/python/keras/engine/training_v2_utils.py\u001b[0m in \u001b[0;36mexecution_function\u001b[0;34m(input_fn)\u001b[0m\n\u001b[1;32m     84\u001b[0m     \u001b[0;31m# `numpy` translates Tensors to values in Eager mode.\u001b[0m\u001b[0;34m\u001b[0m\u001b[0;34m\u001b[0m\u001b[0;34m\u001b[0m\u001b[0m\n\u001b[1;32m     85\u001b[0m     return nest.map_structure(_non_none_constant_value,\n\u001b[0;32m---> 86\u001b[0;31m                               distributed_function(input_fn))\n\u001b[0m\u001b[1;32m     87\u001b[0m \u001b[0;34m\u001b[0m\u001b[0m\n\u001b[1;32m     88\u001b[0m   \u001b[0;32mreturn\u001b[0m \u001b[0mexecution_function\u001b[0m\u001b[0;34m\u001b[0m\u001b[0;34m\u001b[0m\u001b[0m\n",
      "\u001b[0;32m~/miniconda3/lib/python3.7/site-packages/tensorflow_core/python/eager/def_function.py\u001b[0m in \u001b[0;36m__call__\u001b[0;34m(self, *args, **kwds)\u001b[0m\n\u001b[1;32m    455\u001b[0m \u001b[0;34m\u001b[0m\u001b[0m\n\u001b[1;32m    456\u001b[0m     \u001b[0mtracing_count\u001b[0m \u001b[0;34m=\u001b[0m \u001b[0mself\u001b[0m\u001b[0;34m.\u001b[0m\u001b[0m_get_tracing_count\u001b[0m\u001b[0;34m(\u001b[0m\u001b[0;34m)\u001b[0m\u001b[0;34m\u001b[0m\u001b[0;34m\u001b[0m\u001b[0m\n\u001b[0;32m--> 457\u001b[0;31m     \u001b[0mresult\u001b[0m \u001b[0;34m=\u001b[0m \u001b[0mself\u001b[0m\u001b[0;34m.\u001b[0m\u001b[0m_call\u001b[0m\u001b[0;34m(\u001b[0m\u001b[0;34m*\u001b[0m\u001b[0margs\u001b[0m\u001b[0;34m,\u001b[0m \u001b[0;34m**\u001b[0m\u001b[0mkwds\u001b[0m\u001b[0;34m)\u001b[0m\u001b[0;34m\u001b[0m\u001b[0;34m\u001b[0m\u001b[0m\n\u001b[0m\u001b[1;32m    458\u001b[0m     \u001b[0;32mif\u001b[0m \u001b[0mtracing_count\u001b[0m \u001b[0;34m==\u001b[0m \u001b[0mself\u001b[0m\u001b[0;34m.\u001b[0m\u001b[0m_get_tracing_count\u001b[0m\u001b[0;34m(\u001b[0m\u001b[0;34m)\u001b[0m\u001b[0;34m:\u001b[0m\u001b[0;34m\u001b[0m\u001b[0;34m\u001b[0m\u001b[0m\n\u001b[1;32m    459\u001b[0m       \u001b[0mself\u001b[0m\u001b[0;34m.\u001b[0m\u001b[0m_call_counter\u001b[0m\u001b[0;34m.\u001b[0m\u001b[0mcalled_without_tracing\u001b[0m\u001b[0;34m(\u001b[0m\u001b[0;34m)\u001b[0m\u001b[0;34m\u001b[0m\u001b[0;34m\u001b[0m\u001b[0m\n",
      "\u001b[0;32m~/miniconda3/lib/python3.7/site-packages/tensorflow_core/python/eager/def_function.py\u001b[0m in \u001b[0;36m_call\u001b[0;34m(self, *args, **kwds)\u001b[0m\n\u001b[1;32m    518\u001b[0m         \u001b[0;31m# Lifting succeeded, so variables are initialized and we can run the\u001b[0m\u001b[0;34m\u001b[0m\u001b[0;34m\u001b[0m\u001b[0;34m\u001b[0m\u001b[0m\n\u001b[1;32m    519\u001b[0m         \u001b[0;31m# stateless function.\u001b[0m\u001b[0;34m\u001b[0m\u001b[0;34m\u001b[0m\u001b[0;34m\u001b[0m\u001b[0m\n\u001b[0;32m--> 520\u001b[0;31m         \u001b[0;32mreturn\u001b[0m \u001b[0mself\u001b[0m\u001b[0;34m.\u001b[0m\u001b[0m_stateless_fn\u001b[0m\u001b[0;34m(\u001b[0m\u001b[0;34m*\u001b[0m\u001b[0margs\u001b[0m\u001b[0;34m,\u001b[0m \u001b[0;34m**\u001b[0m\u001b[0mkwds\u001b[0m\u001b[0;34m)\u001b[0m\u001b[0;34m\u001b[0m\u001b[0;34m\u001b[0m\u001b[0m\n\u001b[0m\u001b[1;32m    521\u001b[0m     \u001b[0;32melse\u001b[0m\u001b[0;34m:\u001b[0m\u001b[0;34m\u001b[0m\u001b[0;34m\u001b[0m\u001b[0m\n\u001b[1;32m    522\u001b[0m       \u001b[0mcanon_args\u001b[0m\u001b[0;34m,\u001b[0m \u001b[0mcanon_kwds\u001b[0m \u001b[0;34m=\u001b[0m\u001b[0;31m \u001b[0m\u001b[0;31m\\\u001b[0m\u001b[0;34m\u001b[0m\u001b[0;34m\u001b[0m\u001b[0m\n",
      "\u001b[0;32m~/miniconda3/lib/python3.7/site-packages/tensorflow_core/python/eager/function.py\u001b[0m in \u001b[0;36m__call__\u001b[0;34m(self, *args, **kwargs)\u001b[0m\n\u001b[1;32m   1820\u001b[0m   \u001b[0;32mdef\u001b[0m \u001b[0m__call__\u001b[0m\u001b[0;34m(\u001b[0m\u001b[0mself\u001b[0m\u001b[0;34m,\u001b[0m \u001b[0;34m*\u001b[0m\u001b[0margs\u001b[0m\u001b[0;34m,\u001b[0m \u001b[0;34m**\u001b[0m\u001b[0mkwargs\u001b[0m\u001b[0;34m)\u001b[0m\u001b[0;34m:\u001b[0m\u001b[0;34m\u001b[0m\u001b[0;34m\u001b[0m\u001b[0m\n\u001b[1;32m   1821\u001b[0m     \u001b[0;34m\"\"\"Calls a graph function specialized to the inputs.\"\"\"\u001b[0m\u001b[0;34m\u001b[0m\u001b[0;34m\u001b[0m\u001b[0m\n\u001b[0;32m-> 1822\u001b[0;31m     \u001b[0mgraph_function\u001b[0m\u001b[0;34m,\u001b[0m \u001b[0margs\u001b[0m\u001b[0;34m,\u001b[0m \u001b[0mkwargs\u001b[0m \u001b[0;34m=\u001b[0m \u001b[0mself\u001b[0m\u001b[0;34m.\u001b[0m\u001b[0m_maybe_define_function\u001b[0m\u001b[0;34m(\u001b[0m\u001b[0margs\u001b[0m\u001b[0;34m,\u001b[0m \u001b[0mkwargs\u001b[0m\u001b[0;34m)\u001b[0m\u001b[0;34m\u001b[0m\u001b[0;34m\u001b[0m\u001b[0m\n\u001b[0m\u001b[1;32m   1823\u001b[0m     \u001b[0;32mreturn\u001b[0m \u001b[0mgraph_function\u001b[0m\u001b[0;34m.\u001b[0m\u001b[0m_filtered_call\u001b[0m\u001b[0;34m(\u001b[0m\u001b[0margs\u001b[0m\u001b[0;34m,\u001b[0m \u001b[0mkwargs\u001b[0m\u001b[0;34m)\u001b[0m  \u001b[0;31m# pylint: disable=protected-access\u001b[0m\u001b[0;34m\u001b[0m\u001b[0;34m\u001b[0m\u001b[0m\n\u001b[1;32m   1824\u001b[0m \u001b[0;34m\u001b[0m\u001b[0m\n",
      "\u001b[0;32m~/miniconda3/lib/python3.7/site-packages/tensorflow_core/python/eager/function.py\u001b[0m in \u001b[0;36m_maybe_define_function\u001b[0;34m(self, args, kwargs)\u001b[0m\n\u001b[1;32m   2148\u001b[0m         \u001b[0mgraph_function\u001b[0m \u001b[0;34m=\u001b[0m \u001b[0mself\u001b[0m\u001b[0;34m.\u001b[0m\u001b[0m_function_cache\u001b[0m\u001b[0;34m.\u001b[0m\u001b[0mprimary\u001b[0m\u001b[0;34m.\u001b[0m\u001b[0mget\u001b[0m\u001b[0;34m(\u001b[0m\u001b[0mcache_key\u001b[0m\u001b[0;34m,\u001b[0m \u001b[0;32mNone\u001b[0m\u001b[0;34m)\u001b[0m\u001b[0;34m\u001b[0m\u001b[0;34m\u001b[0m\u001b[0m\n\u001b[1;32m   2149\u001b[0m         \u001b[0;32mif\u001b[0m \u001b[0mgraph_function\u001b[0m \u001b[0;32mis\u001b[0m \u001b[0;32mNone\u001b[0m\u001b[0;34m:\u001b[0m\u001b[0;34m\u001b[0m\u001b[0;34m\u001b[0m\u001b[0m\n\u001b[0;32m-> 2150\u001b[0;31m           \u001b[0mgraph_function\u001b[0m \u001b[0;34m=\u001b[0m \u001b[0mself\u001b[0m\u001b[0;34m.\u001b[0m\u001b[0m_create_graph_function\u001b[0m\u001b[0;34m(\u001b[0m\u001b[0margs\u001b[0m\u001b[0;34m,\u001b[0m \u001b[0mkwargs\u001b[0m\u001b[0;34m)\u001b[0m\u001b[0;34m\u001b[0m\u001b[0;34m\u001b[0m\u001b[0m\n\u001b[0m\u001b[1;32m   2151\u001b[0m           \u001b[0mself\u001b[0m\u001b[0;34m.\u001b[0m\u001b[0m_function_cache\u001b[0m\u001b[0;34m.\u001b[0m\u001b[0mprimary\u001b[0m\u001b[0;34m[\u001b[0m\u001b[0mcache_key\u001b[0m\u001b[0;34m]\u001b[0m \u001b[0;34m=\u001b[0m \u001b[0mgraph_function\u001b[0m\u001b[0;34m\u001b[0m\u001b[0;34m\u001b[0m\u001b[0m\n\u001b[1;32m   2152\u001b[0m         \u001b[0;32mreturn\u001b[0m \u001b[0mgraph_function\u001b[0m\u001b[0;34m,\u001b[0m \u001b[0margs\u001b[0m\u001b[0;34m,\u001b[0m \u001b[0mkwargs\u001b[0m\u001b[0;34m\u001b[0m\u001b[0;34m\u001b[0m\u001b[0m\n",
      "\u001b[0;32m~/miniconda3/lib/python3.7/site-packages/tensorflow_core/python/eager/function.py\u001b[0m in \u001b[0;36m_create_graph_function\u001b[0;34m(self, args, kwargs, override_flat_arg_shapes)\u001b[0m\n\u001b[1;32m   2039\u001b[0m             \u001b[0marg_names\u001b[0m\u001b[0;34m=\u001b[0m\u001b[0marg_names\u001b[0m\u001b[0;34m,\u001b[0m\u001b[0;34m\u001b[0m\u001b[0;34m\u001b[0m\u001b[0m\n\u001b[1;32m   2040\u001b[0m             \u001b[0moverride_flat_arg_shapes\u001b[0m\u001b[0;34m=\u001b[0m\u001b[0moverride_flat_arg_shapes\u001b[0m\u001b[0;34m,\u001b[0m\u001b[0;34m\u001b[0m\u001b[0;34m\u001b[0m\u001b[0m\n\u001b[0;32m-> 2041\u001b[0;31m             capture_by_value=self._capture_by_value),\n\u001b[0m\u001b[1;32m   2042\u001b[0m         \u001b[0mself\u001b[0m\u001b[0;34m.\u001b[0m\u001b[0m_function_attributes\u001b[0m\u001b[0;34m,\u001b[0m\u001b[0;34m\u001b[0m\u001b[0;34m\u001b[0m\u001b[0m\n\u001b[1;32m   2043\u001b[0m         \u001b[0;31m# Tell the ConcreteFunction to clean up its graph once it goes out of\u001b[0m\u001b[0;34m\u001b[0m\u001b[0;34m\u001b[0m\u001b[0;34m\u001b[0m\u001b[0m\n",
      "\u001b[0;32m~/miniconda3/lib/python3.7/site-packages/tensorflow_core/python/framework/func_graph.py\u001b[0m in \u001b[0;36mfunc_graph_from_py_func\u001b[0;34m(name, python_func, args, kwargs, signature, func_graph, autograph, autograph_options, add_control_dependencies, arg_names, op_return_value, collections, capture_by_value, override_flat_arg_shapes)\u001b[0m\n\u001b[1;32m    913\u001b[0m                                           converted_func)\n\u001b[1;32m    914\u001b[0m \u001b[0;34m\u001b[0m\u001b[0m\n\u001b[0;32m--> 915\u001b[0;31m       \u001b[0mfunc_outputs\u001b[0m \u001b[0;34m=\u001b[0m \u001b[0mpython_func\u001b[0m\u001b[0;34m(\u001b[0m\u001b[0;34m*\u001b[0m\u001b[0mfunc_args\u001b[0m\u001b[0;34m,\u001b[0m \u001b[0;34m**\u001b[0m\u001b[0mfunc_kwargs\u001b[0m\u001b[0;34m)\u001b[0m\u001b[0;34m\u001b[0m\u001b[0;34m\u001b[0m\u001b[0m\n\u001b[0m\u001b[1;32m    916\u001b[0m \u001b[0;34m\u001b[0m\u001b[0m\n\u001b[1;32m    917\u001b[0m       \u001b[0;31m# invariant: `func_outputs` contains only Tensors, CompositeTensors,\u001b[0m\u001b[0;34m\u001b[0m\u001b[0;34m\u001b[0m\u001b[0;34m\u001b[0m\u001b[0m\n",
      "\u001b[0;32m~/miniconda3/lib/python3.7/site-packages/tensorflow_core/python/eager/def_function.py\u001b[0m in \u001b[0;36mwrapped_fn\u001b[0;34m(*args, **kwds)\u001b[0m\n\u001b[1;32m    356\u001b[0m         \u001b[0;31m# __wrapped__ allows AutoGraph to swap in a converted function. We give\u001b[0m\u001b[0;34m\u001b[0m\u001b[0;34m\u001b[0m\u001b[0;34m\u001b[0m\u001b[0m\n\u001b[1;32m    357\u001b[0m         \u001b[0;31m# the function a weak reference to itself to avoid a reference cycle.\u001b[0m\u001b[0;34m\u001b[0m\u001b[0;34m\u001b[0m\u001b[0;34m\u001b[0m\u001b[0m\n\u001b[0;32m--> 358\u001b[0;31m         \u001b[0;32mreturn\u001b[0m \u001b[0mweak_wrapped_fn\u001b[0m\u001b[0;34m(\u001b[0m\u001b[0;34m)\u001b[0m\u001b[0;34m.\u001b[0m\u001b[0m__wrapped__\u001b[0m\u001b[0;34m(\u001b[0m\u001b[0;34m*\u001b[0m\u001b[0margs\u001b[0m\u001b[0;34m,\u001b[0m \u001b[0;34m**\u001b[0m\u001b[0mkwds\u001b[0m\u001b[0;34m)\u001b[0m\u001b[0;34m\u001b[0m\u001b[0;34m\u001b[0m\u001b[0m\n\u001b[0m\u001b[1;32m    359\u001b[0m     \u001b[0mweak_wrapped_fn\u001b[0m \u001b[0;34m=\u001b[0m \u001b[0mweakref\u001b[0m\u001b[0;34m.\u001b[0m\u001b[0mref\u001b[0m\u001b[0;34m(\u001b[0m\u001b[0mwrapped_fn\u001b[0m\u001b[0;34m)\u001b[0m\u001b[0;34m\u001b[0m\u001b[0;34m\u001b[0m\u001b[0m\n\u001b[1;32m    360\u001b[0m \u001b[0;34m\u001b[0m\u001b[0m\n",
      "\u001b[0;32m~/miniconda3/lib/python3.7/site-packages/tensorflow_core/python/keras/engine/training_v2_utils.py\u001b[0m in \u001b[0;36mdistributed_function\u001b[0;34m(input_iterator)\u001b[0m\n\u001b[1;32m     71\u001b[0m     \u001b[0mstrategy\u001b[0m \u001b[0;34m=\u001b[0m \u001b[0mdistribution_strategy_context\u001b[0m\u001b[0;34m.\u001b[0m\u001b[0mget_strategy\u001b[0m\u001b[0;34m(\u001b[0m\u001b[0;34m)\u001b[0m\u001b[0;34m\u001b[0m\u001b[0;34m\u001b[0m\u001b[0m\n\u001b[1;32m     72\u001b[0m     outputs = strategy.experimental_run_v2(\n\u001b[0;32m---> 73\u001b[0;31m         per_replica_function, args=(model, x, y, sample_weights))\n\u001b[0m\u001b[1;32m     74\u001b[0m     \u001b[0;31m# Out of PerReplica outputs reduce or pick values to return.\u001b[0m\u001b[0;34m\u001b[0m\u001b[0;34m\u001b[0m\u001b[0;34m\u001b[0m\u001b[0m\n\u001b[1;32m     75\u001b[0m     all_outputs = dist_utils.unwrap_output_dict(\n",
      "\u001b[0;32m~/miniconda3/lib/python3.7/site-packages/tensorflow_core/python/distribute/distribute_lib.py\u001b[0m in \u001b[0;36mexperimental_run_v2\u001b[0;34m(self, fn, args, kwargs)\u001b[0m\n\u001b[1;32m    758\u001b[0m       fn = autograph.tf_convert(fn, ag_ctx.control_status_ctx(),\n\u001b[1;32m    759\u001b[0m                                 convert_by_default=False)\n\u001b[0;32m--> 760\u001b[0;31m       \u001b[0;32mreturn\u001b[0m \u001b[0mself\u001b[0m\u001b[0;34m.\u001b[0m\u001b[0m_extended\u001b[0m\u001b[0;34m.\u001b[0m\u001b[0mcall_for_each_replica\u001b[0m\u001b[0;34m(\u001b[0m\u001b[0mfn\u001b[0m\u001b[0;34m,\u001b[0m \u001b[0margs\u001b[0m\u001b[0;34m=\u001b[0m\u001b[0margs\u001b[0m\u001b[0;34m,\u001b[0m \u001b[0mkwargs\u001b[0m\u001b[0;34m=\u001b[0m\u001b[0mkwargs\u001b[0m\u001b[0;34m)\u001b[0m\u001b[0;34m\u001b[0m\u001b[0;34m\u001b[0m\u001b[0m\n\u001b[0m\u001b[1;32m    761\u001b[0m \u001b[0;34m\u001b[0m\u001b[0m\n\u001b[1;32m    762\u001b[0m   \u001b[0;32mdef\u001b[0m \u001b[0mreduce\u001b[0m\u001b[0;34m(\u001b[0m\u001b[0mself\u001b[0m\u001b[0;34m,\u001b[0m \u001b[0mreduce_op\u001b[0m\u001b[0;34m,\u001b[0m \u001b[0mvalue\u001b[0m\u001b[0;34m,\u001b[0m \u001b[0maxis\u001b[0m\u001b[0;34m)\u001b[0m\u001b[0;34m:\u001b[0m\u001b[0;34m\u001b[0m\u001b[0;34m\u001b[0m\u001b[0m\n",
      "\u001b[0;32m~/miniconda3/lib/python3.7/site-packages/tensorflow_core/python/distribute/distribute_lib.py\u001b[0m in \u001b[0;36mcall_for_each_replica\u001b[0;34m(self, fn, args, kwargs)\u001b[0m\n\u001b[1;32m   1785\u001b[0m       \u001b[0mkwargs\u001b[0m \u001b[0;34m=\u001b[0m \u001b[0;34m{\u001b[0m\u001b[0;34m}\u001b[0m\u001b[0;34m\u001b[0m\u001b[0;34m\u001b[0m\u001b[0m\n\u001b[1;32m   1786\u001b[0m     \u001b[0;32mwith\u001b[0m \u001b[0mself\u001b[0m\u001b[0;34m.\u001b[0m\u001b[0m_container_strategy\u001b[0m\u001b[0;34m(\u001b[0m\u001b[0;34m)\u001b[0m\u001b[0;34m.\u001b[0m\u001b[0mscope\u001b[0m\u001b[0;34m(\u001b[0m\u001b[0;34m)\u001b[0m\u001b[0;34m:\u001b[0m\u001b[0;34m\u001b[0m\u001b[0;34m\u001b[0m\u001b[0m\n\u001b[0;32m-> 1787\u001b[0;31m       \u001b[0;32mreturn\u001b[0m \u001b[0mself\u001b[0m\u001b[0;34m.\u001b[0m\u001b[0m_call_for_each_replica\u001b[0m\u001b[0;34m(\u001b[0m\u001b[0mfn\u001b[0m\u001b[0;34m,\u001b[0m \u001b[0margs\u001b[0m\u001b[0;34m,\u001b[0m \u001b[0mkwargs\u001b[0m\u001b[0;34m)\u001b[0m\u001b[0;34m\u001b[0m\u001b[0;34m\u001b[0m\u001b[0m\n\u001b[0m\u001b[1;32m   1788\u001b[0m \u001b[0;34m\u001b[0m\u001b[0m\n\u001b[1;32m   1789\u001b[0m   \u001b[0;32mdef\u001b[0m \u001b[0m_call_for_each_replica\u001b[0m\u001b[0;34m(\u001b[0m\u001b[0mself\u001b[0m\u001b[0;34m,\u001b[0m \u001b[0mfn\u001b[0m\u001b[0;34m,\u001b[0m \u001b[0margs\u001b[0m\u001b[0;34m,\u001b[0m \u001b[0mkwargs\u001b[0m\u001b[0;34m)\u001b[0m\u001b[0;34m:\u001b[0m\u001b[0;34m\u001b[0m\u001b[0;34m\u001b[0m\u001b[0m\n",
      "\u001b[0;32m~/miniconda3/lib/python3.7/site-packages/tensorflow_core/python/distribute/distribute_lib.py\u001b[0m in \u001b[0;36m_call_for_each_replica\u001b[0;34m(self, fn, args, kwargs)\u001b[0m\n\u001b[1;32m   2130\u001b[0m         \u001b[0mself\u001b[0m\u001b[0;34m.\u001b[0m\u001b[0m_container_strategy\u001b[0m\u001b[0;34m(\u001b[0m\u001b[0;34m)\u001b[0m\u001b[0;34m,\u001b[0m\u001b[0;34m\u001b[0m\u001b[0;34m\u001b[0m\u001b[0m\n\u001b[1;32m   2131\u001b[0m         replica_id_in_sync_group=constant_op.constant(0, dtypes.int32)):\n\u001b[0;32m-> 2132\u001b[0;31m       \u001b[0;32mreturn\u001b[0m \u001b[0mfn\u001b[0m\u001b[0;34m(\u001b[0m\u001b[0;34m*\u001b[0m\u001b[0margs\u001b[0m\u001b[0;34m,\u001b[0m \u001b[0;34m**\u001b[0m\u001b[0mkwargs\u001b[0m\u001b[0;34m)\u001b[0m\u001b[0;34m\u001b[0m\u001b[0;34m\u001b[0m\u001b[0m\n\u001b[0m\u001b[1;32m   2133\u001b[0m \u001b[0;34m\u001b[0m\u001b[0m\n\u001b[1;32m   2134\u001b[0m   \u001b[0;32mdef\u001b[0m \u001b[0m_reduce_to\u001b[0m\u001b[0;34m(\u001b[0m\u001b[0mself\u001b[0m\u001b[0;34m,\u001b[0m \u001b[0mreduce_op\u001b[0m\u001b[0;34m,\u001b[0m \u001b[0mvalue\u001b[0m\u001b[0;34m,\u001b[0m \u001b[0mdestinations\u001b[0m\u001b[0;34m)\u001b[0m\u001b[0;34m:\u001b[0m\u001b[0;34m\u001b[0m\u001b[0;34m\u001b[0m\u001b[0m\n",
      "\u001b[0;32m~/miniconda3/lib/python3.7/site-packages/tensorflow_core/python/autograph/impl/api.py\u001b[0m in \u001b[0;36mwrapper\u001b[0;34m(*args, **kwargs)\u001b[0m\n\u001b[1;32m    290\u001b[0m   \u001b[0;32mdef\u001b[0m \u001b[0mwrapper\u001b[0m\u001b[0;34m(\u001b[0m\u001b[0;34m*\u001b[0m\u001b[0margs\u001b[0m\u001b[0;34m,\u001b[0m \u001b[0;34m**\u001b[0m\u001b[0mkwargs\u001b[0m\u001b[0;34m)\u001b[0m\u001b[0;34m:\u001b[0m\u001b[0;34m\u001b[0m\u001b[0;34m\u001b[0m\u001b[0m\n\u001b[1;32m    291\u001b[0m     \u001b[0;32mwith\u001b[0m \u001b[0mag_ctx\u001b[0m\u001b[0;34m.\u001b[0m\u001b[0mControlStatusCtx\u001b[0m\u001b[0;34m(\u001b[0m\u001b[0mstatus\u001b[0m\u001b[0;34m=\u001b[0m\u001b[0mag_ctx\u001b[0m\u001b[0;34m.\u001b[0m\u001b[0mStatus\u001b[0m\u001b[0;34m.\u001b[0m\u001b[0mDISABLED\u001b[0m\u001b[0;34m)\u001b[0m\u001b[0;34m:\u001b[0m\u001b[0;34m\u001b[0m\u001b[0;34m\u001b[0m\u001b[0m\n\u001b[0;32m--> 292\u001b[0;31m       \u001b[0;32mreturn\u001b[0m \u001b[0mfunc\u001b[0m\u001b[0;34m(\u001b[0m\u001b[0;34m*\u001b[0m\u001b[0margs\u001b[0m\u001b[0;34m,\u001b[0m \u001b[0;34m**\u001b[0m\u001b[0mkwargs\u001b[0m\u001b[0;34m)\u001b[0m\u001b[0;34m\u001b[0m\u001b[0;34m\u001b[0m\u001b[0m\n\u001b[0m\u001b[1;32m    293\u001b[0m \u001b[0;34m\u001b[0m\u001b[0m\n\u001b[1;32m    294\u001b[0m   \u001b[0;32mif\u001b[0m \u001b[0minspect\u001b[0m\u001b[0;34m.\u001b[0m\u001b[0misfunction\u001b[0m\u001b[0;34m(\u001b[0m\u001b[0mfunc\u001b[0m\u001b[0;34m)\u001b[0m \u001b[0;32mor\u001b[0m \u001b[0minspect\u001b[0m\u001b[0;34m.\u001b[0m\u001b[0mismethod\u001b[0m\u001b[0;34m(\u001b[0m\u001b[0mfunc\u001b[0m\u001b[0;34m)\u001b[0m\u001b[0;34m:\u001b[0m\u001b[0;34m\u001b[0m\u001b[0;34m\u001b[0m\u001b[0m\n",
      "\u001b[0;32m~/miniconda3/lib/python3.7/site-packages/tensorflow_core/python/keras/engine/training_v2_utils.py\u001b[0m in \u001b[0;36mtrain_on_batch\u001b[0;34m(model, x, y, sample_weight, class_weight, reset_metrics)\u001b[0m\n\u001b[1;32m    262\u001b[0m       \u001b[0my\u001b[0m\u001b[0;34m,\u001b[0m\u001b[0;34m\u001b[0m\u001b[0;34m\u001b[0m\u001b[0m\n\u001b[1;32m    263\u001b[0m       \u001b[0msample_weights\u001b[0m\u001b[0;34m=\u001b[0m\u001b[0msample_weights\u001b[0m\u001b[0;34m,\u001b[0m\u001b[0;34m\u001b[0m\u001b[0;34m\u001b[0m\u001b[0m\n\u001b[0;32m--> 264\u001b[0;31m       output_loss_metrics=model._output_loss_metrics)\n\u001b[0m\u001b[1;32m    265\u001b[0m \u001b[0;34m\u001b[0m\u001b[0m\n\u001b[1;32m    266\u001b[0m   \u001b[0;32mif\u001b[0m \u001b[0mreset_metrics\u001b[0m\u001b[0;34m:\u001b[0m\u001b[0;34m\u001b[0m\u001b[0;34m\u001b[0m\u001b[0m\n",
      "\u001b[0;32m~/miniconda3/lib/python3.7/site-packages/tensorflow_core/python/keras/engine/training_eager.py\u001b[0m in \u001b[0;36mtrain_on_batch\u001b[0;34m(model, inputs, targets, sample_weights, output_loss_metrics)\u001b[0m\n\u001b[1;32m    309\u001b[0m           \u001b[0msample_weights\u001b[0m\u001b[0;34m=\u001b[0m\u001b[0msample_weights\u001b[0m\u001b[0;34m,\u001b[0m\u001b[0;34m\u001b[0m\u001b[0;34m\u001b[0m\u001b[0m\n\u001b[1;32m    310\u001b[0m           \u001b[0mtraining\u001b[0m\u001b[0;34m=\u001b[0m\u001b[0;32mTrue\u001b[0m\u001b[0;34m,\u001b[0m\u001b[0;34m\u001b[0m\u001b[0;34m\u001b[0m\u001b[0m\n\u001b[0;32m--> 311\u001b[0;31m           output_loss_metrics=output_loss_metrics))\n\u001b[0m\u001b[1;32m    312\u001b[0m   \u001b[0;32mif\u001b[0m \u001b[0;32mnot\u001b[0m \u001b[0misinstance\u001b[0m\u001b[0;34m(\u001b[0m\u001b[0mouts\u001b[0m\u001b[0;34m,\u001b[0m \u001b[0mlist\u001b[0m\u001b[0;34m)\u001b[0m\u001b[0;34m:\u001b[0m\u001b[0;34m\u001b[0m\u001b[0;34m\u001b[0m\u001b[0m\n\u001b[1;32m    313\u001b[0m     \u001b[0mouts\u001b[0m \u001b[0;34m=\u001b[0m \u001b[0;34m[\u001b[0m\u001b[0mouts\u001b[0m\u001b[0;34m]\u001b[0m\u001b[0;34m\u001b[0m\u001b[0;34m\u001b[0m\u001b[0m\n",
      "\u001b[0;32m~/miniconda3/lib/python3.7/site-packages/tensorflow_core/python/keras/engine/training_eager.py\u001b[0m in \u001b[0;36m_process_single_batch\u001b[0;34m(model, inputs, targets, output_loss_metrics, sample_weights, training)\u001b[0m\n\u001b[1;32m    250\u001b[0m               \u001b[0moutput_loss_metrics\u001b[0m\u001b[0;34m=\u001b[0m\u001b[0moutput_loss_metrics\u001b[0m\u001b[0;34m,\u001b[0m\u001b[0;34m\u001b[0m\u001b[0;34m\u001b[0m\u001b[0m\n\u001b[1;32m    251\u001b[0m               \u001b[0msample_weights\u001b[0m\u001b[0;34m=\u001b[0m\u001b[0msample_weights\u001b[0m\u001b[0;34m,\u001b[0m\u001b[0;34m\u001b[0m\u001b[0;34m\u001b[0m\u001b[0m\n\u001b[0;32m--> 252\u001b[0;31m               training=training))\n\u001b[0m\u001b[1;32m    253\u001b[0m       \u001b[0;32mif\u001b[0m \u001b[0mtotal_loss\u001b[0m \u001b[0;32mis\u001b[0m \u001b[0;32mNone\u001b[0m\u001b[0;34m:\u001b[0m\u001b[0;34m\u001b[0m\u001b[0;34m\u001b[0m\u001b[0m\n\u001b[1;32m    254\u001b[0m         raise ValueError('The model cannot be run '\n",
      "\u001b[0;32m~/miniconda3/lib/python3.7/site-packages/tensorflow_core/python/keras/engine/training_eager.py\u001b[0m in \u001b[0;36m_model_loss\u001b[0;34m(model, inputs, targets, output_loss_metrics, sample_weights, training)\u001b[0m\n\u001b[1;32m    203\u001b[0m \u001b[0;34m\u001b[0m\u001b[0m\n\u001b[1;32m    204\u001b[0m     \u001b[0;31m# Add regularization losses\u001b[0m\u001b[0;34m\u001b[0m\u001b[0;34m\u001b[0m\u001b[0;34m\u001b[0m\u001b[0m\n\u001b[0;32m--> 205\u001b[0;31m     \u001b[0mcustom_losses\u001b[0m \u001b[0;34m=\u001b[0m \u001b[0mmodel\u001b[0m\u001b[0;34m.\u001b[0m\u001b[0mlosses\u001b[0m\u001b[0;34m\u001b[0m\u001b[0;34m\u001b[0m\u001b[0m\n\u001b[0m\u001b[1;32m    206\u001b[0m     \u001b[0;32mif\u001b[0m \u001b[0mcustom_losses\u001b[0m\u001b[0;34m:\u001b[0m\u001b[0;34m\u001b[0m\u001b[0;34m\u001b[0m\u001b[0m\n\u001b[1;32m    207\u001b[0m       total_loss += losses_utils.scale_loss_for_distribution(\n",
      "\u001b[0;32m~/miniconda3/lib/python3.7/site-packages/tensorflow_core/python/keras/engine/base_layer.py\u001b[0m in \u001b[0;36mlosses\u001b[0;34m(self)\u001b[0m\n\u001b[1;32m   1013\u001b[0m       \u001b[0;32mif\u001b[0m \u001b[0mloss_tensor\u001b[0m \u001b[0;32mis\u001b[0m \u001b[0;32mnot\u001b[0m \u001b[0;32mNone\u001b[0m\u001b[0;34m:\u001b[0m\u001b[0;34m\u001b[0m\u001b[0;34m\u001b[0m\u001b[0m\n\u001b[1;32m   1014\u001b[0m         \u001b[0mcollected_losses\u001b[0m\u001b[0;34m.\u001b[0m\u001b[0mappend\u001b[0m\u001b[0;34m(\u001b[0m\u001b[0mloss_tensor\u001b[0m\u001b[0;34m)\u001b[0m\u001b[0;34m\u001b[0m\u001b[0;34m\u001b[0m\u001b[0m\n\u001b[0;32m-> 1015\u001b[0;31m     \u001b[0;32mreturn\u001b[0m \u001b[0mcollected_losses\u001b[0m \u001b[0;34m+\u001b[0m \u001b[0mself\u001b[0m\u001b[0;34m.\u001b[0m\u001b[0m_gather_children_attribute\u001b[0m\u001b[0;34m(\u001b[0m\u001b[0;34m'losses'\u001b[0m\u001b[0;34m)\u001b[0m\u001b[0;34m\u001b[0m\u001b[0;34m\u001b[0m\u001b[0m\n\u001b[0m\u001b[1;32m   1016\u001b[0m \u001b[0;34m\u001b[0m\u001b[0m\n\u001b[1;32m   1017\u001b[0m   \u001b[0;34m@\u001b[0m\u001b[0mdoc_controls\u001b[0m\u001b[0;34m.\u001b[0m\u001b[0mfor_subclass_implementers\u001b[0m\u001b[0;34m\u001b[0m\u001b[0;34m\u001b[0m\u001b[0m\n",
      "\u001b[0;32m~/miniconda3/lib/python3.7/site-packages/tensorflow_core/python/keras/engine/base_layer.py\u001b[0m in \u001b[0;36m_gather_children_attribute\u001b[0;34m(self, attribute)\u001b[0m\n\u001b[1;32m   2334\u001b[0m       return list(\n\u001b[1;32m   2335\u001b[0m           itertools.chain.from_iterable(\n\u001b[0;32m-> 2336\u001b[0;31m               getattr(layer, attribute) for layer in nested_layers))\n\u001b[0m\u001b[1;32m   2337\u001b[0m     \u001b[0;32mreturn\u001b[0m \u001b[0;34m[\u001b[0m\u001b[0;34m]\u001b[0m\u001b[0;34m\u001b[0m\u001b[0;34m\u001b[0m\u001b[0m\n\u001b[1;32m   2338\u001b[0m \u001b[0;34m\u001b[0m\u001b[0m\n",
      "\u001b[0;32m~/miniconda3/lib/python3.7/site-packages/tensorflow_core/python/keras/engine/base_layer.py\u001b[0m in \u001b[0;36m<genexpr>\u001b[0;34m(.0)\u001b[0m\n\u001b[1;32m   2334\u001b[0m       return list(\n\u001b[1;32m   2335\u001b[0m           itertools.chain.from_iterable(\n\u001b[0;32m-> 2336\u001b[0;31m               getattr(layer, attribute) for layer in nested_layers))\n\u001b[0m\u001b[1;32m   2337\u001b[0m     \u001b[0;32mreturn\u001b[0m \u001b[0;34m[\u001b[0m\u001b[0;34m]\u001b[0m\u001b[0;34m\u001b[0m\u001b[0;34m\u001b[0m\u001b[0m\n\u001b[1;32m   2338\u001b[0m \u001b[0;34m\u001b[0m\u001b[0m\n",
      "\u001b[0;32m~/miniconda3/lib/python3.7/site-packages/tensorflow_core/python/keras/engine/base_layer.py\u001b[0m in \u001b[0;36mlosses\u001b[0;34m(self)\u001b[0m\n\u001b[1;32m   1010\u001b[0m       \u001b[0mcollected_losses\u001b[0m\u001b[0;34m.\u001b[0m\u001b[0mextend\u001b[0m\u001b[0;34m(\u001b[0m\u001b[0mself\u001b[0m\u001b[0;34m.\u001b[0m\u001b[0m_losses\u001b[0m\u001b[0;34m)\u001b[0m\u001b[0;34m\u001b[0m\u001b[0;34m\u001b[0m\u001b[0m\n\u001b[1;32m   1011\u001b[0m     \u001b[0;32mfor\u001b[0m \u001b[0mregularizer\u001b[0m \u001b[0;32min\u001b[0m \u001b[0mself\u001b[0m\u001b[0;34m.\u001b[0m\u001b[0m_callable_losses\u001b[0m\u001b[0;34m:\u001b[0m\u001b[0;34m\u001b[0m\u001b[0;34m\u001b[0m\u001b[0m\n\u001b[0;32m-> 1012\u001b[0;31m       \u001b[0mloss_tensor\u001b[0m \u001b[0;34m=\u001b[0m \u001b[0mregularizer\u001b[0m\u001b[0;34m(\u001b[0m\u001b[0;34m)\u001b[0m\u001b[0;34m\u001b[0m\u001b[0;34m\u001b[0m\u001b[0m\n\u001b[0m\u001b[1;32m   1013\u001b[0m       \u001b[0;32mif\u001b[0m \u001b[0mloss_tensor\u001b[0m \u001b[0;32mis\u001b[0m \u001b[0;32mnot\u001b[0m \u001b[0;32mNone\u001b[0m\u001b[0;34m:\u001b[0m\u001b[0;34m\u001b[0m\u001b[0;34m\u001b[0m\u001b[0m\n\u001b[1;32m   1014\u001b[0m         \u001b[0mcollected_losses\u001b[0m\u001b[0;34m.\u001b[0m\u001b[0mappend\u001b[0m\u001b[0;34m(\u001b[0m\u001b[0mloss_tensor\u001b[0m\u001b[0;34m)\u001b[0m\u001b[0;34m\u001b[0m\u001b[0;34m\u001b[0m\u001b[0m\n",
      "\u001b[0;32m~/miniconda3/lib/python3.7/site-packages/tensorflow_core/python/keras/engine/base_layer.py\u001b[0m in \u001b[0;36m_tag_unconditional\u001b[0;34m(loss)\u001b[0m\n\u001b[1;32m   1085\u001b[0m     \u001b[0;32mdef\u001b[0m \u001b[0m_tag_unconditional\u001b[0m\u001b[0;34m(\u001b[0m\u001b[0mloss\u001b[0m\u001b[0;34m)\u001b[0m\u001b[0;34m:\u001b[0m\u001b[0;34m\u001b[0m\u001b[0;34m\u001b[0m\u001b[0m\n\u001b[1;32m   1086\u001b[0m       \u001b[0;32mif\u001b[0m \u001b[0mcallable\u001b[0m\u001b[0;34m(\u001b[0m\u001b[0mloss\u001b[0m\u001b[0;34m)\u001b[0m\u001b[0;34m:\u001b[0m\u001b[0;34m\u001b[0m\u001b[0;34m\u001b[0m\u001b[0m\n\u001b[0;32m-> 1087\u001b[0;31m         \u001b[0mloss\u001b[0m \u001b[0;34m=\u001b[0m \u001b[0mloss\u001b[0m\u001b[0;34m(\u001b[0m\u001b[0;34m)\u001b[0m\u001b[0;34m\u001b[0m\u001b[0;34m\u001b[0m\u001b[0m\n\u001b[0m\u001b[1;32m   1088\u001b[0m       \u001b[0;32mif\u001b[0m \u001b[0mloss\u001b[0m \u001b[0;32mis\u001b[0m \u001b[0;32mNone\u001b[0m\u001b[0;34m:\u001b[0m\u001b[0;34m\u001b[0m\u001b[0;34m\u001b[0m\u001b[0m\n\u001b[1;32m   1089\u001b[0m         \u001b[0;32mreturn\u001b[0m \u001b[0;32mNone\u001b[0m  \u001b[0;31m# Will be filtered out when computing the .losses property\u001b[0m\u001b[0;34m\u001b[0m\u001b[0;34m\u001b[0m\u001b[0m\n",
      "\u001b[0;32m~/miniconda3/lib/python3.7/site-packages/tensorflow_core/python/keras/engine/base_layer.py\u001b[0m in \u001b[0;36m_loss_for_variable\u001b[0;34m(v)\u001b[0m\n\u001b[1;32m   1914\u001b[0m       \u001b[0;34m\"\"\"Creates a regularization loss `Tensor` for variable `v`.\"\"\"\u001b[0m\u001b[0;34m\u001b[0m\u001b[0;34m\u001b[0m\u001b[0m\n\u001b[1;32m   1915\u001b[0m       \u001b[0;32mwith\u001b[0m \u001b[0mbackend\u001b[0m\u001b[0;34m.\u001b[0m\u001b[0mname_scope\u001b[0m\u001b[0;34m(\u001b[0m\u001b[0mname\u001b[0m \u001b[0;34m+\u001b[0m \u001b[0;34m'/Regularizer'\u001b[0m\u001b[0;34m)\u001b[0m\u001b[0;34m:\u001b[0m\u001b[0;34m\u001b[0m\u001b[0;34m\u001b[0m\u001b[0m\n\u001b[0;32m-> 1916\u001b[0;31m         \u001b[0mregularization\u001b[0m \u001b[0;34m=\u001b[0m \u001b[0mregularizer\u001b[0m\u001b[0;34m(\u001b[0m\u001b[0mv\u001b[0m\u001b[0;34m)\u001b[0m\u001b[0;34m\u001b[0m\u001b[0;34m\u001b[0m\u001b[0m\n\u001b[0m\u001b[1;32m   1917\u001b[0m       \u001b[0;32mreturn\u001b[0m \u001b[0mregularization\u001b[0m\u001b[0;34m\u001b[0m\u001b[0;34m\u001b[0m\u001b[0m\n\u001b[1;32m   1918\u001b[0m \u001b[0;34m\u001b[0m\u001b[0m\n",
      "\u001b[0;32m~/miniconda3/lib/python3.7/site-packages/tensorflow_core/python/keras/regularizers.py\u001b[0m in \u001b[0;36m__call__\u001b[0;34m(self, x)\u001b[0m\n\u001b[1;32m     61\u001b[0m       \u001b[0mregularization\u001b[0m \u001b[0;34m+=\u001b[0m \u001b[0mself\u001b[0m\u001b[0;34m.\u001b[0m\u001b[0ml1\u001b[0m \u001b[0;34m*\u001b[0m \u001b[0mmath_ops\u001b[0m\u001b[0;34m.\u001b[0m\u001b[0mreduce_sum\u001b[0m\u001b[0;34m(\u001b[0m\u001b[0mmath_ops\u001b[0m\u001b[0;34m.\u001b[0m\u001b[0mabs\u001b[0m\u001b[0;34m(\u001b[0m\u001b[0mx\u001b[0m\u001b[0;34m)\u001b[0m\u001b[0;34m)\u001b[0m\u001b[0;34m\u001b[0m\u001b[0;34m\u001b[0m\u001b[0m\n\u001b[1;32m     62\u001b[0m     \u001b[0;32mif\u001b[0m \u001b[0mself\u001b[0m\u001b[0;34m.\u001b[0m\u001b[0ml2\u001b[0m\u001b[0;34m:\u001b[0m\u001b[0;34m\u001b[0m\u001b[0;34m\u001b[0m\u001b[0m\n\u001b[0;32m---> 63\u001b[0;31m       \u001b[0mregularization\u001b[0m \u001b[0;34m+=\u001b[0m \u001b[0mself\u001b[0m\u001b[0;34m.\u001b[0m\u001b[0ml2\u001b[0m \u001b[0;34m*\u001b[0m \u001b[0mmath_ops\u001b[0m\u001b[0;34m.\u001b[0m\u001b[0mreduce_sum\u001b[0m\u001b[0;34m(\u001b[0m\u001b[0mmath_ops\u001b[0m\u001b[0;34m.\u001b[0m\u001b[0msquare\u001b[0m\u001b[0;34m(\u001b[0m\u001b[0mx\u001b[0m\u001b[0;34m)\u001b[0m\u001b[0;34m)\u001b[0m\u001b[0;34m\u001b[0m\u001b[0;34m\u001b[0m\u001b[0m\n\u001b[0m\u001b[1;32m     64\u001b[0m     \u001b[0;32mreturn\u001b[0m \u001b[0mregularization\u001b[0m\u001b[0;34m\u001b[0m\u001b[0;34m\u001b[0m\u001b[0m\n\u001b[1;32m     65\u001b[0m \u001b[0;34m\u001b[0m\u001b[0m\n",
      "\u001b[0;32m~/miniconda3/lib/python3.7/site-packages/tensorflow_core/python/ops/math_ops.py\u001b[0m in \u001b[0;36mr_binary_op_wrapper\u001b[0;34m(y, x)\u001b[0m\n\u001b[1;32m    922\u001b[0m   \u001b[0;32mdef\u001b[0m \u001b[0mr_binary_op_wrapper\u001b[0m\u001b[0;34m(\u001b[0m\u001b[0my\u001b[0m\u001b[0;34m,\u001b[0m \u001b[0mx\u001b[0m\u001b[0;34m)\u001b[0m\u001b[0;34m:\u001b[0m\u001b[0;34m\u001b[0m\u001b[0;34m\u001b[0m\u001b[0m\n\u001b[1;32m    923\u001b[0m     \u001b[0;32mwith\u001b[0m \u001b[0mops\u001b[0m\u001b[0;34m.\u001b[0m\u001b[0mname_scope\u001b[0m\u001b[0;34m(\u001b[0m\u001b[0;32mNone\u001b[0m\u001b[0;34m,\u001b[0m \u001b[0mop_name\u001b[0m\u001b[0;34m,\u001b[0m \u001b[0;34m[\u001b[0m\u001b[0mx\u001b[0m\u001b[0;34m,\u001b[0m \u001b[0my\u001b[0m\u001b[0;34m]\u001b[0m\u001b[0;34m)\u001b[0m \u001b[0;32mas\u001b[0m \u001b[0mname\u001b[0m\u001b[0;34m:\u001b[0m\u001b[0;34m\u001b[0m\u001b[0;34m\u001b[0m\u001b[0m\n\u001b[0;32m--> 924\u001b[0;31m       \u001b[0mx\u001b[0m \u001b[0;34m=\u001b[0m \u001b[0mops\u001b[0m\u001b[0;34m.\u001b[0m\u001b[0mconvert_to_tensor\u001b[0m\u001b[0;34m(\u001b[0m\u001b[0mx\u001b[0m\u001b[0;34m,\u001b[0m \u001b[0mdtype\u001b[0m\u001b[0;34m=\u001b[0m\u001b[0my\u001b[0m\u001b[0;34m.\u001b[0m\u001b[0mdtype\u001b[0m\u001b[0;34m.\u001b[0m\u001b[0mbase_dtype\u001b[0m\u001b[0;34m,\u001b[0m \u001b[0mname\u001b[0m\u001b[0;34m=\u001b[0m\u001b[0;34m\"x\"\u001b[0m\u001b[0;34m)\u001b[0m\u001b[0;34m\u001b[0m\u001b[0;34m\u001b[0m\u001b[0m\n\u001b[0m\u001b[1;32m    925\u001b[0m       \u001b[0;32mreturn\u001b[0m \u001b[0mfunc\u001b[0m\u001b[0;34m(\u001b[0m\u001b[0mx\u001b[0m\u001b[0;34m,\u001b[0m \u001b[0my\u001b[0m\u001b[0;34m,\u001b[0m \u001b[0mname\u001b[0m\u001b[0;34m=\u001b[0m\u001b[0mname\u001b[0m\u001b[0;34m)\u001b[0m\u001b[0;34m\u001b[0m\u001b[0;34m\u001b[0m\u001b[0m\n\u001b[1;32m    926\u001b[0m \u001b[0;34m\u001b[0m\u001b[0m\n",
      "\u001b[0;32m~/miniconda3/lib/python3.7/site-packages/tensorflow_core/python/framework/ops.py\u001b[0m in \u001b[0;36mconvert_to_tensor\u001b[0;34m(value, dtype, name, preferred_dtype, dtype_hint)\u001b[0m\n\u001b[1;32m   1182\u001b[0m   preferred_dtype = deprecation.deprecated_argument_lookup(\n\u001b[1;32m   1183\u001b[0m       \"dtype_hint\", dtype_hint, \"preferred_dtype\", preferred_dtype)\n\u001b[0;32m-> 1184\u001b[0;31m   \u001b[0;32mreturn\u001b[0m \u001b[0mconvert_to_tensor_v2\u001b[0m\u001b[0;34m(\u001b[0m\u001b[0mvalue\u001b[0m\u001b[0;34m,\u001b[0m \u001b[0mdtype\u001b[0m\u001b[0;34m,\u001b[0m \u001b[0mpreferred_dtype\u001b[0m\u001b[0;34m,\u001b[0m \u001b[0mname\u001b[0m\u001b[0;34m)\u001b[0m\u001b[0;34m\u001b[0m\u001b[0;34m\u001b[0m\u001b[0m\n\u001b[0m\u001b[1;32m   1185\u001b[0m \u001b[0;34m\u001b[0m\u001b[0m\n\u001b[1;32m   1186\u001b[0m \u001b[0;34m\u001b[0m\u001b[0m\n",
      "\u001b[0;32m~/miniconda3/lib/python3.7/site-packages/tensorflow_core/python/framework/ops.py\u001b[0m in \u001b[0;36mconvert_to_tensor_v2\u001b[0;34m(value, dtype, dtype_hint, name)\u001b[0m\n\u001b[1;32m   1240\u001b[0m       \u001b[0mname\u001b[0m\u001b[0;34m=\u001b[0m\u001b[0mname\u001b[0m\u001b[0;34m,\u001b[0m\u001b[0;34m\u001b[0m\u001b[0;34m\u001b[0m\u001b[0m\n\u001b[1;32m   1241\u001b[0m       \u001b[0mpreferred_dtype\u001b[0m\u001b[0;34m=\u001b[0m\u001b[0mdtype_hint\u001b[0m\u001b[0;34m,\u001b[0m\u001b[0;34m\u001b[0m\u001b[0;34m\u001b[0m\u001b[0m\n\u001b[0;32m-> 1242\u001b[0;31m       as_ref=False)\n\u001b[0m\u001b[1;32m   1243\u001b[0m \u001b[0;34m\u001b[0m\u001b[0m\n\u001b[1;32m   1244\u001b[0m \u001b[0;34m\u001b[0m\u001b[0m\n",
      "\u001b[0;32m~/miniconda3/lib/python3.7/site-packages/tensorflow_core/python/framework/ops.py\u001b[0m in \u001b[0;36minternal_convert_to_tensor\u001b[0;34m(value, dtype, name, as_ref, preferred_dtype, ctx, accept_composite_tensors)\u001b[0m\n\u001b[1;32m   1294\u001b[0m \u001b[0;34m\u001b[0m\u001b[0m\n\u001b[1;32m   1295\u001b[0m     \u001b[0;32mif\u001b[0m \u001b[0mret\u001b[0m \u001b[0;32mis\u001b[0m \u001b[0;32mNone\u001b[0m\u001b[0;34m:\u001b[0m\u001b[0;34m\u001b[0m\u001b[0;34m\u001b[0m\u001b[0m\n\u001b[0;32m-> 1296\u001b[0;31m       \u001b[0mret\u001b[0m \u001b[0;34m=\u001b[0m \u001b[0mconversion_func\u001b[0m\u001b[0;34m(\u001b[0m\u001b[0mvalue\u001b[0m\u001b[0;34m,\u001b[0m \u001b[0mdtype\u001b[0m\u001b[0;34m=\u001b[0m\u001b[0mdtype\u001b[0m\u001b[0;34m,\u001b[0m \u001b[0mname\u001b[0m\u001b[0;34m=\u001b[0m\u001b[0mname\u001b[0m\u001b[0;34m,\u001b[0m \u001b[0mas_ref\u001b[0m\u001b[0;34m=\u001b[0m\u001b[0mas_ref\u001b[0m\u001b[0;34m)\u001b[0m\u001b[0;34m\u001b[0m\u001b[0;34m\u001b[0m\u001b[0m\n\u001b[0m\u001b[1;32m   1297\u001b[0m \u001b[0;34m\u001b[0m\u001b[0m\n\u001b[1;32m   1298\u001b[0m     \u001b[0;32mif\u001b[0m \u001b[0mret\u001b[0m \u001b[0;32mis\u001b[0m \u001b[0mNotImplemented\u001b[0m\u001b[0;34m:\u001b[0m\u001b[0;34m\u001b[0m\u001b[0;34m\u001b[0m\u001b[0m\n",
      "\u001b[0;32m~/miniconda3/lib/python3.7/site-packages/tensorflow_core/python/framework/tensor_conversion_registry.py\u001b[0m in \u001b[0;36m_default_conversion_function\u001b[0;34m(***failed resolving arguments***)\u001b[0m\n\u001b[1;32m     50\u001b[0m \u001b[0;32mdef\u001b[0m \u001b[0m_default_conversion_function\u001b[0m\u001b[0;34m(\u001b[0m\u001b[0mvalue\u001b[0m\u001b[0;34m,\u001b[0m \u001b[0mdtype\u001b[0m\u001b[0;34m,\u001b[0m \u001b[0mname\u001b[0m\u001b[0;34m,\u001b[0m \u001b[0mas_ref\u001b[0m\u001b[0;34m)\u001b[0m\u001b[0;34m:\u001b[0m\u001b[0;34m\u001b[0m\u001b[0;34m\u001b[0m\u001b[0m\n\u001b[1;32m     51\u001b[0m   \u001b[0;32mdel\u001b[0m \u001b[0mas_ref\u001b[0m  \u001b[0;31m# Unused.\u001b[0m\u001b[0;34m\u001b[0m\u001b[0;34m\u001b[0m\u001b[0m\n\u001b[0;32m---> 52\u001b[0;31m   \u001b[0;32mreturn\u001b[0m \u001b[0mconstant_op\u001b[0m\u001b[0;34m.\u001b[0m\u001b[0mconstant\u001b[0m\u001b[0;34m(\u001b[0m\u001b[0mvalue\u001b[0m\u001b[0;34m,\u001b[0m \u001b[0mdtype\u001b[0m\u001b[0;34m,\u001b[0m \u001b[0mname\u001b[0m\u001b[0;34m=\u001b[0m\u001b[0mname\u001b[0m\u001b[0;34m)\u001b[0m\u001b[0;34m\u001b[0m\u001b[0;34m\u001b[0m\u001b[0m\n\u001b[0m\u001b[1;32m     53\u001b[0m \u001b[0;34m\u001b[0m\u001b[0m\n\u001b[1;32m     54\u001b[0m \u001b[0;34m\u001b[0m\u001b[0m\n",
      "\u001b[0;32m~/miniconda3/lib/python3.7/site-packages/tensorflow_core/python/framework/constant_op.py\u001b[0m in \u001b[0;36mconstant\u001b[0;34m(value, dtype, shape, name)\u001b[0m\n\u001b[1;32m    225\u001b[0m   \"\"\"\n\u001b[1;32m    226\u001b[0m   return _constant_impl(value, dtype, shape, name, verify_shape=False,\n\u001b[0;32m--> 227\u001b[0;31m                         allow_broadcast=True)\n\u001b[0m\u001b[1;32m    228\u001b[0m \u001b[0;34m\u001b[0m\u001b[0m\n\u001b[1;32m    229\u001b[0m \u001b[0;34m\u001b[0m\u001b[0m\n",
      "\u001b[0;32m~/miniconda3/lib/python3.7/site-packages/tensorflow_core/python/framework/constant_op.py\u001b[0m in \u001b[0;36m_constant_impl\u001b[0;34m(value, dtype, shape, name, verify_shape, allow_broadcast)\u001b[0m\n\u001b[1;32m    263\u001b[0m       tensor_util.make_tensor_proto(\n\u001b[1;32m    264\u001b[0m           \u001b[0mvalue\u001b[0m\u001b[0;34m,\u001b[0m \u001b[0mdtype\u001b[0m\u001b[0;34m=\u001b[0m\u001b[0mdtype\u001b[0m\u001b[0;34m,\u001b[0m \u001b[0mshape\u001b[0m\u001b[0;34m=\u001b[0m\u001b[0mshape\u001b[0m\u001b[0;34m,\u001b[0m \u001b[0mverify_shape\u001b[0m\u001b[0;34m=\u001b[0m\u001b[0mverify_shape\u001b[0m\u001b[0;34m,\u001b[0m\u001b[0;34m\u001b[0m\u001b[0;34m\u001b[0m\u001b[0m\n\u001b[0;32m--> 265\u001b[0;31m           allow_broadcast=allow_broadcast))\n\u001b[0m\u001b[1;32m    266\u001b[0m   \u001b[0mdtype_value\u001b[0m \u001b[0;34m=\u001b[0m \u001b[0mattr_value_pb2\u001b[0m\u001b[0;34m.\u001b[0m\u001b[0mAttrValue\u001b[0m\u001b[0;34m(\u001b[0m\u001b[0mtype\u001b[0m\u001b[0;34m=\u001b[0m\u001b[0mtensor_value\u001b[0m\u001b[0;34m.\u001b[0m\u001b[0mtensor\u001b[0m\u001b[0;34m.\u001b[0m\u001b[0mdtype\u001b[0m\u001b[0;34m)\u001b[0m\u001b[0;34m\u001b[0m\u001b[0;34m\u001b[0m\u001b[0m\n\u001b[1;32m    267\u001b[0m   const_tensor = g.create_op(\n",
      "\u001b[0;32m~/miniconda3/lib/python3.7/site-packages/tensorflow_core/python/framework/tensor_util.py\u001b[0m in \u001b[0;36mmake_tensor_proto\u001b[0;34m(values, dtype, shape, verify_shape, allow_broadcast)\u001b[0m\n\u001b[1;32m    412\u001b[0m   \u001b[0;32mif\u001b[0m \u001b[0mallow_broadcast\u001b[0m \u001b[0;32mand\u001b[0m \u001b[0mverify_shape\u001b[0m\u001b[0;34m:\u001b[0m\u001b[0;34m\u001b[0m\u001b[0;34m\u001b[0m\u001b[0m\n\u001b[1;32m    413\u001b[0m     \u001b[0;32mraise\u001b[0m \u001b[0mValueError\u001b[0m\u001b[0;34m(\u001b[0m\u001b[0;34m\"allow_broadcast and verify_shape are not both allowed.\"\u001b[0m\u001b[0;34m)\u001b[0m\u001b[0;34m\u001b[0m\u001b[0;34m\u001b[0m\u001b[0m\n\u001b[0;32m--> 414\u001b[0;31m   \u001b[0;32mif\u001b[0m \u001b[0misinstance\u001b[0m\u001b[0;34m(\u001b[0m\u001b[0mvalues\u001b[0m\u001b[0;34m,\u001b[0m \u001b[0mtensor_pb2\u001b[0m\u001b[0;34m.\u001b[0m\u001b[0mTensorProto\u001b[0m\u001b[0;34m)\u001b[0m\u001b[0;34m:\u001b[0m\u001b[0;34m\u001b[0m\u001b[0;34m\u001b[0m\u001b[0m\n\u001b[0m\u001b[1;32m    415\u001b[0m     \u001b[0;32mreturn\u001b[0m \u001b[0mvalues\u001b[0m\u001b[0;34m\u001b[0m\u001b[0;34m\u001b[0m\u001b[0m\n\u001b[1;32m    416\u001b[0m \u001b[0;34m\u001b[0m\u001b[0m\n",
      "\u001b[0;31mKeyboardInterrupt\u001b[0m: "
     ]
    }
   ],
   "source": [
    "os.makedirs(\"hyperparameters_tunning/morgan_mordred_feature_selection\", exist_ok=True)\n",
    "with tf.summary.create_file_writer('hyperparameters_tunning/morgan_mordred_feature_selection').as_default():\n",
    "    hp.hparams_config(hparams=[HP_HIDDEN_LAYERS,HP_NEURONS, HP_DROPOUT, HP_OPTIMIZER, HP_L2, HP_LR],\n",
    "                      metrics=[hp.Metric(\"accuracy\", display_name='Accuracy'), hp.Metric(\"accuracy_val\", display_name=\"Validation_accuracy\")]) \n",
    "\n",
    "\n",
    "if hyperparam_tunning:\n",
    "    session_num = 0\n",
    "    looping = list(product(HP_NEURONS.domain.values, HP_HIDDEN_LAYERS.domain.values,[HP_DROPOUT.domain.min_value, HP_DROPOUT.domain.max_value], HP_OPTIMIZER.domain.values, [HP_L2.domain.min_value, HP_L2.domain.max_value], HP_LR.domain.values))\n",
    "    random.shuffle(looping)\n",
    "    #looping = product(HP_NEURONS.domain.values, HP_HIDDEN_LAYERS.domain.values, [HP_DROPOUT.domain.min_value, HP_DROPOUT.domain.max_value], HP_OPTIMIZER.domain.values, [HP_L2.domain.min_value, HP_L2.domain.max_value], HP_LR.domain.values)\n",
    "    total_runs = len(list(looping))\n",
    "    for neurons, hidden_lay, dropout, opt, l2, lr in looping:\n",
    "        hp_params = {HP_NEURONS: neurons, HP_HIDDEN_LAYERS: hidden_lay, HP_DROPOUT: dropout, HP_OPTIMIZER: opt, HP_L2: l2, HP_LR: lr}\n",
    "        if session_num % 10 == 0:\n",
    "            # clear everything every 10 models to avoid oom errors\n",
    "            tf.keras.backend.clear_session()\n",
    "        run_name = f\"run_{session_num}\"\n",
    "        print(f\"---Starting trial: {run_name} of {total_runs}\")\n",
    "        print({h.name: hp_params[h] for h in hp_params})\n",
    "        run('hyperparameters_tunning/morgan_mordred_feature_selection/logs/hparam_tuning/' + run_name, hp_params)\n",
    "        session_num += 1"
   ]
  },
  {
   "cell_type": "code",
   "execution_count": 162,
   "metadata": {},
   "outputs": [
    {
     "data": {
      "text/html": [
       "\n",
       "      <iframe id=\"tensorboard-frame-5668d6f9c2b1e923\" width=\"100%\" height=\"800\" frameborder=\"0\">\n",
       "      </iframe>\n",
       "      <script>\n",
       "        (function() {\n",
       "          const frame = document.getElementById(\"tensorboard-frame-5668d6f9c2b1e923\");\n",
       "          const url = new URL(\"/\", window.location);\n",
       "          url.port = 6006;\n",
       "          frame.src = url;\n",
       "        })();\n",
       "      </script>\n",
       "  "
      ],
      "text/plain": [
       "<IPython.core.display.HTML object>"
      ]
     },
     "metadata": {},
     "output_type": "display_data"
    }
   ],
   "source": [
    "%tensorboard --logdir hyperparameters_tunning/morgan_mordred_feature_selection/logs/hparam_tuning/"
   ]
  },
  {
   "cell_type": "code",
   "execution_count": null,
   "metadata": {},
   "outputs": [],
   "source": [
    "looping = product(HP_NEURONS_1.domain.values, HP_NEURONS_2.domain.values, [HP_DROPOUT.domain.min_value, HP_DROPOUT.domain.max_value], HP_OPTIMIZER.domain.values, [HP_L2.domain.min_value, HP_L2.domain.max_value], HP_LR.domain.values, repeat=2)\n",
    "type(looping)\n",
    "print(list(looping))"
   ]
  },
  {
   "cell_type": "code",
   "execution_count": 58,
   "metadata": {},
   "outputs": [
    {
     "ename": "KeyboardInterrupt",
     "evalue": "",
     "output_type": "error",
     "traceback": [
      "\u001b[0;31m---------------------------------------------------------------------------\u001b[0m",
      "\u001b[0;31mKeyboardInterrupt\u001b[0m                         Traceback (most recent call last)",
      "\u001b[0;32m<ipython-input-58-9160e994232e>\u001b[0m in \u001b[0;36m<module>\u001b[0;34m\u001b[0m\n\u001b[0;32m----> 1\u001b[0;31m \u001b[0mloop\u001b[0m \u001b[0;34m=\u001b[0m \u001b[0mrandom\u001b[0m\u001b[0;34m.\u001b[0m\u001b[0mshuffle\u001b[0m\u001b[0;34m(\u001b[0m\u001b[0mlist\u001b[0m\u001b[0;34m(\u001b[0m\u001b[0mlooping\u001b[0m\u001b[0;34m)\u001b[0m\u001b[0;34m)\u001b[0m\u001b[0;34m\u001b[0m\u001b[0;34m\u001b[0m\u001b[0m\n\u001b[0m\u001b[1;32m      2\u001b[0m \u001b[0mprint\u001b[0m\u001b[0;34m(\u001b[0m\u001b[0mloop\u001b[0m\u001b[0;34m)\u001b[0m\u001b[0;34m\u001b[0m\u001b[0;34m\u001b[0m\u001b[0m\n",
      "\u001b[0;32m~/miniconda3/lib/python3.7/random.py\u001b[0m in \u001b[0;36mshuffle\u001b[0;34m(self, x, random)\u001b[0m\n\u001b[1;32m    276\u001b[0m                 \u001b[0;31m# pick an element in x[:i+1] with which to exchange x[i]\u001b[0m\u001b[0;34m\u001b[0m\u001b[0;34m\u001b[0m\u001b[0;34m\u001b[0m\u001b[0m\n\u001b[1;32m    277\u001b[0m                 \u001b[0mj\u001b[0m \u001b[0;34m=\u001b[0m \u001b[0mrandbelow\u001b[0m\u001b[0;34m(\u001b[0m\u001b[0mi\u001b[0m\u001b[0;34m+\u001b[0m\u001b[0;36m1\u001b[0m\u001b[0;34m)\u001b[0m\u001b[0;34m\u001b[0m\u001b[0;34m\u001b[0m\u001b[0m\n\u001b[0;32m--> 278\u001b[0;31m                 \u001b[0mx\u001b[0m\u001b[0;34m[\u001b[0m\u001b[0mi\u001b[0m\u001b[0;34m]\u001b[0m\u001b[0;34m,\u001b[0m \u001b[0mx\u001b[0m\u001b[0;34m[\u001b[0m\u001b[0mj\u001b[0m\u001b[0;34m]\u001b[0m \u001b[0;34m=\u001b[0m \u001b[0mx\u001b[0m\u001b[0;34m[\u001b[0m\u001b[0mj\u001b[0m\u001b[0;34m]\u001b[0m\u001b[0;34m,\u001b[0m \u001b[0mx\u001b[0m\u001b[0;34m[\u001b[0m\u001b[0mi\u001b[0m\u001b[0;34m]\u001b[0m\u001b[0;34m\u001b[0m\u001b[0;34m\u001b[0m\u001b[0m\n\u001b[0m\u001b[1;32m    279\u001b[0m         \u001b[0;32melse\u001b[0m\u001b[0;34m:\u001b[0m\u001b[0;34m\u001b[0m\u001b[0;34m\u001b[0m\u001b[0m\n\u001b[1;32m    280\u001b[0m             \u001b[0m_int\u001b[0m \u001b[0;34m=\u001b[0m \u001b[0mint\u001b[0m\u001b[0;34m\u001b[0m\u001b[0;34m\u001b[0m\u001b[0m\n",
      "\u001b[0;31mKeyboardInterrupt\u001b[0m: "
     ]
    }
   ],
   "source": [
    "loop = random.shuffle(list(looping))\n",
    "print(loop)"
   ]
  },
  {
   "cell_type": "markdown",
   "metadata": {},
   "source": [
    "**To do:** \n",
    "\n",
    "- Intentar fer funcionar el for de manera random amb itertools\n",
    "- Fer els hyperparameters selection\n",
    "- Posar precisio i recall a les metric del hp\n"
   ]
  },
  {
   "cell_type": "code",
   "execution_count": 38,
   "metadata": {},
   "outputs": [
    {
     "name": "stdout",
     "output_type": "stream",
     "text": [
      "[(1, 'a', 10), (1, 'a', 20), (1, 'b', 10), (1, 'b', 20), (1, 'c', 10), (1, 'c', 20), (2, 'a', 10), (2, 'a', 20), (2, 'b', 10), (2, 'b', 20), (2, 'c', 10), (2, 'c', 20), (3, 'a', 10), (3, 'a', 20), (3, 'b', 10), (3, 'b', 20), (3, 'c', 10), (3, 'c', 20)]\n",
      "[(1, 'c', 10), (3, 'c', 10), (1, 'b', 10), (3, 'b', 20), (2, 'a', 10), (2, 'b', 20), (2, 'a', 20), (1, 'c', 20), (2, 'c', 10), (2, 'b', 10), (1, 'a', 10), (3, 'a', 20), (3, 'a', 10), (1, 'b', 20), (2, 'c', 20), (1, 'a', 20), (3, 'b', 10), (3, 'c', 20)]\n"
     ]
    }
   ],
   "source": [
    "import random\n",
    "\n",
    "x=[1,2,3]\n",
    "y=['a','b','c']\n",
    "z=[10,20]\n",
    "looping = list(product(x,y,z))\n",
    "print(looping)\n",
    "random.shuffle(looping)\n",
    "print(looping)\n",
    "def foo(x,y,z):\n",
    "    print(x,y,z)\n"
   ]
  },
  {
   "cell_type": "code",
   "execution_count": 32,
   "metadata": {},
   "outputs": [
    {
     "name": "stdout",
     "output_type": "stream",
     "text": [
      "1 3 0\n",
      "1 3 1\n",
      "1 4 0\n",
      "1 4 1\n",
      "2 3 0\n",
      "2 3 1\n",
      "2 4 0\n",
      "2 4 1\n",
      "3 3 0\n",
      "3 3 1\n",
      "3 4 0\n",
      "3 4 1\n"
     ]
    }
   ],
   "source": [
    "for comb in aa:\n",
    "    foo(*comb)"
   ]
  },
  {
   "cell_type": "code",
   "execution_count": 9,
   "metadata": {},
   "outputs": [
    {
     "name": "stdout",
     "output_type": "stream",
     "text": [
      "[]\n"
     ]
    }
   ],
   "source": [
    "print(list(looping))"
   ]
  },
  {
   "cell_type": "code",
   "execution_count": 36,
   "metadata": {},
   "outputs": [
    {
     "name": "stdout",
     "output_type": "stream",
     "text": [
      "[(1, 3, 0), (1, 3, 1), (1, 4, 0), (1, 4, 1), (2, 3, 0), (2, 3, 1), (2, 4, 0), (2, 4, 1), (3, 3, 0), (3, 3, 1), (3, 4, 0), (3, 4, 1)]\n",
      "[(2, 4, 1), (2, 4, 0), (3, 3, 0), (3, 4, 1), (3, 3, 1), (2, 3, 1), (1, 3, 1), (1, 4, 1), (1, 4, 0), (2, 3, 0), (1, 3, 0), (3, 4, 0)]\n"
     ]
    }
   ],
   "source": [
    "aa=list(product([1,2,3],[3,4],[0,1]))\n",
    "print(aa)\n",
    "random.shuffle(aa)\n",
    "print(aa)"
   ]
  },
  {
   "cell_type": "code",
   "execution_count": 94,
   "metadata": {},
   "outputs": [],
   "source": [
    "looping = list(product([HP_DROPOUT.domain.min_value, HP_DROPOUT.domain.max_value], HP_OPTIMIZER.domain.values, [HP_L2.domain.min_value, HP_L2.domain.max_value], HP_LR.domain.values))\n",
    "#print(looping)"
   ]
  },
  {
   "cell_type": "code",
   "execution_count": 95,
   "metadata": {},
   "outputs": [],
   "source": [
    "random.shuffle(looping)"
   ]
  },
  {
   "cell_type": "code",
   "execution_count": 96,
   "metadata": {},
   "outputs": [
    {
     "name": "stdout",
     "output_type": "stream",
     "text": [
      "[(0.2, 'RMSprop', 0.01, 0.01), (0.5, 'adam', 0.001, 0.0001), (0.5, 'sgd', 0.01, 0.01), (0.2, 'sgd', 0.01, 0.0001), (0.2, 'sgd', 0.01, 0.01), (0.2, 'RMSprop', 0.01, 1.0), (0.2, 'sgd', 0.001, 1.0), (0.5, 'RMSprop', 0.001, 0.01), (0.2, 'sgd', 0.01, 0.1), (0.5, 'sgd', 0.01, 1.0), (0.5, 'sgd', 0.001, 0.1), (0.5, 'RMSprop', 0.001, 1.0), (0.5, 'RMSprop', 0.01, 0.1), (0.5, 'RMSprop', 0.01, 0.01), (0.5, 'sgd', 0.001, 0.001), (0.2, 'adam', 0.001, 0.0001), (0.5, 'RMSprop', 0.01, 0.001), (0.2, 'adam', 0.01, 1.0), (0.2, 'adam', 0.001, 0.01), (0.2, 'adam', 0.01, 0.0001), (0.5, 'adam', 0.01, 0.1), (0.5, 'adam', 0.01, 1.0), (0.5, 'RMSprop', 0.01, 0.0001), (0.5, 'sgd', 0.001, 0.0001), (0.5, 'adam', 0.01, 0.01), (0.2, 'RMSprop', 0.01, 0.0001), (0.5, 'sgd', 0.01, 0.001), (0.2, 'adam', 0.01, 0.1), (0.2, 'adam', 0.001, 0.1), (0.5, 'RMSprop', 0.001, 0.1), (0.2, 'adam', 0.01, 0.01), (0.2, 'RMSprop', 0.001, 0.1), (0.2, 'sgd', 0.001, 0.0001), (0.5, 'RMSprop', 0.01, 1.0), (0.2, 'RMSprop', 0.001, 0.001), (0.2, 'adam', 0.001, 1.0), (0.5, 'adam', 0.001, 1.0), (0.5, 'adam', 0.01, 0.001), (0.5, 'adam', 0.001, 0.001), (0.5, 'adam', 0.001, 0.01), (0.5, 'sgd', 0.01, 0.1), (0.2, 'RMSprop', 0.001, 0.0001), (0.5, 'sgd', 0.01, 0.0001), (0.2, 'adam', 0.001, 0.001), (0.5, 'RMSprop', 0.001, 0.0001), (0.2, 'RMSprop', 0.01, 0.001), (0.5, 'adam', 0.01, 0.0001), (0.2, 'sgd', 0.01, 0.001), (0.2, 'adam', 0.01, 0.001), (0.2, 'sgd', 0.001, 0.001), (0.2, 'sgd', 0.001, 0.1), (0.2, 'sgd', 0.01, 1.0), (0.2, 'RMSprop', 0.01, 0.1), (0.5, 'adam', 0.001, 0.1), (0.2, 'RMSprop', 0.001, 0.01), (0.5, 'sgd', 0.001, 0.01), (0.5, 'sgd', 0.001, 1.0), (0.2, 'sgd', 0.001, 0.01), (0.5, 'RMSprop', 0.001, 0.001), (0.2, 'RMSprop', 0.001, 1.0)]\n"
     ]
    }
   ],
   "source": [
    "print(looping)"
   ]
  },
  {
   "cell_type": "code",
   "execution_count": null,
   "metadata": {},
   "outputs": [],
   "source": []
  }
 ],
 "metadata": {
  "kernelspec": {
   "display_name": "Python 3",
   "language": "python",
   "name": "python3"
  },
  "language_info": {
   "codemirror_mode": {
    "name": "ipython",
    "version": 3
   },
   "file_extension": ".py",
   "mimetype": "text/x-python",
   "name": "python",
   "nbconvert_exporter": "python",
   "pygments_lexer": "ipython3",
   "version": "3.7.7"
  }
 },
 "nbformat": 4,
 "nbformat_minor": 4
}
